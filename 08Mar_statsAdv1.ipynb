{
  "nbformat": 4,
  "nbformat_minor": 0,
  "metadata": {
    "colab": {
      "provenance": []
    },
    "kernelspec": {
      "name": "python3",
      "display_name": "Python 3"
    },
    "language_info": {
      "name": "python"
    }
  },
  "cells": [
    {
      "cell_type": "markdown",
      "source": [
        "# Q1. What is the Probability density function?\n",
        "Ans: \\\n",
        "###  Q1. What is the Probability Density Function (PDF)?\n",
        "\n",
        "The **Probability Density Function (PDF)** is a statistical function that describes the **likelihood** of a continuous random variable taking on a particular value.\n",
        "\n",
        "---\n",
        "\n",
        "###  Key Points:\n",
        "\n",
        "- PDF is used with **continuous** random variables (e.g., height, weight, time).\n",
        "- The value of the PDF at a specific point is **not** the probability itself.\n",
        "- Instead, the **area under the curve** of the PDF **between two points** gives the **probability** of the variable falling within that interval.\n",
        "\n",
        "---\n",
        "\n",
        "###  For Example:\n",
        "\n",
        "Let’s say we have a random variable `X` representing the height of people in cm, and it follows a **normal distribution**.\n",
        "\n",
        "The PDF of `X` looks like a **bell-shaped curve**, and:\n",
        "\n",
        "- The **probability that X = 170** exactly is **0** (since it's a single point in a continuous range).\n",
        "- But the **probability that X is between 170 and 180** is equal to the **area under the curve** from 170 to 180.\n",
        "\n",
        "---\n",
        "\n",
        "###  Formula (for normal distribution):\n",
        "\n",
        "For a normal distribution with mean μ and standard deviation σ:\n",
        "\n",
        "\\[\n",
        "f(x) = \\frac{1}{\\sqrt{2\\pi\\sigma^2}} \\, e^{-\\frac{(x - \\mu)^2}{2\\sigma^2}}\n",
        "\\]\n",
        "\n",
        "---\n",
        "\n",
        "###  Summary:\n",
        "\n",
        "- **PDF shows the density**, not the actual probability.\n",
        "- To get the probability, we **integrate** the PDF over an interval.\n",
        "- The **total area under the PDF curve is 1**, representing 100% probability."
      ],
      "metadata": {
        "id": "9gknxvibIGOk"
      }
    },
    {
      "cell_type": "markdown",
      "source": [
        "# Q2. What are the types of Probability distribution?\n",
        "Ans: \\\n",
        "\n",
        "Probability distributions describe how the values of a random variable are spread or distributed. These are mainly categorized based on whether the variable is **discrete** or **continuous**.\n",
        "\n",
        "---\n",
        "\n",
        "###  **1. Discrete Probability Distributions**\n",
        "\n",
        "These are used when the random variable can take **countable values**.\n",
        "\n",
        "#### Common Types:\n",
        "\n",
        "| Distribution | Description | Example |\n",
        "|--------------|-------------|---------|\n",
        "| **Bernoulli** | Models binary outcomes (0 or 1) | Tossing a coin once |\n",
        "| **Binomial** | Repeated Bernoulli trials (n times) | Tossing a coin 10 times |\n",
        "| **Poisson** | Models number of events in a fixed interval | Number of emails received per hour |\n",
        "| **Geometric** | Number of trials until the first success | Flipping a coin until heads |\n",
        "\n",
        "---\n",
        "\n",
        "###  **2. Continuous Probability Distributions**\n",
        "\n",
        "These are used when the variable can take **infinite values** within a range.\n",
        "\n",
        "####  Common Types:\n",
        "\n",
        "| Distribution | Description | Example |\n",
        "|--------------|-------------|---------|\n",
        "| **Normal (Gaussian)** | Bell-shaped curve, most common | Heights, IQ scores |\n",
        "| **Uniform** | All outcomes equally likely in a range | Rolling a fair die (if considered continuous) |\n",
        "| **Exponential** | Time between events in a Poisson process | Time until next earthquake |\n",
        "| **Beta** | For probabilities between 0 and 1 | A/B testing |\n",
        "| **Gamma** | Generalization of exponential | Waiting times |\n",
        "\n",
        "---\n",
        "\n",
        "###  Summary:\n",
        "\n",
        "- **Discrete**: Deals with **specific outcomes** (countable).\n",
        "- **Continuous**: Deals with a **range of values** (uncountable).\n",
        "- Each type has its own **use cases** in data science, statistics, and real-world modeling."
      ],
      "metadata": {
        "id": "mnRhiA58IGmp"
      }
    },
    {
      "cell_type": "code",
      "source": [
        "# Q3. Write a Python function to calculate the probability density function of a normal distribution with\n",
        "# given mean and standard deviation at a given point.\n",
        "import math\n",
        "\n",
        "def normal_pdf(x, mean, std_dev):\n",
        "    exponent = math.exp(-0.5 * ((x - mean) / std_dev) ** 2)\n",
        "    denominator = std_dev * math.sqrt(2 * math.pi)\n",
        "    return exponent / denominator\n",
        "\n",
        "x_value = 5\n",
        "mu = 4\n",
        "sigma = 1.2\n",
        "\n",
        "pdf_value = normal_pdf(x_value, mu, sigma)\n",
        "print(f\"The PDF value at x = {x_value} is: {pdf_value:.5f}\")\n"
      ],
      "metadata": {
        "colab": {
          "base_uri": "https://localhost:8080/"
        },
        "id": "PBJieKU-KBD0",
        "outputId": "d07a96e2-a9e9-4219-e611-ef1c15b664fa"
      },
      "execution_count": 1,
      "outputs": [
        {
          "output_type": "stream",
          "name": "stdout",
          "text": [
            "The PDF value at x = 5 is: 0.23493\n"
          ]
        }
      ]
    },
    {
      "cell_type": "markdown",
      "source": [
        "# Q4. What are the properties of Binomial distribution? Give two examples of events where binomial distribution can be applied.\n",
        "Ans: \\\n",
        "###  **Properties of Binomial Distribution**\n",
        "\n",
        "The **Binomial distribution** is a discrete probability distribution that models the number of **successes** in a fixed number of **independent** Bernoulli trials (each having two outcomes: success or failure).\n",
        "\n",
        "---\n",
        "\n",
        "###  **Key Properties:**\n",
        "\n",
        "1. **Fixed number of trials (n)**  \n",
        "   The experiment is repeated *n* times.\n",
        "\n",
        "2. **Only two outcomes**  \n",
        "   Each trial has only two possible outcomes: **Success (S)** or **Failure (F)**.\n",
        "\n",
        "3. **Constant probability of success (p)**  \n",
        "   The probability of success is the same for every trial.\n",
        "\n",
        "4. **Independence**  \n",
        "   The outcome of one trial does **not affect** the outcome of another.\n",
        "\n",
        "5. **Random variable**  \n",
        "   The distribution models the number of successes in *n* trials.\n",
        "\n",
        "---\n",
        "\n",
        "###  **Probability Mass Function (PMF):**\n",
        "\\[\n",
        "P(X = k) = \\binom{n}{k} p^k (1-p)^{n-k}\n",
        "\\]\n",
        "Where:  \n",
        "- \\( X \\) = number of successes  \n",
        "- \\( n \\) = number of trials  \n",
        "- \\( p \\) = probability of success  \n",
        "- \\( \\binom{n}{k} \\) = combinations (n choose k)\n",
        "\n",
        "---\n",
        "\n",
        "### **Examples Where Binomial Distribution Applies:**\n",
        "\n",
        "1. **Tossing a coin 10 times**  \n",
        "   - Success = Getting Heads  \n",
        "   - n = 10, p = 0.5\n",
        "\n",
        "2. **Quality control in manufacturing**  \n",
        "   - Checking 20 products, where success = product is defective  \n",
        "   - n = 20, p = probability of a defective product"
      ],
      "metadata": {
        "id": "3OiwZX2PIGru"
      }
    },
    {
      "cell_type": "code",
      "source": [
        "# Q5. Generate a random sample of size 1000 from a binomial distribution with probability of success 0.4\n",
        "# and plot a histogram of the results using matplotlib.\n",
        "import numpy as np\n",
        "import matplotlib.pyplot as plt\n",
        "\n",
        "# Parameters\n",
        "n = 10  # number of trials per experiment\n",
        "p = 0.4  # probability of success\n",
        "size = 1000  # number of experiments\n",
        "\n",
        "# Generate random sample\n",
        "sample = np.random.binomial(n=n, p=p, size=size)\n",
        "\n",
        "# Plot histogram\n",
        "plt.hist(sample, bins=range(n+2), edgecolor='black', align='left')\n",
        "plt.title('Histogram of Binomial Distribution (n=10, p=0.4)')\n",
        "plt.xlabel('Number of Successes')\n",
        "plt.ylabel('Frequency')\n",
        "plt.grid(axis='y', linestyle='--', alpha=0.7)\n",
        "plt.show()\n"
      ],
      "metadata": {
        "colab": {
          "base_uri": "https://localhost:8080/",
          "height": 472
        },
        "id": "PoJE17HkL8so",
        "outputId": "7a4cbd89-99f9-449c-d9f8-ab48a28a364a"
      },
      "execution_count": 2,
      "outputs": [
        {
          "output_type": "display_data",
          "data": {
            "text/plain": [
              "<Figure size 640x480 with 1 Axes>"
            ],
            "image/png": "[encoded data removed]"
          },
          "metadata": {}
        }
      ]
    },
    {
      "cell_type": "code",
      "source": [
        "# Q6. Write a Python function to calculate the cumulative distribution function of a Poisson distribution\n",
        "# with given mean at a given point.\n",
        "\"\"\"\n",
        "The Cumulative Distribution Function (CDF) is a fundamental concept in probability and statistics that describes the probability\n",
        "that a random variable takes on a value less than or equal to a specific value. In the context of a Poisson distribution, the CDF\n",
        "gives the probability that the random variable is less than or equal to a given value\n",
        "\n",
        "Definition:\n",
        "\n",
        "For a random variable ( X ), the CDF at a value ( x ) is:\n",
        "F(x) = P(X <= x)\n",
        "\n",
        "It gives the cumulative probability up to and including ( x ).\n",
        "\n",
        "Example:\n",
        "\n",
        "Suppose we roll a fair 6-sided die (values: 1 through 6).\n",
        "- The probability of getting 3 or less (i.e.,( P(X<3)) is:\n",
        "\n",
        "\n",
        "F(3) = P(1) + P(2) + P(3) = 1\\6 + 1\\6 + 1\\6 = 0.5\n",
        "\n",
        "\n",
        "So the CDF at 3 is 0.5, meaning there's a 50% chance the result is 3 or lower.\n",
        "\n",
        "\n",
        "In Continuous Distributions:\n",
        "For a normal distribution, the CDF tells you the probability that a value falls below a given threshold. For example:\n",
        "\n",
        "- ( P(X <= 1.96) in a standard normal distribution ≈ **0.975**\n",
        "\n",
        "\n",
        "Key Points:\n",
        "- The CDF always increases or stays the same (never decreases).\n",
        "- It ranges from 0 to 1.\n",
        "- At the maximum possible value, the CDF is 1 (i.e., 100% probability the variable is less than or equal to that value).\n",
        "\"\"\"\n",
        "import math\n",
        "from scipy.stats import poisson\n",
        "\n",
        "def poisson_cdf(mean, x):\n",
        "    cdf = poisson.cdf(x, mean)\n",
        "    return cdf\n",
        "\n",
        "mean = 5 # mean of a distribution (lambda)\n",
        "x = 5 # at a given point\n",
        "result = poisson_cdf(mean,x)\n",
        "print(f\"The cdf at x = {x} is {result}\")"
      ],
      "metadata": {
        "colab": {
          "base_uri": "https://localhost:8080/"
        },
        "id": "2-e7z9GeMqOT",
        "outputId": "64047e69-7711-460f-c455-a96e6abf71b1"
      },
      "execution_count": 4,
      "outputs": [
        {
          "output_type": "stream",
          "name": "stdout",
          "text": [
            "The cdf at x = 5 is 0.615960654833063\n"
          ]
        }
      ]
    },
    {
      "cell_type": "markdown",
      "source": [
        "# Q7. How Binomial distribution different from Poisson distribution?\n",
        "Ans: \\\n",
        "The **Binomial** and **Poisson** distributions are both **discrete probability distributions**, but they are used in different contexts and have distinct properties.\n",
        "\n",
        "---\n",
        "\n",
        "###  **Binomial Distribution**\n",
        "\n",
        "- **Used when:** You have a fixed number of **independent** trials.\n",
        "- **Each trial has only two outcomes:** Success or Failure.\n",
        "- **Parameters:**\n",
        "  - \\( n \\): number of trials\n",
        "  - \\( p \\): probability of success in each trial\n",
        "- **Example:**\n",
        "  - Flipping a coin 10 times and counting how many times it lands on heads.\n",
        "  - Number of students who pass an exam out of 50, assuming each has a 70% chance to pass.\n",
        "\n",
        "---\n",
        "\n",
        "###  **Poisson Distribution**\n",
        "\n",
        "- **Used when:** You're counting the number of events that happen in a **fixed interval of time or space**, where events occur independently and at a constant average rate.\n",
        "- **Parameter:**\n",
        "  - \\( \\lambda \\) (lambda): average number of events in the interval\n",
        "- **Example:**\n",
        "  - Number of phone calls a call center receives in an hour.\n",
        "  - Number of decay events per second from a radioactive source.\n",
        "\n",
        "---\n",
        "\n",
        "### 🔹 **Key Differences**\n",
        "\n",
        "| Feature                         | Binomial Distribution                         | Poisson Distribution                             |\n",
        "|-------------------------------|-----------------------------------------------|--------------------------------------------------|\n",
        "| Trials                        | Fixed number \\( n \\)                          | No fixed number of trials                        |\n",
        "| Probability of Success        | Constant \\( p \\)                              | Implied through average rate \\( \\lambda \\)       |\n",
        "| Nature                        | Models **number of successes** in trials      | Models **number of occurrences** in time/space   |\n",
        "| Parameters                    | \\( n, p \\)                                    | \\( \\lambda \\)                                    |\n",
        "| Relationship                  | Approximated by Poisson if \\( n \\) large & \\( p \\) small | Special case of Binomial as \\( n to infty \\), \\( p to 0 ), with \\( np = lambda ) |\n",
        "\n",
        "---\n",
        "\n",
        "###  **Conclusion:**\n",
        "- Use **Binomial** when you have **discrete trials** with two outcomes.\n",
        "- Use **Poisson** when you're measuring how **often** something happens in a **continuous interval**.\n"
      ],
      "metadata": {
        "id": "39NC6m5UIGyP"
      }
    },
    {
      "cell_type": "code",
      "source": [
        "# Q8. Generate a random sample of size 1000 from a Poisson distribution with mean 5 and calculate the\n",
        "# sample mean and variance.\n",
        "import math\n",
        "import numpy as np\n",
        "\n",
        "def poisson_rand_sample(mean, size):\n",
        "    sample = np.random.poisson(lam=mean, size=size)\n",
        "    return sample\n",
        "\n",
        "mean = 5\n",
        "size = 1000\n",
        "\n",
        "sample = poisson_rand_sample(mean, size)\n",
        "\n",
        "sample_mean = np.mean(sample)\n",
        "sample_variance = np.var(sample)\n",
        "\n",
        "print(f\"Sample Mean: {sample_mean}\")\n",
        "print(f\"Sample Variance: {sample_variance}\")"
      ],
      "metadata": {
        "colab": {
          "base_uri": "https://localhost:8080/"
        },
        "id": "x0XwDnJ5RFZo",
        "outputId": "11499d0a-ba82-40b4-9a6a-9e6d89032a2f"
      },
      "execution_count": 5,
      "outputs": [
        {
          "output_type": "stream",
          "name": "stdout",
          "text": [
            "Sample Mean: 4.961\n",
            "Sample Variance: 4.967478999999999\n"
          ]
        }
      ]
    },
    {
      "cell_type": "markdown",
      "source": [
        "# Q9. How mean and variance are related in Binomial distribution and Poisson distribution?\n",
        "Ans: \\\n",
        " Mean and Variance Relationship\n",
        "## 1. Binomial Distribution\n",
        "A binomial distribution is defined by:\n",
        "\n",
        "𝑛\n",
        "n: number of trials\n",
        "\n",
        "𝑝\n",
        "p: probability of success\n",
        "\n",
        "Mean (μ) =\n",
        "𝑛\n",
        "⋅\n",
        "𝑝\n",
        "n⋅p\n",
        "\n",
        "Variance (σ²) =\n",
        "𝑛\n",
        "⋅\n",
        "𝑝\n",
        "⋅\n",
        "(\n",
        "1\n",
        "−\n",
        "𝑝\n",
        ")\n",
        "n⋅p⋅(1−p)\n",
        "\n",
        " The variance depends on both the probability of success and failure.\n",
        "\n",
        "## 2. Poisson Distribution\n",
        "A Poisson distribution is defined by:\n",
        "\n",
        "𝜆\n",
        "λ: the average rate (mean number of occurrences)\n",
        "\n",
        "Mean (μ) =\n",
        "𝜆\n",
        "λ\n",
        "\n",
        "Variance (σ²) =\n",
        "𝜆\n",
        "λ\n",
        "\n",
        " The mean and variance are equal in a Poisson distribution."
      ],
      "metadata": {
        "id": "SbZBuq_FIG4I"
      }
    },
    {
      "cell_type": "markdown",
      "source": [
        "# Q10. In normal distribution with respect to mean position, where does the least frequent data appear?\n",
        "Ans: \\\n",
        "In a normal distribution, the least frequent data appears in the tails of the curve — that is:\n",
        "\n",
        "Far away from the mean, on both ends (left and right).\n",
        "\n",
        "These areas represent extreme values (either very low or very high compared to the average).\n",
        "\n",
        "## Explanation:\n",
        "A normal distribution is bell-shaped and symmetric about the mean.\n",
        "\n",
        "The majority of the data is concentrated around the mean.\n",
        "\n",
        "The further you move away from the mean (in standard deviations), the less frequent the data becomes."
      ],
      "metadata": {
        "id": "f9SFfeMkIG-S"
      }
    }
  ]
}