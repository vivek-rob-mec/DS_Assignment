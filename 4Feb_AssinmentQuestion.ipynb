{
  "nbformat": 4,
  "nbformat_minor": 0,
  "metadata": {
    "colab": {
      "provenance": []
    },
    "kernelspec": {
      "name": "python3",
      "display_name": "Python 3"
    },
    "language_info": {
      "name": "python"
    }
  },
  "cells": [
    {
      "cell_type": "code",
      "execution_count": 18,
      "metadata": {
        "id": "neM8UP3TdA6R",
        "colab": {
          "base_uri": "https://localhost:8080/"
        },
        "outputId": "b94e5cd4-3331-4d8b-bd7f-a0cd42bb7836"
      },
      "outputs": [
        {
          "output_type": "execute_result",
          "data": {
            "text/plain": [
              "[('Virat Kohli', 24936),\n",
              " ('Jack Kallis', 25534),\n",
              " ('Ricky Ponting', 27483),\n",
              " ('Sachin Tendulkar', 34357)]"
            ]
          },
          "metadata": {},
          "execution_count": 18
        }
      ],
      "source": [
        "# Q1. Create a python program to sort the given list of tuples based on integer value using a lambda function.\n",
        "# [('Sachin Tendulkar', 34357), ('Ricky Ponting', 27483), ('Jack Kallis', 25534), ('Virat Kohli', 24936)]\n",
        "list_given = [('Sachin Tendulkar', 34357), ('Ricky Ponting', 27483), ('Jack Kallis', 25534), ('Virat Kohli', 24936)]\n",
        "sorted(list_given,key = lambda x: x[1])"
      ]
    },
    {
      "cell_type": "code",
      "source": [
        "# Q2. Write a Python Program to find the squares of all the numbers in the given list of integers using lambda and map functions.\n",
        "# [1, 2, 3, 4, 5, 6, 7, 8, 9, 10]\n",
        "list_given = [1,2,3,4,5,6,7,8,9,10]\n",
        "list(map(lambda x: x**2, list_given))"
      ],
      "metadata": {
        "colab": {
          "base_uri": "https://localhost:8080/"
        },
        "id": "wCNvG37ixNid",
        "outputId": "5ffaeec0-d5cd-463b-8cd4-6ad309dfa6d2"
      },
      "execution_count": 19,
      "outputs": [
        {
          "output_type": "execute_result",
          "data": {
            "text/plain": [
              "[1, 4, 9, 16, 25, 36, 49, 64, 81, 100]"
            ]
          },
          "metadata": {},
          "execution_count": 19
        }
      ]
    },
    {
      "cell_type": "code",
      "source": [
        "\"\"\"\n",
        "Q3. Write a python program to convert the given list of integers into a tuple of strings. Use map and lambda functions\n",
        "Given String: [1, 2, 3, 4, 5, 6, 7, 8, 9, 10]\n",
        "Expected output: ('1', '2', '3', '4', '5', '6', '7', '8', '9', '10')\n",
        "\"\"\"\n",
        "list_given = [1,2,3,4,5,6,7,8,9,10]\n",
        "tuple(map(lambda x: str(x),list_given))"
      ],
      "metadata": {
        "colab": {
          "base_uri": "https://localhost:8080/"
        },
        "id": "psbkBiVa0jmW",
        "outputId": "2351a7dc-e8ad-47a6-997b-9a9849cedb10"
      },
      "execution_count": 20,
      "outputs": [
        {
          "output_type": "execute_result",
          "data": {
            "text/plain": [
              "('1', '2', '3', '4', '5', '6', '7', '8', '9', '10')"
            ]
          },
          "metadata": {},
          "execution_count": 20
        }
      ]
    },
    {
      "cell_type": "code",
      "source": [
        "# Q4. Write a python program using reduce function to compute the product of a list containing numbers from 1 to 25.\n",
        "from functools import reduce\n",
        "product = reduce(lambda x,y: x*y, range(1,26))\n",
        "print(product)"
      ],
      "metadata": {
        "colab": {
          "base_uri": "https://localhost:8080/"
        },
        "id": "DmX3ih9K1uL1",
        "outputId": "f620f10c-e652-4eaf-b93e-3019536e3a49"
      },
      "execution_count": 25,
      "outputs": [
        {
          "output_type": "stream",
          "name": "stdout",
          "text": [
            "15511210043330985984000000\n"
          ]
        }
      ]
    },
    {
      "cell_type": "code",
      "source": [
        "#Q5. Write a python program to filter the numbers in a given list that are divisible by 2 and 3 using the\n",
        "# filter function.\n",
        "# [2, 3, 6, 9, 27, 60, 90, 120, 55, 46]\n",
        "list_given = [2,3,6,9,27,60,90,120,55,46]\n",
        "list(filter(lambda x: x % 2 == 0 and x % 3 == 0, list_given))"
      ],
      "metadata": {
        "colab": {
          "base_uri": "https://localhost:8080/"
        },
        "id": "uqNUbTti2XLJ",
        "outputId": "3cef22e1-9ed5-48ba-bcff-854bea4ad643"
      },
      "execution_count": 26,
      "outputs": [
        {
          "output_type": "execute_result",
          "data": {
            "text/plain": [
              "[6, 60, 90, 120]"
            ]
          },
          "metadata": {},
          "execution_count": 26
        }
      ]
    },
    {
      "cell_type": "code",
      "source": [
        "# Q6. Write a python program to find palindromes in the given list of strings using lambda and filter function.\n",
        "# ['python', 'php', 'aba', 'radar', 'level']\n",
        "list_given = ['python', 'php', 'aba', 'radar', 'level']\n",
        "list(filter(lambda x: x==x[::-1],list_given ))"
      ],
      "metadata": {
        "colab": {
          "base_uri": "https://localhost:8080/"
        },
        "id": "mCGbjQ0V4uVh",
        "outputId": "47a46b86-8798-4263-e189-af1d7a455898"
      },
      "execution_count": 29,
      "outputs": [
        {
          "output_type": "execute_result",
          "data": {
            "text/plain": [
              "['php', 'aba', 'radar', 'level']"
            ]
          },
          "metadata": {},
          "execution_count": 29
        }
      ]
    }
  ]
}