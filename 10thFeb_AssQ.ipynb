{
  "nbformat": 4,
  "nbformat_minor": 0,
  "metadata": {
    "colab": {
      "provenance": []
    },
    "kernelspec": {
      "name": "python3",
      "display_name": "Python 3"
    },
    "language_info": {
      "name": "python"
    }
  },
  "cells": [
    {
      "cell_type": "code",
      "execution_count": 1,
      "metadata": {
        "colab": {
          "base_uri": "https://localhost:8080/",
          "height": 140
        },
        "id": "Edxv7MEM3_3a",
        "outputId": "383cbfdc-a6ac-4653-af30-d2f2ec96339e"
      },
      "outputs": [
        {
          "output_type": "execute_result",
          "data": {
            "text/plain": [
              "'\\nOpening a File:\\n1) Before performing any operation (like read or write) on the file,first we have to open\\n   that file.For this we should use Python\\'s inbuilt function open()\\n2) But at the time of open, we have to specify mode,which represents the purpose of opening file.\\n\\nSyntax : f = open(filename, mode)\\nThe allowed modes in Python are\\n1) r \\uf0e0 open an existing file for read operation. The file pointer is positioned at the\\n   beginning of the file.If the specified file does not exist then we will get\\n   FileNotFoundError.This is default mode.\\n2) w \\uf0e0 open an existing file for write operation. If the file already contains some data\\n   then it will be overridden. If the specified file is not already avaialble then this mode will\\n   create that file.\\n3) a \\uf0e0 open an existing file for append operation. It won\\'t override existing data.If the\\n   specified file is not already avaialble then this mode will create a new file.\\n4) r+ \\uf0e0 To read and write data into the file. The previous data in the file will not be\\n   deleted.The file pointer is placed at the beginning of the file.\\n5) w+ \\uf0e0 To write and read data. It will override existing data.\\n6) a+ \\uf0e0 To append and read data from the file.It wont override existing data.\\n7) x \\uf0e0 To open a file in exclusive creation mode for write operation. If the file already\\n   exists then we will get FileExistsError.\\nNote: All the above modes are applicable for text files. If the above modes suffixed with\\n\\'b\\' then these represents for binary files.\\nEg: rb,wb,ab,r+b,w+b,a+b,xb\\nf = open(\"abc.txt\",\"w\")\\nWe are opening abc.txt file for writing data.\\n'"
            ],
            "application/vnd.google.colaboratory.intrinsic+json": {
              "type": "string"
            }
          },
          "metadata": {},
          "execution_count": 1
        }
      ],
      "source": [
        "# Q1. Which function is used to open a file? What are the different modes of opening a file? Explain each mode of file opening.\n",
        "\"\"\"\n",
        "Opening a File:\n",
        "1) Before performing any operation (like read or write) on the file,first we have to open\n",
        "   that file.For this we should use Python's inbuilt function open()\n",
        "2) But at the time of open, we have to specify mode,which represents the purpose of opening file.\n",
        "\n",
        "Syntax : f = open(filename, mode)\n",
        "The allowed modes in Python are\n",
        "1) r  open an existing file for read operation. The file pointer is positioned at the\n",
        "   beginning of the file.If the specified file does not exist then we will get\n",
        "   FileNotFoundError.This is default mode.\n",
        "2) w  open an existing file for write operation. If the file already contains some data\n",
        "   then it will be overridden. If the specified file is not already avaialble then this mode will\n",
        "   create that file.\n",
        "3) a  open an existing file for append operation. It won't override existing data.If the\n",
        "   specified file is not already avaialble then this mode will create a new file.\n",
        "4) r+  To read and write data into the file. The previous data in the file will not be\n",
        "   deleted.The file pointer is placed at the beginning of the file.\n",
        "5) w+  To write and read data. It will override existing data.\n",
        "6) a+  To append and read data from the file.It wont override existing data.\n",
        "7) x  To open a file in exclusive creation mode for write operation. If the file already\n",
        "   exists then we will get FileExistsError.\n",
        "Note: All the above modes are applicable for text files. If the above modes suffixed with\n",
        "'b' then these represents for binary files.\n",
        "Eg: rb,wb,ab,r+b,w+b,a+b,xb\n",
        "f = open(\"abc.txt\",\"w\")\n",
        "We are opening abc.txt file for writing data.\n",
        "\"\"\""
      ]
    },
    {
      "cell_type": "code",
      "source": [
        "# Q2. Why close() function is used? Why is it important to close a file?\n",
        "\"\"\"\n",
        "Closing a File:\n",
        "After completing our operations on the file, it is highly recommended to close the file.\n",
        "For this we have to use close() function.\n",
        "f.close()\n",
        "Closing files in Python is an essential practice that helps maintain data integrity,\n",
        "prevent resource leaks, and ensure the reliability of your applications.\n",
        "\"\"\""
      ],
      "metadata": {
        "colab": {
          "base_uri": "https://localhost:8080/",
          "height": 70
        },
        "id": "4uBq6ck-Opf1",
        "outputId": "f9e501bb-c489-4827-ee96-d2e39d85cf68"
      },
      "execution_count": 2,
      "outputs": [
        {
          "output_type": "execute_result",
          "data": {
            "text/plain": [
              "'\\nClosing a File:\\nAfter completing our operations on the file, it is highly recommended to close the file.\\nFor this we have to use close() function.\\nf.close()\\nClosing files in Python is an essential practice that helps maintain data integrity, \\nprevent resource leaks, and ensure the reliability of your applications.\\n'"
            ],
            "application/vnd.google.colaboratory.intrinsic+json": {
              "type": "string"
            }
          },
          "metadata": {},
          "execution_count": 2
        }
      ]
    },
    {
      "cell_type": "code",
      "source": [
        "# Q3. Write a python program to create a text file. Write ‘I want to become a Data Scientist’ in that file. Then\n",
        "# close the file. Open this file and read the content of the file.\n",
        "\n",
        "f = open(\"myfile.txt\",'w')\n",
        "f.write(\"I want to become a Data Scientist\")\n",
        "f.close()\n",
        "f = open(\"myfile.txt\",'r')\n",
        "print(f.read())\n",
        "f.close()"
      ],
      "metadata": {
        "colab": {
          "base_uri": "https://localhost:8080/"
        },
        "id": "M8cikY_0PX5m",
        "outputId": "cb316e4f-3c7a-468a-8f50-f8097b63375c"
      },
      "execution_count": 4,
      "outputs": [
        {
          "output_type": "stream",
          "name": "stdout",
          "text": [
            "I want to become a Data Scientist\n"
          ]
        }
      ]
    },
    {
      "cell_type": "code",
      "source": [
        "# Q4. Explain the following with python code: read(), readline() and readlines().\n",
        "\"\"\"\n",
        "1) read(): read data from the file.\n",
        "2) read(n): read n characters from the file\n",
        "3) readline(): read only line from the file\n",
        "4) readlines(): read all lines into a list\n",
        "\"\"\""
      ],
      "metadata": {
        "colab": {
          "base_uri": "https://localhost:8080/",
          "height": 53
        },
        "id": "4Tdmr9h_QvIS",
        "outputId": "7ed7fda1-33fe-4607-f2b9-cc69d2dd813e"
      },
      "execution_count": 6,
      "outputs": [
        {
          "output_type": "execute_result",
          "data": {
            "text/plain": [
              "'\\n1) read(): read data from the file.\\n2) read(n): read n characters from the file\\n3) readline(): read only line from the file\\n4) readlines(): read all lines into a list\\n'"
            ],
            "application/vnd.google.colaboratory.intrinsic+json": {
              "type": "string"
            }
          },
          "metadata": {},
          "execution_count": 6
        }
      ]
    },
    {
      "cell_type": "code",
      "source": [
        "# Q5. Explain why with statement is used with open(). What is the advantage of using with statement and open() together?\n",
        "\"\"\"\n",
        "The with Statement:\n",
        "1) The with statement can be used while opening a file. We can use this to group file\n",
        "   operation statements within a block.\n",
        "2) The advantage of with statement is it will take care closing of file,after completing all\n",
        "   operations automatically even in the case of exceptions also, and we are not required\n",
        "   to close explicitly.\n",
        "\"\"\"\n",
        "with open(\"abc.txt\",\"w\") as f:\n",
        "  f.write(\"Durga\\n\")\n",
        "  f.write(\"Software\\n\")\n",
        "  f.write(\"Solutions\\n\")\n",
        "  print(\"Is File Closed: \",f.closed)\n",
        "print(\"Is File Closed: \",f.closed)"
      ],
      "metadata": {
        "colab": {
          "base_uri": "https://localhost:8080/"
        },
        "id": "LIh3KH_FTOHx",
        "outputId": "68c17e61-8531-4ce4-af13-d5c22b5734f1"
      },
      "execution_count": 7,
      "outputs": [
        {
          "output_type": "stream",
          "name": "stdout",
          "text": [
            "Is File Closed:  False\n",
            "Is File Closed:  True\n"
          ]
        }
      ]
    },
    {
      "cell_type": "code",
      "source": [
        "# Q6. Explain the write() and writelines() functions. Give a suitable example.\n",
        "\"\"\"\n",
        "Writing Data to Text Files:\n",
        "We can write character data to the text files by using the following 2 methods.\n",
        "1) write(str)\n",
        "2) writelines(list of lines)\n",
        "\"\"\"\n",
        "f=open(\"abcd.txt\",'w')\n",
        "f.write(\"Durga\\n\")\n",
        "f.write(\"Software\\n\")\n",
        "f.write(\"Solutions\\n\")\n",
        "print(\"Data written to the file successfully\")\n",
        "f1 = open('abc2.txt','w')\n",
        "list=[\"sunny\\n\",\"bunny\\n\",\"vinny\\n\",\"chinny\"]\n",
        "f1.writelines(list)\n",
        "print(\"List of lines written to the file successfully\")\n",
        "f1.close()"
      ],
      "metadata": {
        "colab": {
          "base_uri": "https://localhost:8080/"
        },
        "id": "qcX2eu6lViuM",
        "outputId": "8ec1e1fe-5ae3-4a19-fa51-6b5c5cbdf360"
      },
      "execution_count": 11,
      "outputs": [
        {
          "output_type": "stream",
          "name": "stdout",
          "text": [
            "Data written to the file successfully\n",
            "List of lines written to the file successfully\n"
          ]
        }
      ]
    },
    {
      "cell_type": "code",
      "source": [],
      "metadata": {
        "id": "0Y0wbPhkWVrd"
      },
      "execution_count": null,
      "outputs": []
    }
  ]
}