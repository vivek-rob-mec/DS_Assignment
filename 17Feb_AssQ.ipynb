{
  "nbformat": 4,
  "nbformat_minor": 0,
  "metadata": {
    "colab": {
      "provenance": []
    },
    "kernelspec": {
      "name": "python3",
      "display_name": "Python 3"
    },
    "language_info": {
      "name": "python"
    }
  },
  "cells": [
    {
      "cell_type": "code",
      "execution_count": 1,
      "metadata": {
        "id": "iPE_jDAG7M5n",
        "colab": {
          "base_uri": "https://localhost:8080/",
          "height": 140
        },
        "outputId": "2d514fdd-e798-49c0-ca9e-7ee3e205dcf1"
      },
      "outputs": [
        {
          "output_type": "execute_result",
          "data": {
            "text/plain": [
              "\"\\nMongoDB is a cross-platform, document oriented database that provides, high performance,\\nhigh availability, and easy scalability. MongoDB works on concept of collection and document.\\nMongoDB uses BSON (Binary JSON) to store data, which is a binary format of JSON, allowing for efficient storage and retrieval of data.\\n\\ncollection: Collection is a group of MongoDB documents. It is the equivalent of an RDBMS table. A\\n            collection exists within a single database.\\n\\ndocument: A document is a set of key-value pairs. Documents have dynamic schema. Dynamic schema\\n          means that documents in the same collection do not need to have the same set of fields or\\n          structure, and common fields in a collection's documents may hold different types of data.\\n\\nnon-relation database (No-SQL database): A non-relational database is a database that does not use\\n                                         traditional relational databse which uses rows and column to store data.\\n                                         It offers more flexibility(structured, semi-structured, unstructured) DB\\n                                         and scalability (handles large volume of data more efficiently)\\n\\nMongoDB is a good choice when: \\n1) Data is semi-structured and unstructured.\\n2) scalability is crucial\\n3) Real-time analytics and application\\n4) Big-data\\n5) Fast in rich queries\\n\""
            ],
            "application/vnd.google.colaboratory.intrinsic+json": {
              "type": "string"
            }
          },
          "metadata": {},
          "execution_count": 1
        }
      ],
      "source": [
        "# Q1. What is MongoDB? Explain non-relational databases in short. In which scenarios it is preferred to use\n",
        "# MongoDB over SQL databases?\n",
        "\"\"\"\n",
        "MongoDB is a cross-platform, document oriented database that provides, high performance,\n",
        "high availability, and easy scalability. MongoDB works on concept of collection and document.\n",
        "MongoDB uses BSON (Binary JSON) to store data, which is a binary format of JSON, allowing for efficient storage and retrieval of data.\n",
        "\n",
        "collection: Collection is a group of MongoDB documents. It is the equivalent of an RDBMS table. A\n",
        "            collection exists within a single database.\n",
        "\n",
        "document: A document is a set of key-value pairs. Documents have dynamic schema. Dynamic schema\n",
        "          means that documents in the same collection do not need to have the same set of fields or\n",
        "          structure, and common fields in a collection's documents may hold different types of data.\n",
        "\n",
        "non-relation database (No-SQL database): A non-relational database is a database that does not use\n",
        "                                         traditional relational databse which uses rows and column to store data.\n",
        "                                         It offers more flexibility(structured, semi-structured, unstructured) DB\n",
        "                                         and scalability (handles large volume of data more efficiently)\n",
        "\n",
        "MongoDB is a good choice when:\n",
        "1) Data is semi-structured and unstructured.\n",
        "2) scalability is crucial\n",
        "3) Real-time analytics and application\n",
        "4) Big-data\n",
        "5) Fast in rich queries\n",
        "\"\"\"\n"
      ]
    },
    {
      "cell_type": "code",
      "source": [
        "# Q2. State and Explain the features of MongoDB.\n",
        "\"\"\"\n",
        "Features:\n",
        "1) Schema less-structure.\n",
        "\n",
        "2) Horizontal scalability: MongoDB is designed for horizontal scalability, allowing you to distribute data across multiple\n",
        "                           servers (sharding) to handle large volumes of data and high traffic loads.\n",
        "                           This ensures that the database can continue to perform well even as the amount of data grows.\n",
        "\n",
        "3) Rich Query Language: MongoDB offers a powerful and flexible query language that allows you to filter, sort, and transform\n",
        "                        data using various operators and expressions. This language supports ad-hoc queries, allowing you to\n",
        "                        quickly access and manipulate data as needed.\n",
        "\n",
        "4) Replication: MongoDB supports replication, which ensures high availability and data durability by creating multiple copies of\n",
        "                the data across different servers. In case of a failure, another server can take over, ensuring minimal downtime.\n",
        "\n",
        "5) MongoDB support ACID (Automicity, consistency, isolation, durability) property.\n",
        "\n",
        "6) Aggregation Framework: MongoDB provides a powerful aggregation framework that allows you to process and transform data on the\n",
        "                          server-side, reducing the need to move large amounts of data to the client.\n",
        "\"\"\""
      ],
      "metadata": {
        "colab": {
          "base_uri": "https://localhost:8080/",
          "height": 140
        },
        "id": "Q6VyLEqREcyK",
        "outputId": "4c92b7e9-f30f-4fb0-d435-87f467b8e77d"
      },
      "execution_count": 2,
      "outputs": [
        {
          "output_type": "execute_result",
          "data": {
            "text/plain": [
              "'\\nFeatures:\\n1) Schema less-structure.\\n2) Horizontal scalability: MongoDB is designed for horizontal scalability, allowing you to distribute data across multiple \\n                           servers (sharding) to handle large volumes of data and high traffic loads.\\n                           This ensures that the database can continue to perform well even as the amount of data grows. \\n3) Rich Query Language: MongoDB offers a powerful and flexible query language that allows you to filter, sort, and transform \\n                        data using various operators and expressions. This language supports ad-hoc queries, allowing you to \\n                        quickly access and manipulate data as needed.\\n4) Replication: MongoDB supports replication, which ensures high availability and data durability by creating multiple copies of \\n                the data across different servers. In case of a failure, another server can take over, ensuring minimal downtime.\\n5) MongoDB support ACID (Automicity, consistency, isolation, durability) property.\\n6) Aggregation Framework: MongoDB provides a powerful aggregation framework that allows you to process and transform data on the \\n                          server-side, reducing the need to move large amounts of data to the client. \\n'"
            ],
            "application/vnd.google.colaboratory.intrinsic+json": {
              "type": "string"
            }
          },
          "metadata": {},
          "execution_count": 2
        }
      ]
    },
    {
      "cell_type": "code",
      "source": [
        "# Q3. Write a code to connect MongoDB to Python. Also, create a database and a collection in MongoDB.\n",
        "#!pip install pymongo\n",
        "import pymongo\n",
        "import ssl\n",
        "client = pymongo.MongoClient(\"mongodb+srv://<typeYourUserName>:<typeYourPassword>@cluster0.j68yhyk.mongodb.net/?retryWrites=true&w=majority&appName=Cluster0\")\n",
        "db = client.test\n",
        "db = client['my_database'] # database is created named 'my_database'\n",
        "collection = db['my_collection'] # collection is created named 'my_collection'"
      ],
      "metadata": {
        "id": "ZPWdS_trHuHt"
      },
      "execution_count": 12,
      "outputs": []
    },
    {
      "cell_type": "code",
      "source": [
        "# Q4. Using the database and the collection created in question number 3, write a code to insert one record,\n",
        "# and insert many records. Use the find() and find_one() methods to print the inserted record.\n",
        "\n",
        "data = {\"name\": \"vivek\", 'age':23, 'city': 'mumbai'}\n",
        "collection.insert_one(data)\n",
        "\n",
        "data1 = [\n",
        "    {\"name\":'harikesh', 'age': 25, 'city': 'mumbai'},\n",
        "    {\"name\": 'monu', 'age': 24, 'city': 'pratapgarh'},\n",
        "    {\"name\": 'prashant','age': 23, 'city': 'pune'}\n",
        "]\n",
        "collection.insert_many(data1)\n",
        "\n",
        "collection.find_one()\n",
        "\n",
        "for i in collection.find():\n",
        "  print(i)"
      ],
      "metadata": {
        "colab": {
          "base_uri": "https://localhost:8080/"
        },
        "id": "waPZaA_cI7UK",
        "outputId": "83d795ba-0933-4564-e608-90f0efb70c15"
      },
      "execution_count": 16,
      "outputs": [
        {
          "output_type": "stream",
          "name": "stdout",
          "text": [
            "{'_id': ObjectId('67f145daebc57473caacb337'), 'name': 'vivek', 'age': 23, 'city': 'mumbai'}\n",
            "{'_id': ObjectId('67f145dcebc57473caacb338'), 'name': 'harikesh', 'age': 25, 'city': 'mumbai'}\n",
            "{'_id': ObjectId('67f145dcebc57473caacb339'), 'name': 'monu', 'age': 24, 'city': 'pratapgarh'}\n",
            "{'_id': ObjectId('67f145dcebc57473caacb33a'), 'name': 'prashant', 'age': 23, 'city': 'pune'}\n",
            "{'_id': ObjectId('67f14684ebc57473caacb33b'), 'name': 'vivek', 'age': 23, 'city': 'mumbai'}\n",
            "{'_id': ObjectId('67f14684ebc57473caacb33c'), 'name': 'harikesh', 'age': 25, 'city': 'mumbai'}\n",
            "{'_id': ObjectId('67f14684ebc57473caacb33d'), 'name': 'monu', 'age': 24, 'city': 'pratapgarh'}\n",
            "{'_id': ObjectId('67f14684ebc57473caacb33e'), 'name': 'prashant', 'age': 23, 'city': 'pune'}\n",
            "{'_id': ObjectId('67f146aaebc57473caacb33f'), 'name': 'vivek', 'age': 23, 'city': 'mumbai'}\n",
            "{'_id': ObjectId('67f146aaebc57473caacb340'), 'name': 'harikesh', 'age': 25, 'city': 'mumbai'}\n",
            "{'_id': ObjectId('67f146aaebc57473caacb341'), 'name': 'monu', 'age': 24, 'city': 'pratapgarh'}\n",
            "{'_id': ObjectId('67f146aaebc57473caacb342'), 'name': 'prashant', 'age': 23, 'city': 'pune'}\n",
            "{'_id': ObjectId('67f146b1ebc57473caacb343'), 'name': 'vivek', 'age': 23, 'city': 'mumbai'}\n",
            "{'_id': ObjectId('67f146b1ebc57473caacb344'), 'name': 'harikesh', 'age': 25, 'city': 'mumbai'}\n",
            "{'_id': ObjectId('67f146b1ebc57473caacb345'), 'name': 'monu', 'age': 24, 'city': 'pratapgarh'}\n",
            "{'_id': ObjectId('67f146b1ebc57473caacb346'), 'name': 'prashant', 'age': 23, 'city': 'pune'}\n"
          ]
        }
      ]
    },
    {
      "cell_type": "code",
      "source": [
        "# Q5. Explain how you can use the find() method to query the MongoDB database. Write a simple code to\n",
        "# demonstrate this.\n",
        "\"\"\"\n",
        "The find() method in MongoDB selects documents in a collection or view and returns a cursor\n",
        "to the selected documents. It has two parameters: query and projection.\n",
        "\n",
        "It has two parameters: query and projection.\n",
        "\n",
        "syntax: db.collection.find(<query>,<projection>)\n",
        "1) the first ‘query‘ (or filter) parameter specifies the search\n",
        "2) the second optional ‘projection’ parameter specifies what parts of each matching document are returned\n",
        "\n",
        "sample code:\n",
        "db.Customers.find({\n",
        "   'Addresses.County': 'xxxxxxx'\n",
        "})\n",
        "\n",
        "//returns the documents that have an address in the county of xxxxxxx\n",
        "\"\"\""
      ],
      "metadata": {
        "colab": {
          "base_uri": "https://localhost:8080/",
          "height": 87
        },
        "id": "AxFxYjm5b7_o",
        "outputId": "bfdbba9f-7c1f-445a-de7e-61d227d8ffac"
      },
      "execution_count": 17,
      "outputs": [
        {
          "output_type": "execute_result",
          "data": {
            "text/plain": [
              "\"\\nThe find() method in MongoDB selects documents in a collection or view and returns a cursor \\nto the selected documents. It has two parameters: query and projection.\\n\\nIt has two parameters: query and projection.\\n\\nsyntax: db.collection.find(<query>,<projection>)\\n1) the first ‘query‘ (or filter) parameter specifies the search\\n2) the second optional ‘projection’ parameter specifies what parts of each matching document are returned\\n\\nsample code: \\ndb.Customers.find({\\n   'Addresses.County': 'xxxxxxx'\\n})\\n\\n//returns the documents that have an address in the county of xxxxxxx\\n\""
            ],
            "application/vnd.google.colaboratory.intrinsic+json": {
              "type": "string"
            }
          },
          "metadata": {},
          "execution_count": 17
        }
      ]
    },
    {
      "cell_type": "code",
      "source": [
        "# Q6. Explain the sort() method. Give an example to demonstrate sorting in MongoDB.\n",
        "\"\"\"\n",
        "The sort() method consists of two basic building blocks. These building blocks are fields to be sorted and the sort order.\n",
        "\n",
        "The sorting order in MongoDB is defined by either a one (1) or a minus (-1). Here the positive one represents\n",
        "the ascending order, while the negative one represents the descending order.\n",
        "\n",
        "syntax: db.collection_name.find().sort({field_name: sort order})\n",
        "\"\"\"\n",
        "for i in collection.find().sort({'name': 1}):\n",
        "  print(i)"
      ],
      "metadata": {
        "colab": {
          "base_uri": "https://localhost:8080/"
        },
        "id": "kiwH_lwDhH-m",
        "outputId": "a0bf344c-ea74-4f36-acdd-b5483e8f7b9f"
      },
      "execution_count": 20,
      "outputs": [
        {
          "output_type": "stream",
          "name": "stdout",
          "text": [
            "{'_id': ObjectId('67f145dcebc57473caacb338'), 'name': 'harikesh', 'age': 25, 'city': 'mumbai'}\n",
            "{'_id': ObjectId('67f14684ebc57473caacb33c'), 'name': 'harikesh', 'age': 25, 'city': 'mumbai'}\n",
            "{'_id': ObjectId('67f146aaebc57473caacb340'), 'name': 'harikesh', 'age': 25, 'city': 'mumbai'}\n",
            "{'_id': ObjectId('67f146b1ebc57473caacb344'), 'name': 'harikesh', 'age': 25, 'city': 'mumbai'}\n",
            "{'_id': ObjectId('67f145dcebc57473caacb339'), 'name': 'monu', 'age': 24, 'city': 'pratapgarh'}\n",
            "{'_id': ObjectId('67f14684ebc57473caacb33d'), 'name': 'monu', 'age': 24, 'city': 'pratapgarh'}\n",
            "{'_id': ObjectId('67f146aaebc57473caacb341'), 'name': 'monu', 'age': 24, 'city': 'pratapgarh'}\n",
            "{'_id': ObjectId('67f146b1ebc57473caacb345'), 'name': 'monu', 'age': 24, 'city': 'pratapgarh'}\n",
            "{'_id': ObjectId('67f145dcebc57473caacb33a'), 'name': 'prashant', 'age': 23, 'city': 'pune'}\n",
            "{'_id': ObjectId('67f14684ebc57473caacb33e'), 'name': 'prashant', 'age': 23, 'city': 'pune'}\n",
            "{'_id': ObjectId('67f146aaebc57473caacb342'), 'name': 'prashant', 'age': 23, 'city': 'pune'}\n",
            "{'_id': ObjectId('67f146b1ebc57473caacb346'), 'name': 'prashant', 'age': 23, 'city': 'pune'}\n",
            "{'_id': ObjectId('67f145daebc57473caacb337'), 'name': 'vivek', 'age': 23, 'city': 'mumbai'}\n",
            "{'_id': ObjectId('67f14684ebc57473caacb33b'), 'name': 'vivek', 'age': 23, 'city': 'mumbai'}\n",
            "{'_id': ObjectId('67f146aaebc57473caacb33f'), 'name': 'vivek', 'age': 23, 'city': 'mumbai'}\n",
            "{'_id': ObjectId('67f146b1ebc57473caacb343'), 'name': 'vivek', 'age': 23, 'city': 'mumbai'}\n"
          ]
        }
      ]
    },
    {
      "cell_type": "code",
      "source": [
        "# Q7. Explain why delete_one(), delete_many(), and drop() is used.\n",
        "\"\"\"\n",
        "delete_one():\n",
        "1) Deletes only the first document that matches the specified filter.\n",
        "2) Useful when you need to remove a specific document based on certain criteria.\n",
        "\n",
        "delete_many():\n",
        "1) Deletes all documents that match the specified filter.\n",
        "2)Useful when you need to remove multiple documents based on a condition.\n",
        "\n",
        "drop():\n",
        "1) Removes the entire collection, including all its documents and associated indexes.\n",
        "2) This is a destructive operation, so use it with caution\n",
        "\"\"\""
      ],
      "metadata": {
        "colab": {
          "base_uri": "https://localhost:8080/",
          "height": 87
        },
        "id": "85fiM2Toh-Jg",
        "outputId": "6efc529a-c6f8-487f-da75-bb233bac47d0"
      },
      "execution_count": 22,
      "outputs": [
        {
          "output_type": "execute_result",
          "data": {
            "text/plain": [
              "'\\ndelete_one():\\n1) Deletes only the first document that matches the specified filter. \\n2) Useful when you need to remove a specific document based on certain criteria. \\n\\ndelete_many():\\n1) Deletes all documents that match the specified filter. \\n2)Useful when you need to remove multiple documents based on a condition. \\n\\ndrop():\\n1) Removes the entire collection, including all its documents and associated indexes. \\n2) This is a destructive operation, so use it with caution\\n'"
            ],
            "application/vnd.google.colaboratory.intrinsic+json": {
              "type": "string"
            }
          },
          "metadata": {},
          "execution_count": 22
        }
      ]
    },
    {
      "cell_type": "code",
      "source": [],
      "metadata": {
        "id": "O1-xibmSijzb"
      },
      "execution_count": null,
      "outputs": []
    }
  ]
}