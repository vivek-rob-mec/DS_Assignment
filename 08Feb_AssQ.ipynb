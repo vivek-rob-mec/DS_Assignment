{
  "nbformat": 4,
  "nbformat_minor": 0,
  "metadata": {
    "colab": {
      "provenance": []
    },
    "kernelspec": {
      "name": "python3",
      "display_name": "Python 3"
    },
    "language_info": {
      "name": "python"
    }
  },
  "cells": [
    {
      "cell_type": "code",
      "execution_count": null,
      "metadata": {
        "id": "zqIgmAoyJpqi",
        "colab": {
          "base_uri": "https://localhost:8080/",
          "height": 70
        },
        "outputId": "45c3091f-adc9-4b41-c753-60be15b798fa"
      },
      "outputs": [
        {
          "output_type": "execute_result",
          "data": {
            "text/plain": [
              "'\\nAbstraction is the process of hiding unnecessary details and exposing only essential features of an object or system. \\nIt allows developers to focus on high-level functionality without getting lost in the implementation details. \\nAbstraction is achieved through abstract classes and interfaces in Python.\\nExample:\\nfrom abc import *\\nclass Test:\\n  @abstractmethod\\n  def m1(self):\\n    pass \\n'"
            ],
            "application/vnd.google.colaboratory.intrinsic+json": {
              "type": "string"
            }
          },
          "metadata": {},
          "execution_count": 1
        }
      ],
      "source": [
        "# Q1. What is Abstraction in OOps? Explain with an example.\n",
        "\"\"\"\n",
        "Abstraction is the process of hiding unnecessary details and exposing only essential features of an object or system.\n",
        "It allows developers to focus on high-level functionality without getting lost in the implementation details.\n",
        "Abstraction is achieved through abstract classes and interfaces in Python.\n",
        "An abstract class is a blueprint for other classes and cannot be instantiated itself.\n",
        "It defines common attributes and methods that subclasses must implement.\n",
        "\n",
        "Example:\n",
        "from abc import *\n",
        "class Test:\n",
        "  @abstractmethod\n",
        "  def m1(self):\n",
        "    pass\n",
        "\"\"\""
      ]
    },
    {
      "cell_type": "code",
      "source": [
        "# Q2. Differentiate between Abstraction and Encapsulation. Explain with an example.\n",
        "\"\"\"\n",
        "Abstraction:\n",
        "1) Solves problem in deisgn level\n",
        "2) Used for hiding unwanted data and giving relevant data\n",
        "3) Focuses on what object does instead of how it does\n",
        "4) Outer layer, used in terms of design. For example outer look of a Mobile phone, like it has a display screen and keyboard button to dial a number,\n",
        "\n",
        "Encapsulation:\n",
        "1) Solves the problem in the implementation level\n",
        "2) Encapsulation means hiding the data and code into single unit to protect the data from the outside world.\n",
        "3) Hiding the internal details that is how an object does this\n",
        "4) Inner layout, used in terms of implementation. For example how display and keyboard will connect each other using circuits and sockets.\n",
        "\"\"\""
      ],
      "metadata": {
        "id": "tf60JQ1JV-GG",
        "colab": {
          "base_uri": "https://localhost:8080/",
          "height": 105
        },
        "outputId": "1e54762d-4f48-45ba-f411-35c287f91479"
      },
      "execution_count": 2,
      "outputs": [
        {
          "output_type": "execute_result",
          "data": {
            "text/plain": [
              "'\\nAbstraction:\\n1) Solves problem in deisgn level\\n2) Used for hiding unwanted data and giving relevant data\\n3) Focuses on what object does instead of how it does\\n4) Outer layer, used in terms of design. For example outer look of a Mobile phone, like it has a display screen and keyboard button to dial a number,\\n   \\nEncapsulation:\\n1) Solves the problem in the implementation level\\n2) Encapsulation means hiding the data and code into single unit to protect the data from the outside world.\\n3) Hiding the internal details that is how an object does this\\n4) Inner layout, used in terms of implementation. For example how display and keyboard will connect each other using circuits and sockets.\\n'"
            ],
            "application/vnd.google.colaboratory.intrinsic+json": {
              "type": "string"
            }
          },
          "metadata": {},
          "execution_count": 2
        }
      ]
    },
    {
      "cell_type": "code",
      "source": [
        "# What is abc module in python? Why is it used?\n",
        "\"\"\"\n",
        "In python we can declare abstract method by using @abstractmethod decorator as\n",
        "follows.\n",
        "1) @abstractmethod\n",
        "2) def m1(self): pass\n",
        "3) @abstractmethod decorator present in abc module.\n",
        "Hence compulsory we should import abc module,otherwise we will get error.\n",
        "abc -> abstract base class module\n",
        "\"\"\""
      ],
      "metadata": {
        "colab": {
          "base_uri": "https://localhost:8080/",
          "height": 53
        },
        "id": "M4aD5FpQY1Hg",
        "outputId": "eebf8473-7f6f-4099-b1a2-1a498d422378"
      },
      "execution_count": 3,
      "outputs": [
        {
          "output_type": "execute_result",
          "data": {
            "text/plain": [
              "'\\nIn python we can declare abstract method by using @abstractmethod decorator as\\nfollows.\\n1) @abstractmethod\\n2) def m1(self): pass\\n3) @abstractmethod decorator present in abc module. \\nHence compulsory we should import abc module,otherwise we will get error.\\nabc -> abstract base class module\\n'"
            ],
            "application/vnd.google.colaboratory.intrinsic+json": {
              "type": "string"
            }
          },
          "metadata": {},
          "execution_count": 3
        }
      ]
    },
    {
      "cell_type": "code",
      "source": [
        "# Q4. How can we achieve data abstraction?\n",
        "\"\"\"\n",
        "Abstraction in Python can be achieved through abstract classes and methods, as well as through encapsulation and inheritance.\n",
        "\n",
        "Abstract Classes and Methods:\n",
        "1) Python's abc module provides the infrastructure for defining abstract base classes (ABCs).\n",
        "2) An abstract method is declared but contains no implementation and serves as a placeholder, requiring subclasses to override it.\n",
        "3) An abstract class contains one or more abstract methods and cannot be instantiated directly.\n",
        "4) To create an abstract class, inherit from ABC and use the @abstractmethod decorator.\n",
        "5) Subclasses of an abstract class must implement all its abstract methods.\n",
        "\"\"\""
      ],
      "metadata": {
        "colab": {
          "base_uri": "https://localhost:8080/",
          "height": 105
        },
        "id": "2MPDgaxtZtRx",
        "outputId": "e9f32b43-a7b6-465c-fdd2-d6e5e00ec8a6"
      },
      "execution_count": 4,
      "outputs": [
        {
          "output_type": "execute_result",
          "data": {
            "text/plain": [
              "\"\\nAbstraction in Python can be achieved through abstract classes and methods, as well as through encapsulation and inheritance. \\n\\nAbstract Classes and Methods:\\n1) Python's abc module provides the infrastructure for defining abstract base classes (ABCs).\\n2) An abstract method is declared but contains no implementation and serves as a placeholder, requiring subclasses to override it.\\n3) An abstract class contains one or more abstract methods and cannot be instantiated directly.\\n4) To create an abstract class, inherit from ABC and use the @abstractmethod decorator.\\n5) Subclasses of an abstract class must implement all its abstract methods.\\n\""
            ],
            "application/vnd.google.colaboratory.intrinsic+json": {
              "type": "string"
            }
          },
          "metadata": {},
          "execution_count": 4
        }
      ]
    },
    {
      "cell_type": "code",
      "source": [
        "# Q5. Can we create an instance of an abstract class? Explain your answer.\n",
        "\"\"\"\n",
        "No, you cannot create an instance (object) of an abstract class directly.\n",
        "Abstract classes are designed to be incomplete and serve as blueprints for other classes,\n",
        "requiring subclasses to provide concrete implementations for their abstract methods before they can be instantiated.\n",
        "1) Abstract Class Purpose:\n",
        "An abstract class is a class that is declared with the abstract keyword. It's meant to be a base class for other classes and cannot be instantiated directly.\n",
        "2) Abstract Methods:\n",
        "Abstract classes can contain abstract methods, which are methods declared without a body (implementation).\n",
        "3) Subclasses and Implementation:\n",
        "Subclasses (derived classes) of an abstract class must implement all of the abstract methods defined in the abstract class before they can be instantiated.\n",
        "\"\"\""
      ],
      "metadata": {
        "id": "RnFzanI0buK5"
      },
      "execution_count": null,
      "outputs": []
    }
  ]
}