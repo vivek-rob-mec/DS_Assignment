{
  "nbformat": 4,
  "nbformat_minor": 0,
  "metadata": {
    "colab": {
      "provenance": []
    },
    "kernelspec": {
      "name": "python3",
      "display_name": "Python 3"
    },
    "language_info": {
      "name": "python"
    }
  },
  "cells": [
    {
      "cell_type": "code",
      "execution_count": 2,
      "metadata": {
        "colab": {
          "base_uri": "https://localhost:8080/"
        },
        "id": "kkltrawhFvad",
        "outputId": "f5d2de94-bb6d-4bc8-d86b-a467448a39b7"
      },
      "outputs": [
        {
          "output_type": "stream",
          "name": "stdout",
          "text": [
            "0     4\n",
            "1     8\n",
            "2    15\n",
            "3    16\n",
            "4    23\n",
            "5    42\n",
            "dtype: int64\n"
          ]
        }
      ],
      "source": [
        "# Q1. Create a Pandas Series that contains the following data: 4, 8, 15, 16, 23, and 42. Then, print the series.\n",
        "import pandas as pd\n",
        "data = [4, 8, 15, 16, 23, 42]\n",
        "series = pd.Series(data)\n",
        "print(series)"
      ]
    },
    {
      "cell_type": "code",
      "source": [
        "# Q2. Create a variable of list type containing 10 elements in it, and apply pandas.Series function on the\n",
        "# variable print it.\n",
        "import pandas as pd\n",
        "my_list = [1, 2, 3, 4, 5, 6, 7, 8, 9, 10]\n",
        "series = pd.Series(my_list)\n",
        "print(series)"
      ],
      "metadata": {
        "colab": {
          "base_uri": "https://localhost:8080/"
        },
        "id": "sOaoovViG8oV",
        "outputId": "5b289211-0a1a-4c67-85a3-fbdf7b7b389c"
      },
      "execution_count": 3,
      "outputs": [
        {
          "output_type": "stream",
          "name": "stdout",
          "text": [
            "0     1\n",
            "1     2\n",
            "2     3\n",
            "3     4\n",
            "4     5\n",
            "5     6\n",
            "6     7\n",
            "7     8\n",
            "8     9\n",
            "9    10\n",
            "dtype: int64\n"
          ]
        }
      ]
    },
    {
      "cell_type": "code",
      "source": [
        "# Q3. Create a Pandas DataFrame that contains the following data:\n",
        "# Name Alice Bob Claire\n",
        "# Age 25 30 27\n",
        "# Gender Female Male Female\n",
        "import pandas as pd\n",
        "data = {\n",
        "    'Name': ['Alice', 'Bob', 'Claire'],\n",
        "    'Age': [25, 30, 27],\n",
        "    'Gender': ['Female', 'Male', 'Female']\n",
        "}\n",
        "df = pd.DataFrame(data)\n",
        "print(df)"
      ],
      "metadata": {
        "colab": {
          "base_uri": "https://localhost:8080/"
        },
        "id": "R9EdE2EEHXP8",
        "outputId": "676af4a8-5967-4f46-fa44-f619099257a0"
      },
      "execution_count": 4,
      "outputs": [
        {
          "output_type": "stream",
          "name": "stdout",
          "text": [
            "     Name  Age  Gender\n",
            "0   Alice   25  Female\n",
            "1     Bob   30    Male\n",
            "2  Claire   27  Female\n"
          ]
        }
      ]
    },
    {
      "cell_type": "code",
      "source": [
        "# Q4. What is ‘DataFrame’ in pandas and how is it different from pandas.series? Explain with an example.\n",
        "\"\"\"\n",
        "A DataFrame is a 2-dimensional data structure designed for handling tabular data with multiple columns, while a Series is a 1-dimensional data structure\n",
        "used to represent a single column or row of data within a DataFrame or as a standalone data structure.\n",
        "\"\"\""
      ],
      "metadata": {
        "colab": {
          "base_uri": "https://localhost:8080/",
          "height": 53
        },
        "id": "wHd_UOgdIFh9",
        "outputId": "cd5e985a-273b-487c-ae6c-cf3a16a20607"
      },
      "execution_count": 5,
      "outputs": [
        {
          "output_type": "execute_result",
          "data": {
            "text/plain": [
              "'\\nA DataFrame is a 2-dimensional data structure designed for handling tabular data with multiple columns, while a Series is a 1-dimensional data structure \\nused to represent a single column or row of data within a DataFrame or as a standalone data structure.\\n'"
            ],
            "application/vnd.google.colaboratory.intrinsic+json": {
              "type": "string"
            }
          },
          "metadata": {},
          "execution_count": 5
        }
      ]
    },
    {
      "cell_type": "code",
      "source": [
        "# Q5. What are some common functions you can use to manipulate data in a Pandas DataFrame? Can\n",
        "# you give an example of when you might use one of these functions?\n",
        "\"\"\"\n",
        "1) df.head(n): return first n rows of the DataFrame.\n",
        "2) df.tail(n): reutrun last n rows of the DataFrame.\n",
        "3) df.read_csv(\"filename\"): used to read csv file and give output as dataframe.\n",
        "4) df.info(): gives summary of data structure.\n",
        "5) df.describe(): gives summary statistics(mean, median, mode, etc).\n",
        "6) df.['col'] or df.col: used to select a column\n",
        "7) df.loc['label or index']: used to select by label or index.\n",
        "8) df.drop(): used to drop rows or columns\n",
        "9) df.fillna(): used to fill mising value in a data frame\n",
        "10) df.groupby(): group data by columns\n",
        "11) df.sort_values(): sort column values\n",
        "12) df.apply(): apply function to rows or columns\n",
        "\n",
        "example:\n",
        "import pandas as pd\n",
        "\n",
        "data = {\n",
        "    'Subject': ['Physics', 'Math', 'Biology', 'Physics', 'Math'],\n",
        "    'Views': [12000, 15000, 8000, 17000, 16000]\n",
        "}\n",
        "df = pd.DataFrame(data)\n",
        "\"\"\""
      ],
      "metadata": {
        "colab": {
          "base_uri": "https://localhost:8080/",
          "height": 122
        },
        "id": "sfluS7gkIqIK",
        "outputId": "b32012c1-47fd-4c98-a19c-e5973fef20de"
      },
      "execution_count": 6,
      "outputs": [
        {
          "output_type": "execute_result",
          "data": {
            "text/plain": [
              "'\\n1) df.head(n): return first n rows of the DataFrame.\\n2) df.tail(n): reutrun last n rows of the DataFrame.\\n3) df.read_csv(\"filename\"): used to read csv file and give output as dataframe.\\n4) df.info(): gives summary of data structure.\\n5) df.describe(): gives summary statistics(mean, median, mode, etc).\\n6) df.[\\'col\\'] or df.col: used to select a column\\n7) df.loc[\\'label or index\\']: used to select by label or index.\\n8) df.drop(): used to drop rows or columns\\n9) df.fillna(): used to fill mising value in a data frame\\n10) df.groupby(): group data by columns\\n11) df.sort_values(): sort column values\\n12) df.apply(): apply function to rows or columns\\n\\nexample:\\nimport pandas as pd\\n\\ndata = {\\n    \\'Subject\\': [\\'Physics\\', \\'Math\\', \\'Biology\\', \\'Physics\\', \\'Math\\'],\\n    \\'Views\\': [12000, 15000, 8000, 17000, 16000]\\n}\\ndf = pd.DataFrame(data)\\n'"
            ],
            "application/vnd.google.colaboratory.intrinsic+json": {
              "type": "string"
            }
          },
          "metadata": {},
          "execution_count": 6
        }
      ]
    },
    {
      "cell_type": "code",
      "source": [
        "# Q6. Which of the following is mutable in nature Series, DataFrame, Panel?\n",
        "# Series: 1-dimensional labeled arrays, size-immutable (once created, the length cannot be changed).\n",
        "# DataFrame: 2-dimensional labeled data structure, size-mutable (you can add or remove columns).\n",
        "# Panel: 3-dimensional labeled data structure, size-mutable."
      ],
      "metadata": {
        "id": "L-CJEPCXLsz2"
      },
      "execution_count": 7,
      "outputs": []
    },
    {
      "cell_type": "code",
      "source": [
        "# Q7. Create a DataFrame using multiple Series. Explain with an example.\n",
        "import pandas as pd\n",
        "name = pd.Series(['Alice', 'Bob', 'Claire'])\n",
        "age = pd.Series([25,30,27])\n",
        "gender = pd.Series(['Female', 'Male', 'Female'])\n",
        "\n",
        "data = {\n",
        "    'Name': name,\n",
        "    'Age': age,\n",
        "    'Gender': gender\n",
        "}\n",
        "df = pd.DataFrame(data)\n",
        "print(df)"
      ],
      "metadata": {
        "colab": {
          "base_uri": "https://localhost:8080/"
        },
        "id": "Y3i5XEb_MVFv",
        "outputId": "e0ffeb02-3b8c-4e58-c8d1-fb9b46c4bfbe"
      },
      "execution_count": 8,
      "outputs": [
        {
          "output_type": "stream",
          "name": "stdout",
          "text": [
            "     Name  Age  Gender\n",
            "0   Alice   25  Female\n",
            "1     Bob   30    Male\n",
            "2  Claire   27  Female\n"
          ]
        }
      ]
    },
    {
      "cell_type": "code",
      "source": [],
      "metadata": {
        "id": "wg-kkM6MMxma"
      },
      "execution_count": null,
      "outputs": []
    }
  ]
}