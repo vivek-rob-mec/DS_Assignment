{
  "nbformat": 4,
  "nbformat_minor": 0,
  "metadata": {
    "colab": {
      "provenance": []
    },
    "kernelspec": {
      "name": "python3",
      "display_name": "Python 3"
    },
    "language_info": {
      "name": "python"
    }
  },
  "cells": [
    {
      "cell_type": "markdown",
      "source": [
        "### Q1. What is the mathematical formula for a linear SVM?\n",
        "Ans: \\\n",
        "\n",
        "A **Support Vector Machine (SVM)** is a supervised learning algorithm used for classification tasks. The goal of a **linear SVM** is to find a hyperplane that best separates the data points of different classes.\n",
        "\n",
        "### **Mathematical Formula for a Linear SVM:**\n",
        "\n",
        "Consider a binary classification problem where we have two classes, **+1** and **-1**, and the training data consists of **n** data points:\n",
        "\n",
        "$[\n",
        "\\{(x_1, y_1), (x_2, y_2), \\dots, (x_n, y_n)\\}\n",
        "$]\n",
        "where:\n",
        "- $( x_i \\in \\mathbb{R}^d $) (feature vector of the \\(i\\)-th data point),\n",
        "- $( y_i \\in \\{-1, +1\\} $) (class label of the \\(i\\)-th data point),\n",
        "- $( d \\) is the number of features.\n",
        "\n",
        "#### **Goal:**\n",
        "The goal of linear SVM is to find a hyperplane $( \\mathbf{w} \\cdot \\mathbf{x} + b = 0 $) that maximizes the margin between the two classes. The margin is the distance between the hyperplane and the closest data points from either class (called **support vectors**).\n",
        "\n",
        "#### **Linear Decision Boundary:**\n",
        "The decision boundary is represented by the equation:\n",
        "$[\n",
        "\\mathbf{w} \\cdot \\mathbf{x} + b = 0\n",
        "$]\n",
        "where:\n",
        "- $( \\mathbf{w} $) is the weight vector (normal to the hyperplane),\n",
        "- $( b ) is the bias term (offset from the origin),\n",
        "- $( \\mathbf{x} $) is the input feature vector.\n",
        "\n",
        "#### **Margins:**\n",
        "The **margin** is the distance between the decision boundary and the closest data points from either class. For a data point $( x_i )$, the margin is defined as:\n",
        "\n",
        "$[\n",
        "\\frac{1}{\\|\\mathbf{w}\\|}\n",
        "$]\n",
        "\n",
        "To maximize the margin, the SVM optimization problem becomes:\n",
        "\n",
        "$[\n",
        "\\underset{\\mathbf{w}, b}{\\text{maximize}} \\, \\frac{1}{2} \\|\\mathbf{w}\\|^2\n",
        "$]\n",
        "\n",
        "This is equivalent to minimizing $( \\frac{1}{2} \\|\\mathbf{w}\\|^2 )$.\n",
        "\n",
        "#### **Constraints:**\n",
        "For the SVM to correctly classify the data points, the following constraints must hold for all training data points:\n",
        "\n",
        "$[\n",
        "y_i (\\mathbf{w} \\cdot \\mathbf{x}_i + b) \\geq 1, \\quad \\forall i = 1, 2, \\dots, n\n",
        "$]\n",
        "\n",
        "This ensures that all data points are correctly classified with a margin of at least 1 from the hyperplane.\n",
        "\n",
        "#### **Optimization Problem:**\n",
        "The optimization problem becomes:\n",
        "$[\n",
        "\\min_{\\mathbf{w}, b} \\, \\frac{1}{2} \\|\\mathbf{w}\\|^2\n",
        "$]\n",
        "subject to:\n",
        "$[\n",
        "y_i (\\mathbf{w} \\cdot \\mathbf{x}_i + b) \\geq 1, \\quad \\forall i = 1, 2, \\dots, n\n",
        "$]\n",
        "\n",
        "This can be solved using quadratic programming to find the optimal $( \\mathbf{w} $) and \\( b \\).\n",
        "\n",
        "#### **Final Decision Function:**\n",
        "Once the optimal hyperplane is found, the decision rule for classifying a new data point $( \\mathbf{x} $) is:\n",
        "\n",
        "$[\n",
        "\\text{Predict}(x) = \\text{sign}(\\mathbf{w} \\cdot \\mathbf{x} + b)\n",
        "$]\n",
        "\n",
        "- If $( \\mathbf{w} \\cdot \\mathbf{x} + b > 0 )$, the predicted class is \\( +1 \\),\n",
        "- If $( \\mathbf{w} \\cdot \\mathbf{x} + b < 0 )$, the predicted class is \\( -1 \\).\n",
        "\n",
        "### **Summary:**\n",
        "In a linear SVM, the optimization problem aims to find the weight vector $( \\mathbf{w} $) and bias \\( b \\) that define a hyperplane to separate the data points with the largest margin while ensuring that all points are correctly classified. The decision function then classifies new points based on which side of the hyperplane they lie on."
      ],
      "metadata": {
        "id": "_z6x1a8VYQtI"
      }
    },
    {
      "cell_type": "markdown",
      "source": [
        "### Q2. What is the objective function of a linear SVM?\n",
        "Ans: \\\n",
        "\n",
        "The **objective function** of a **linear SVM** depends on whether you're dealing with the **hard-margin SVM** (no tolerance for misclassification) or the **soft-margin SVM** (allows some misclassification for non-linearly separable data).\n",
        "\n",
        "---\n",
        "\n",
        "###  **1. Hard-Margin SVM (for linearly separable data)**\n",
        "\n",
        "#### **Objective Function:**\n",
        "$$[\n",
        "\\min_{\\mathbf{w}, b} \\ \\frac{1}{2} \\|\\mathbf{w}\\|^2\n",
        "]$$\n",
        "\n",
        "#### **Subject to the constraint:**\n",
        "$$[\n",
        "y_i (\\mathbf{w} \\cdot \\mathbf{x}_i + b) \\geq 1, \\quad \\forall i = 1, 2, ..., n\n",
        "]$$\n",
        "\n",
        "- $( \\mathbf{w} $): weight vector\n",
        "- \\( b \\): bias term\n",
        "- $( \\mathbf{x}_i $): input vector\n",
        "- $( y_i \\in \\{-1, +1\\} $): class label\n",
        "- $( \\|\\mathbf{w}\\| $): norm of the weight vector (related to the margin)\n",
        "\n",
        "> **Goal**: Maximize the margin between the two classes by minimizing \\( \\|\\mathbf{w}\\|^2 \\), while ensuring all points are correctly classified.\n",
        "\n",
        "---\n",
        "\n",
        "###  **2. Soft-Margin SVM (for non-linearly separable data)**\n",
        "\n",
        "When perfect separation is not possible, **slack variables** $( \\xi_i )$ are introduced to allow some violations.\n",
        "\n",
        "#### **Objective Function:**\n",
        "$$[\n",
        "\\min_{\\mathbf{w}, b, \\xi} \\ \\frac{1}{2} \\|\\mathbf{w}\\|^2 + C \\sum_{i=1}^{n} \\xi_i\n",
        "]$$\n",
        "\n",
        "#### **Subject to the constraints:**\n",
        "$$[\n",
        "y_i (\\mathbf{w} \\cdot \\mathbf{x}_i + b) \\geq 1 - \\xi_i, \\quad \\xi_i \\geq 0, \\quad \\forall i\n",
        "]$$\n",
        "\n",
        "- $( \\xi_i )$: slack variables (penalties for misclassification or margin violations)\n",
        "- \\( C \\): regularization parameter that balances the trade-off between maximizing the margin and minimizing the classification error.\n",
        "\n",
        "> **Interpretation of \\(C\\)**:\n",
        "- High \\(C\\) → Model penalizes misclassifications more heavily (less tolerant to errors)\n",
        "- Low \\(C\\) → Model allows more misclassifications to find a wider margin\n",
        "\n",
        "---\n",
        "\n",
        "###  **Summary:**\n",
        "\n",
        "- The **objective function** of a **linear SVM** aims to:\n",
        "  - **Minimize** the model complexity (via $( \\|\\mathbf{w}\\|^2 )$)\n",
        "  - **Maximize** the margin between classes\n",
        "  - Optionally **penalize misclassifications** (using slack variables and regularization)\n",
        "\n",
        " **Soft-margin objective (most commonly used):**\n",
        "$$[\n",
        "\\boxed{\\min_{\\mathbf{w}, b, \\xi} \\ \\frac{1}{2} \\|\\mathbf{w}\\|^2 + C \\sum_{i=1}^{n} \\xi_i}\n",
        "]$$  \n",
        "subject to:\n",
        "$$[\n",
        "y_i (\\mathbf{w} \\cdot \\mathbf{x}_i + b) \\geq 1 - \\xi_i, \\quad \\xi_i \\geq 0\n",
        "]$$"
      ],
      "metadata": {
        "id": "LS3Tus4uYQ6m"
      }
    },
    {
      "cell_type": "markdown",
      "source": [
        "### Q3. What is the kernel trick in SVM?\n",
        "Ans: \\\n",
        "\n",
        "The **kernel trick** is a powerful technique used in Support Vector Machines (SVMs) to handle **non-linearly separable data** by implicitly mapping it into a higher-dimensional space — without actually performing the transformation.\n",
        "\n",
        "---\n",
        "\n",
        "###  Why do we need the kernel trick?\n",
        "\n",
        "In some datasets, the classes can't be separated by a straight line (or hyperplane in higher dimensions). For example:\n",
        "\n",
        "- In 2D, a circular pattern of data points can’t be separated linearly.\n",
        "- But in a **higher-dimensional space**, these points might become linearly separable.\n",
        "\n",
        "The problem is: explicitly computing this transformation (called **feature mapping**) can be **very expensive** or **infinite-dimensional**.\n",
        "\n",
        "---\n",
        "\n",
        "###  What the kernel trick does:\n",
        "\n",
        "Instead of computing the transformation $(\\phi(x)$) and then taking dot products in high dimensions, **the kernel trick** allows us to **compute the dot product directly in the high-dimensional space** using a **kernel function** $(K(x_i, x_j)$):\n",
        "\n",
        "$[\n",
        "K(x_i, x_j) = \\phi(x_i)^T \\phi(x_j)\n",
        "$]\n",
        "\n",
        "This avoids explicitly computing the transformation $(\\phi(x)$), saving time and memory.\n",
        "\n",
        "---\n",
        "\n",
        "### $ Common Kernel Functions:\n",
        "\n",
        "1. **Linear Kernel** (used for linearly separable data):\n",
        "   $[\n",
        "   K(x_i, x_j) = x_i^T x_j\n",
        "   $]\n",
        "\n",
        "2. **Polynomial Kernel**:\n",
        "   $[\n",
        "   K(x_i, x_j) = (\\gamma x_i^T x_j + r)^d\n",
        "   $]\n",
        "   - $( \\gamma $): scale, \\( r \\): offset, \\( d \\): degree of polynomial\n",
        "\n",
        "3. **Radial Basis Function (RBF) or Gaussian Kernel**:\n",
        "   $[\n",
        "   K(x_i, x_j) = \\exp(-\\gamma \\|x_i - x_j\\|^2)\n",
        "   $]\n",
        "   - Very popular for non-linear problems\n",
        "\n",
        "4. **Sigmoid Kernel**:\n",
        "   $[\n",
        "   K(x_i, x_j) = \\tanh(\\gamma x_i^T x_j + r)\n",
        "   $]\n",
        "\n",
        "---\n",
        "\n",
        "###  Example Intuition:\n",
        "\n",
        "Imagine a dataset shaped like a donut (inner class and outer class). In 2D, no straight line can separate the two. But if we map it to 3D (e.g., using a radial transformation), a hyperplane *can* separate them.\n",
        "\n",
        "The **RBF kernel** does this kind of mapping **implicitly**."
      ],
      "metadata": {
        "id": "5Koz0MYhYRF0"
      }
    },
    {
      "cell_type": "markdown",
      "source": [
        "### Q4. What is the role of support vectors in SVM Explain with example\n",
        "Ans:\n",
        "\n",
        "**Support Vectors** are the **data points that lie closest to the decision boundary (hyperplane)** in a Support Vector Machine (SVM). These points are **critical** because:\n",
        "\n",
        "- They **define** the position and orientation of the separating hyperplane.\n",
        "- The **margin** (i.e., the distance between the hyperplane and the nearest data points) is calculated **based on these support vectors**.\n",
        "- If you **remove** a support vector, the hyperplane would **change**.\n",
        "- All other data points (farther from the hyperplane) do **not affect** the decision boundary.\n",
        "\n",
        "---\n",
        "\n",
        "###  **Mathematical Role:**\n",
        "\n",
        "The decision boundary of a linear SVM is:\n",
        "$$[\n",
        "f(x) = \\mathbf{w} \\cdot \\mathbf{x} + b = 0\n",
        "]$$\n",
        "\n",
        "The support vectors satisfy:\n",
        "$$[\n",
        "y_i (\\mathbf{w} \\cdot \\mathbf{x}_i + b) = 1\n",
        "]$$\n",
        "\n",
        "Where:\n",
        "- $( y_i \\in \\{-1, +1\\} $)\n",
        "- $( \\mathbf{x}_i $): support vector\n",
        "- $( \\mathbf{w} $): weight vector\n",
        "- \\( b \\): bias term\n",
        "\n",
        "These points lie **exactly on the margin** (the boundary of the margin area).\n",
        "\n",
        "---\n",
        "\n",
        "###  **Why are they important?**\n",
        "\n",
        "- SVM aims to **maximize the margin**, and this margin is **defined only by the support vectors**.\n",
        "- The **model complexity** and **generalization ability** depend primarily on the support vectors.\n",
        "- Even if the dataset is huge, SVM only needs to keep the **support vectors** for prediction, making it memory-efficient.\n",
        "\n",
        "---\n",
        "\n",
        "###  **Example:**\n",
        "\n",
        "Imagine you have the following 2D binary classification data:\n",
        "\n",
        "| x1 | x2 | Label |\n",
        "|----|----|-------|\n",
        "| 2  | 3  | +1    |\n",
        "| 3  | 3  | +1    |\n",
        "| 2  | 2  | -1    |\n",
        "| 3  | 1  | -1    |\n",
        "\n",
        "When you fit a linear SVM:\n",
        "\n",
        "- The SVM finds the best line that separates the +1 and -1 classes **with the widest possible margin**.\n",
        "- Let’s say the points **(2,3)** and **(3,1)** are closest to this line.\n",
        "- These two points are **support vectors**.\n",
        "- All other points don’t matter for defining the margin."
      ],
      "metadata": {
        "id": "Xw0dUmNWYRTx"
      }
    },
    {
      "cell_type": "code",
      "source": [
        "\"\"\"\n",
        "Q6. SVM Implementation through Iris dataset.\n",
        "\n",
        "Bonus task: Implement a linear SVM classifier from scratch using Python and compare its\n",
        "performance with the scikit-learn implementation.\n",
        "~ Load the iris dataset from the scikit-learn library and split it into a training set and a testing setl\n",
        "~ Train a linear SVM classifier on the training set and predict the labels for the testing setl\n",
        "~ Compute the accuracy of the model on the testing setl\n",
        "~ Plot the decision boundaries of the trained model using two of the featuresl\n",
        "~ Try different values of the regularisation parameter C and see how it affects the performance of\n",
        "the model.\n",
        "\"\"\"\n",
        "from sklearn import datasets\n",
        "from sklearn.model_selection import train_test_split\n",
        "from sklearn.svm import SVC\n",
        "from sklearn.metrics import accuracy_score\n",
        "import matplotlib.pyplot as plt\n",
        "import numpy as np\n",
        "\n",
        "# Load dataset\n",
        "iris = datasets.load_iris()\n",
        "X = iris.data[:, :2]  # Use first two features for visualization\n",
        "y = iris.target\n",
        "\n",
        "# Binary classification (e.g., class 0 vs. others)\n",
        "y = (y == 0).astype(int)\n",
        "\n",
        "# Split the dataset\n",
        "X_train, X_test, y_train, y_test = train_test_split(X, y, test_size=0.3, random_state=42)\n",
        "\n",
        "# Train a linear SVM classifier\n",
        "clf = SVC(kernel='linear', C=1)\n",
        "clf.fit(X_train, y_train)\n",
        "\n",
        "# Predict and evaluate\n",
        "y_pred = clf.predict(X_test)\n",
        "acc = accuracy_score(y_test, y_pred)\n",
        "print(f\"Accuracy (sklearn): {acc:.2f}\")\n"
      ],
      "metadata": {
        "colab": {
          "base_uri": "https://localhost:8080/"
        },
        "id": "rBiqN_MwcHEB",
        "outputId": "647a8abf-33da-4f4f-ab9b-769a59e4ec42"
      },
      "execution_count": 1,
      "outputs": [
        {
          "output_type": "stream",
          "name": "stdout",
          "text": [
            "Accuracy (sklearn): 1.00\n"
          ]
        }
      ]
    },
    {
      "cell_type": "code",
      "source": [
        "def plot_decision_boundary(clf, X, y):\n",
        "    h = 0.02\n",
        "    x_min, x_max = X[:, 0].min() - 1, X[:, 0].max() + 1\n",
        "    y_min, y_max = X[:, 1].min() - 1, X[:, 1].max() + 1\n",
        "    xx, yy = np.meshgrid(np.arange(x_min, x_max, h),\n",
        "                         np.arange(y_min, y_max, h))\n",
        "    Z = clf.predict(np.c_[xx.ravel(), yy.ravel()])\n",
        "    Z = Z.reshape(xx.shape)\n",
        "\n",
        "    plt.contourf(xx, yy, Z, cmap=plt.cm.coolwarm, alpha=0.8)\n",
        "    plt.scatter(X[:, 0], X[:, 1], c=y, cmap=plt.cm.coolwarm, edgecolors='k')\n",
        "    plt.xlabel('Sepal length')\n",
        "    plt.ylabel('Sepal width')\n",
        "    plt.title('Linear SVM Decision Boundary')\n",
        "    plt.show()\n",
        "\n",
        "plot_decision_boundary(clf, X_train, y_train)\n"
      ],
      "metadata": {
        "colab": {
          "base_uri": "https://localhost:8080/",
          "height": 472
        },
        "id": "YFQPOG8zfGg8",
        "outputId": "b441b68f-4c6e-46f1-bfc5-a6f44875fb61"
      },
      "execution_count": 2,
      "outputs": [
        {
          "output_type": "display_data",
          "data": {
            "text/plain": [
              "<Figure size 640x480 with 1 Axes>"
            ],
            "image/png": "[encoded data removed]"
          },
          "metadata": {}
        }
      ]
    },
    {
      "cell_type": "code",
      "source": [
        "for C in [0.01, 0.1, 1, 10, 100]:\n",
        "    clf = SVC(kernel='linear', C=C)\n",
        "    clf.fit(X_train, y_train)\n",
        "    y_pred = clf.predict(X_test)\n",
        "    acc = accuracy_score(y_test, y_pred)\n",
        "    print(f\"C={C}, Accuracy={acc:.2f}\")\n"
      ],
      "metadata": {
        "colab": {
          "base_uri": "https://localhost:8080/"
        },
        "id": "wkdDzZlTfNFA",
        "outputId": "34ffd6a5-ee97-4e19-a38b-5d6cac661e4e"
      },
      "execution_count": 3,
      "outputs": [
        {
          "output_type": "stream",
          "name": "stdout",
          "text": [
            "C=0.01, Accuracy=0.58\n",
            "C=0.1, Accuracy=1.00\n",
            "C=1, Accuracy=1.00\n",
            "C=10, Accuracy=1.00\n",
            "C=100, Accuracy=1.00\n"
          ]
        }
      ]
    },
    {
      "cell_type": "code",
      "source": [
        "class LinearSVM:\n",
        "    def __init__(self, learning_rate=0.001, lambda_param=0.01, n_iters=1000):\n",
        "        self.lr = learning_rate\n",
        "        self.lambda_param = lambda_param\n",
        "        self.n_iters = n_iters\n",
        "        self.w = None\n",
        "        self.b = None\n",
        "\n",
        "    def fit(self, X, y):\n",
        "        y_ = np.where(y <= 0, -1, 1)\n",
        "        n_samples, n_features = X.shape\n",
        "        self.w = np.zeros(n_features)\n",
        "        self.b = 0\n",
        "\n",
        "        for _ in range(self.n_iters):\n",
        "            for idx, x_i in enumerate(X):\n",
        "                condition = y_[idx] * (np.dot(x_i, self.w) + self.b) >= 1\n",
        "                if condition:\n",
        "                    self.w -= self.lr * (2 * self.lambda_param * self.w)\n",
        "                else:\n",
        "                    self.w -= self.lr * (2 * self.lambda_param * self.w - np.dot(x_i, y_[idx]))\n",
        "                    self.b -= self.lr * y_[idx]\n",
        "\n",
        "    def predict(self, X):\n",
        "        linear_output = np.dot(X, self.w) + self.b\n",
        "        return np.where(linear_output >= 0, 1, 0)\n"
      ],
      "metadata": {
        "id": "jIN4BNtPfQ6H"
      },
      "execution_count": 4,
      "outputs": []
    },
    {
      "cell_type": "code",
      "source": [
        "model = LinearSVM()\n",
        "model.fit(X_train, y_train)\n",
        "y_pred = model.predict(X_test)\n",
        "print(f\"Accuracy (scratch): {accuracy_score(y_test, y_pred):.2f}\")\n"
      ],
      "metadata": {
        "colab": {
          "base_uri": "https://localhost:8080/"
        },
        "id": "Sp4ahQ1Rfflb",
        "outputId": "53ef9e24-7dec-4f27-abb1-e8f2238c380a"
      },
      "execution_count": 5,
      "outputs": [
        {
          "output_type": "stream",
          "name": "stdout",
          "text": [
            "Accuracy (scratch): 1.00\n"
          ]
        }
      ]
    },
    {
      "cell_type": "code",
      "source": [],
      "metadata": {
        "id": "8CDQ8HT-fhuR"
      },
      "execution_count": null,
      "outputs": []
    }
  ]
}