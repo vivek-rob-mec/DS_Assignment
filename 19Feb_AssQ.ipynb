{
  "nbformat": 4,
  "nbformat_minor": 0,
  "metadata": {
    "colab": {
      "provenance": []
    },
    "kernelspec": {
      "name": "python3",
      "display_name": "Python 3"
    },
    "language_info": {
      "name": "python"
    }
  },
  "cells": [
    {
      "cell_type": "code",
      "execution_count": 1,
      "metadata": {
        "colab": {
          "base_uri": "https://localhost:8080/",
          "height": 122
        },
        "id": "eETZ6ZY3wwsP",
        "outputId": "40e239fc-8cea-44cb-bdb6-3f4e8bc44ed4"
      },
      "outputs": [
        {
          "output_type": "execute_result",
          "data": {
            "text/plain": [
              "\"\\n1) Flask is a microframework, meaning it provides only the core functionalities for web development, leaving the rest to the developer.\\n2) It's written in Python, a popular and versatile language.\\n3) Flask has a simple and uncluttered design, making it easy to learn and use.\\n4) It's compliant with the Web Server Gateway Interface (WSGI), which defines how web servers and web applications communicate.\\n5) Flask uses Jinja2 as its default templating engine, which allows you to write dynamic HTML templates with Python-like syntax. \\n\\nAdvantages:\\n1) higher flexibility.\\n2) higher compatibility with latest technologies.\\n3) high scalability for simple web applications.\\n5) customization.\\n6) slightly higher framework performance.\\n7) easier to use for simple cases.\\n8) smaller size of the code base.\\n\""
            ],
            "application/vnd.google.colaboratory.intrinsic+json": {
              "type": "string"
            }
          },
          "metadata": {},
          "execution_count": 1
        }
      ],
      "source": [
        "# Q1. What is Flask Framework? What are the advantages of Flask Framework?\n",
        "\"\"\"\n",
        "1) Flask is a microframework, meaning it provides only the core functionalities for web development, leaving the rest to the developer.\n",
        "2) It's written in Python, a popular and versatile language.\n",
        "3) Flask has a simple and uncluttered design, making it easy to learn and use.\n",
        "4) It's compliant with the Web Server Gateway Interface (WSGI), which defines how web servers and web applications communicate.\n",
        "5) Flask uses Jinja2 as its default templating engine, which allows you to write dynamic HTML templates with Python-like syntax.\n",
        "\n",
        "Advantages:\n",
        "1) higher flexibility.\n",
        "2) higher compatibility with latest technologies.\n",
        "3) high scalability for simple web applications.\n",
        "5) customization.\n",
        "6) slightly higher framework performance.\n",
        "7) easier to use for simple cases.\n",
        "8) smaller size of the code base.\n",
        "\"\"\""
      ]
    },
    {
      "cell_type": "code",
      "source": [
        "# Q2. Create a simple Flask application to display ‘Hello World!!’. Attach the screenshot of the output in Jupyter Notebook.\n",
        "from flask import Flask\n",
        "from flask import request\n",
        "app = Flask(__name__)\n",
        "\n",
        "@app.route(\"/\")\n",
        "def hello_world():\n",
        "    return \"<h1>Hello, World!</h1>\"\n",
        "\n",
        "if __name__==\"__main__\":\n",
        "  app.run(host=\"0.0.0.0\")"
      ],
      "metadata": {
        "colab": {
          "base_uri": "https://localhost:8080/"
        },
        "id": "5TZfazvP3RK9",
        "outputId": "90fa523d-9e5c-453b-b218-16bb18f025fe"
      },
      "execution_count": 7,
      "outputs": [
        {
          "output_type": "stream",
          "name": "stdout",
          "text": [
            " * Serving Flask app '__main__'\n",
            " * Debug mode: off\n"
          ]
        },
        {
          "output_type": "stream",
          "name": "stderr",
          "text": [
            "INFO:werkzeug:\u001b[31m\u001b[1mWARNING: This is a development server. Do not use it in a production deployment. Use a production WSGI server instead.\u001b[0m\n",
            " * Running on all addresses (0.0.0.0)\n",
            " * Running on http://127.0.0.1:5000\n",
            " * Running on http://172.28.0.12:5000\n",
            "INFO:werkzeug:\u001b[33mPress CTRL+C to quit\u001b[0m\n"
          ]
        }
      ]
    },
    {
      "cell_type": "code",
      "source": [
        "# Q3. What is App routing in Flask? Why do we use app routes?\n",
        "\"\"\"\n",
        "The @app.route() decorator is used to bind a URL to a function. When a client accesses that URL,\n",
        "Flask executes the associated function and returns its output as the response.\n",
        "This technique used to map the specific URL with the associated function intended to perform some task.\n",
        "\n",
        "Use:\n",
        "1) Creating structured web application.\n",
        "2) Providing user friendly URL's.\n",
        "3) Handling different http methods.\n",
        "4) Creating API's\n",
        "\"\"\""
      ],
      "metadata": {
        "colab": {
          "base_uri": "https://localhost:8080/",
          "height": 70
        },
        "id": "3jWzXQHB3y-E",
        "outputId": "dccc6357-ba70-4782-a4e0-a1f5c4809282"
      },
      "execution_count": 8,
      "outputs": [
        {
          "output_type": "execute_result",
          "data": {
            "text/plain": [
              "\"\\nThe @app.route() decorator is used to bind a URL to a function. When a client accesses that URL, \\nFlask executes the associated function and returns its output as the response. \\nThis technique used to map the specific URL with the associated function intended to perform some task.\\n\\nUse:\\n1) Creating structured web application.\\n2) Providing user friendly URL's.\\n3) Handling different http methods.\\n4) Creating API's\\n\""
            ],
            "application/vnd.google.colaboratory.intrinsic+json": {
              "type": "string"
            }
          },
          "metadata": {},
          "execution_count": 8
        }
      ]
    },
    {
      "cell_type": "code",
      "source": [
        "# Q4. Create a “/welcome” route to display the welcome message “Welcome to ABC Corporation” and a “/” route to show the following details:\n",
        "# Company Name: ABC Corporation\n",
        "# Location: India\n",
        "# Contact Detail: 999-999-9999\n",
        "from flask import Flask\n",
        "from flask import request\n",
        "app = Flask(__name__)\n",
        "\n",
        "@app.route(\"/Welcome\")\n",
        "def welcome():\n",
        "    return \"<h1>Welcome to ABC Corporation</h1>\"\n",
        "\n",
        "@app.route(\"/\")\n",
        "def company():\n",
        "    return \"<h1>Company Name: ABC Corporation</h1><br><h1>Location: India</h1><br><h1>Contact Detail: 999-999-9999</h1>\"\n",
        "\n",
        "if __name__==\"__main__\":\n",
        "  app.run()"
      ],
      "metadata": {
        "colab": {
          "base_uri": "https://localhost:8080/"
        },
        "id": "XaoV5DqV53Me",
        "outputId": "f75893c1-aa7c-48cc-e7e7-2416603125ae"
      },
      "execution_count": 13,
      "outputs": [
        {
          "output_type": "stream",
          "name": "stdout",
          "text": [
            " * Serving Flask app '__main__'\n",
            " * Debug mode: off\n"
          ]
        },
        {
          "output_type": "stream",
          "name": "stderr",
          "text": [
            "INFO:werkzeug:\u001b[31m\u001b[1mWARNING: This is a development server. Do not use it in a production deployment. Use a production WSGI server instead.\u001b[0m\n",
            " * Running on http://127.0.0.1:5000\n",
            "INFO:werkzeug:\u001b[33mPress CTRL+C to quit\u001b[0m\n"
          ]
        }
      ]
    },
    {
      "cell_type": "code",
      "source": [
        "# Q5. What function is used in Flask for URL Building? Write a Python code to demonstrate the working of the url_for() function.\n",
        "\"\"\"\n",
        "The url_for() function is very useful for dynamically building a URL for a specific function.\n",
        "The function accepts the name of a function as first argument,\n",
        "and one or more keyword arguments, each corresponding to the variable part of URL.\n",
        "\"\"\"\n",
        "from flask import Flask, url_for, redirect\n",
        "app = Flask(__name__)\n",
        "\n",
        "@app.route(\"/admin\")\n",
        "def hello_admin():\n",
        "  return \"Hello admin!\"\n",
        "\n",
        "@app.route(\"/guest/<guest>\")\n",
        "def hello_guest(guest):\n",
        "  return \"Hello %s as Guest\" % guest\n",
        "\n",
        "@app.route(\"/user/<name>\")\n",
        "def hello_user(name):\n",
        "  if name == \"admin\":\n",
        "    return redirect(url_for(\"hello_admin\"))\n",
        "  else:\n",
        "    return redirect(url_for(\"hello_guest\", guest=name))\n",
        "\n",
        "if __name__=='__main__':\n",
        "  app.run(debug=True)"
      ],
      "metadata": {
        "colab": {
          "base_uri": "https://localhost:8080/"
        },
        "id": "Ub2OHEPm5-45",
        "outputId": "94504abe-ed69-460c-aa4f-e27e89c466ca"
      },
      "execution_count": 15,
      "outputs": [
        {
          "output_type": "stream",
          "name": "stdout",
          "text": [
            " * Serving Flask app '__main__'\n",
            " * Debug mode: on\n"
          ]
        },
        {
          "output_type": "stream",
          "name": "stderr",
          "text": [
            "INFO:werkzeug:\u001b[31m\u001b[1mWARNING: This is a development server. Do not use it in a production deployment. Use a production WSGI server instead.\u001b[0m\n",
            " * Running on http://127.0.0.1:5000\n",
            "INFO:werkzeug:\u001b[33mPress CTRL+C to quit\u001b[0m\n",
            "INFO:werkzeug: * Restarting with stat\n"
          ]
        }
      ]
    },
    {
      "cell_type": "code",
      "source": [],
      "metadata": {
        "id": "6Wnym-WC-lVY"
      },
      "execution_count": null,
      "outputs": []
    }
  ]
}