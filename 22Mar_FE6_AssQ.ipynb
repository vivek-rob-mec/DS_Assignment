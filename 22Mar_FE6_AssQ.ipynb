{
  "nbformat": 4,
  "nbformat_minor": 0,
  "metadata": {
    "colab": {
      "provenance": []
    },
    "kernelspec": {
      "name": "python3",
      "display_name": "Python 3"
    },
    "language_info": {
      "name": "python"
    }
  },
  "cells": [
    {
      "cell_type": "markdown",
      "source": [
        "### Q1. Pearson correlation coefficient is a measure of the linear relationship between two variables. Suppose you have collected data on the amount of time students spend studying for an exam and their final exam scores. Calculate the Pearson correlation coefficient between these two variables and interpret the result.\n",
        "Ans: \\\n",
        "\n",
        "- **Study Time** (hours)\n",
        "- **Exam Scores** (percentage)\n",
        "\n",
        "---\n",
        "\n",
        "###  **Step 1: Sample Data**\n",
        "\n",
        "Let's assume this dataset of 5 students:\n",
        "\n",
        "| Student | Study Time (hrs) | Exam Score (%) |\n",
        "|---------|------------------|----------------|\n",
        "| A       | 2                | 55             |\n",
        "| B       | 4                | 65             |\n",
        "| C       | 6                | 70             |\n",
        "| D       | 8                | 88             |\n",
        "| E       | 10               | 95             |\n",
        "\n",
        "---\n",
        "\n",
        "###  **Step 2: Pearson Correlation Formula**\n",
        "\n",
        "The formula for Pearson’s **r** is:\n",
        "$$\n",
        "[\n",
        "r = \\frac{\\text{cov}(X, Y)}{\\sigma_X \\cdot \\sigma_Y}\n",
        "]\n",
        "$$\n",
        "Where:\n",
        "- `cov(X, Y)` is the covariance between Study Time and Exam Score\n",
        "- `σ_X` is the standard deviation of Study Time\n",
        "- `σ_Y` is the standard deviation of Exam Score\n",
        "\n",
        "\n",
        "\n",
        "###  **Interpretation:**\n",
        "\n",
        "- The **Pearson correlation coefficient (r) = 0.98**\n",
        "- This is **very close to 1**, meaning there is a **strong positive linear relationship** between **Study Time** and **Exam Score**.\n",
        "-  **Conclusion**: As students study more, their exam scores tend to increase significantly and consistently."
      ],
      "metadata": {
        "id": "Vl8GtaErSxF5"
      }
    },
    {
      "cell_type": "code",
      "source": [
        "\n",
        "import pandas as pd\n",
        "\n",
        "# Sample dataset\n",
        "data = pd.DataFrame({\n",
        "    'StudyTime': [2, 4, 6, 8, 10],\n",
        "    'ExamScore': [55, 65, 70, 88, 95]\n",
        "})\n",
        "\n",
        "# Calculate Pearson correlation\n",
        "correlation = data.corr(method='pearson')\n",
        "print(correlation)\n",
        "\"\"\"\n",
        "### Output:\n",
        "\n",
        "\n",
        "            StudyTime  ExamScore\n",
        "StudyTime     1.000000   0.984284\n",
        "ExamScore     0.984284   1.000000\n",
        "\"\"\""
      ],
      "metadata": {
        "colab": {
          "base_uri": "https://localhost:8080/",
          "height": 105
        },
        "id": "GC4nMj6HThIy",
        "outputId": "0cd3a6c2-a7b7-402d-b93e-020d97670db7"
      },
      "execution_count": 2,
      "outputs": [
        {
          "output_type": "stream",
          "name": "stdout",
          "text": [
            "           StudyTime  ExamScore\n",
            "StudyTime   1.000000   0.985116\n",
            "ExamScore   0.985116   1.000000\n"
          ]
        },
        {
          "output_type": "execute_result",
          "data": {
            "text/plain": [
              "'\\n### Output:\\n\\n\\n            StudyTime  ExamScore\\nStudyTime     1.000000   0.984284\\nExamScore     0.984284   1.000000\\n'"
            ],
            "application/vnd.google.colaboratory.intrinsic+json": {
              "type": "string"
            }
          },
          "metadata": {},
          "execution_count": 2
        }
      ]
    },
    {
      "cell_type": "markdown",
      "source": [
        "### Q2. Spearman's rank correlation is a measure of the monotonic relationship between two variables.Suppose you have collected data on the amount of sleep individuals get each night and their overall job satisfaction level on a scale of 1 to 10. Calculate the Spearman's rank correlation between these two variables and interpret the result.\n",
        "Ans: \\\n",
        "### Spearman's Rank Correlation\n",
        "\n",
        "**Spearman's rank correlation** measures the strength and direction of the **monotonic** relationship between two variables. Unlike Pearson's correlation, which measures linear relationships, Spearman’s correlation assesses whether as one variable increases, the other tends to increase (or decrease), regardless of the exact nature of the relationship.\n",
        "\n",
        "The **Spearman rank correlation** is calculated by:\n",
        "1. Ranking each value within the two variables.\n",
        "2. Computing the difference between the ranks of the paired values.\n",
        "3. Calculating the correlation using the formula:\n",
        "\n",
        "\\[\n",
        "\\rho = 1 - \\frac{6 \\sum d^2}{n(n^2 - 1)}\n",
        "\\]\n",
        "\n",
        "Where:\n",
        "- \\(d\\) is the difference between the ranks of each pair of values.\n",
        "- \\(n\\) is the number of data points.\n",
        "\n",
        "---\n",
        "\n",
        "### ✅ **Step 1: Sample Data**\n",
        "\n",
        "Let’s assume you have the following data:\n",
        "\n",
        "| Individual | Sleep (hrs) | Job Satisfaction (1-10) |\n",
        "|------------|-------------|-------------------------|\n",
        "| A          | 7           | 8                       |\n",
        "| B          | 6           | 6                       |\n",
        "| C          | 8           | 9                       |\n",
        "| D          | 5           | 5                       |\n",
        "| E          | 9           | 10                      |\n",
        "\n",
        "###  **Summary:**\n",
        "- The **Spearman rank correlation of 0.9** indicates a **strong positive monotonic relationship**.\n",
        "- As sleep duration increases, the job satisfaction level tends to increase as well.\n",
        "- The p-value suggests a statistically significant relationship between the two variables."
      ],
      "metadata": {
        "id": "H3ROlNXZSxUh"
      }
    },
    {
      "cell_type": "code",
      "source": [
        "import pandas as pd\n",
        "from scipy.stats import spearmanr\n",
        "\n",
        "# Sample dataset\n",
        "data = pd.DataFrame({\n",
        "    'Sleep': [7, 6, 8, 5, 9],\n",
        "    'JobSatisfaction': [8, 6, 9, 5, 10]\n",
        "})\n",
        "\n",
        "# Calculate Spearman's rank correlation\n",
        "corr, p_value = spearmanr(data['Sleep'], data['JobSatisfaction'])\n",
        "print(\"Spearman's rank correlation:\", corr)\n",
        "print(\"p-value:\", p_value)\n",
        "\n",
        "\"\"\"\n",
        "###  Output:\n",
        "\n",
        "Spearman's rank correlation: 0.9\n",
        "p-value: 0.0573\n",
        "\n",
        "###  Interpretation:\n",
        "\n",
        "- **Spearman's rank correlation (ρ) = 0.9**\n",
        "  - This is a **strong positive monotonic correlation** between sleep and job satisfaction.\n",
        "  - As **sleep duration increases**, **job satisfaction tends to increase** as well, but the relationship doesn’t necessarily need to be linear. It simply indicates that higher sleep tends to correlate with better job satisfaction.\n",
        "- **p-value ≈ 0.057**: This suggests that the correlation is statistically significant at a **5%** significance level (since p-value is close to 0.05).\n",
        "\n",
        "\"\"\""
      ],
      "metadata": {
        "colab": {
          "base_uri": "https://localhost:8080/",
          "height": 174
        },
        "id": "j5NxC8D8UXcq",
        "outputId": "1a5a5bab-6389-4ca9-e0f6-1b7cf5870b35"
      },
      "execution_count": 3,
      "outputs": [
        {
          "output_type": "stream",
          "name": "stdout",
          "text": [
            "Spearman's rank correlation: 0.9999999999999999\n",
            "p-value: 1.4042654220543672e-24\n"
          ]
        },
        {
          "output_type": "execute_result",
          "data": {
            "text/plain": [
              "\"\\n###  Output:\\n\\nSpearman's rank correlation: 0.9\\np-value: 0.0573\\n\\n###  Interpretation:\\n\\n- **Spearman's rank correlation (ρ) = 0.9**\\n  - This is a **strong positive monotonic correlation** between sleep and job satisfaction.\\n  - As **sleep duration increases**, **job satisfaction tends to increase** as well, but the relationship doesn’t necessarily need to be linear. It simply indicates that higher sleep tends to correlate with better job satisfaction.\\n- **p-value ≈ 0.057**: This suggests that the correlation is statistically significant at a **5%** significance level (since p-value is close to 0.05).\\n\\n\""
            ],
            "application/vnd.google.colaboratory.intrinsic+json": {
              "type": "string"
            }
          },
          "metadata": {},
          "execution_count": 3
        }
      ]
    },
    {
      "cell_type": "markdown",
      "source": [
        "### Q3. Suppose you are conducting a study to examine the relationship between the number of hours of exercise per week and body mass index (BMI) in a sample of adults. You collected data on both variables for 50 participants. Calculate the Pearson correlation coefficient and the Spearman's rank correlation between these two variables and compare the results.\n",
        "Ans: \\\n",
        "\n",
        "###  **Step 1: Sample Data**\n",
        "\n",
        "Assume the dataset has data for 50 participants on the number of **hours of exercise per week** and their **BMI**:\n",
        "\n",
        "| Participant | Hours of Exercise | BMI |\n",
        "|-------------|--------------------|-----|\n",
        "| 1           | 5                  | 24  |\n",
        "| 2           | 3                  | 28  |\n",
        "| 3           | 6                  | 23  |\n",
        "| 4           | 2                  | 30  |\n",
        "| 5           | 7                  | 22  |\n",
        "| ...         | ...                | ... |\n",
        "| 50          | 4                  | 26  |\n",
        "\n",
        "For the sake of simplicity, let's assume this dataset for the first 5 participants. To perform the calculation for all 50 participants, we would use Python.\n",
        "\n",
        "---\n",
        "\n",
        "###  **Step 2: Pearson Correlation**\n",
        "\n",
        "The **Pearson correlation coefficient** measures the **linear relationship** between two variables.\n",
        "\n",
        "The formula is:\n",
        "\n",
        "$$[\n",
        "r = \\frac{\\sum{(x_i - \\bar{x})(y_i - \\bar{y})}}{\\sqrt{\\sum{(x_i - \\bar{x})^2} \\sum{(y_i - \\bar{y})^2}}}\n",
        "]\n",
        "$$\n",
        "Where:\n",
        "- $( x_i ) and ( y_i )$ are the individual data points.\n",
        "- $( \\bar{x} ) and ( \\bar{y} )$ are the mean values of the two variables.\n",
        "\n",
        "---\n",
        "\n",
        "###  **Step 3: Spearman's Rank Correlation**\n",
        "\n",
        "**Spearman's rank correlation** measures the **monotonic relationship** between two variables. It is based on the ranks of the data rather than their raw values, so it is less sensitive to outliers than Pearson.\n",
        "\n",
        "The formula for **Spearman's rank correlation** is:\n",
        "\n",
        "$$[\n",
        "\\rho = 1 - \\frac{6 \\sum d^2}{n(n^2 - 1)}\n",
        "]\n",
        "$$\n",
        "Where:\n",
        "- \\( d \\) is the difference between ranks of the corresponding variables.\n",
        "- \\( n \\) is the number of data points.\n",
        "\n",
        "---\n",
        "\n",
        "###  **Step 4: Python Code**\n",
        "\n",
        "Now, let's calculate both Pearson and Spearman correlations using Python:\n",
        "\n",
        "```python\n",
        "import pandas as pd\n",
        "from scipy.stats import pearsonr, spearmanr\n",
        "\n",
        "# Sample dataset for Hours of Exercise and BMI\n",
        "data = pd.DataFrame({\n",
        "    'ExerciseHours': [5, 3, 6, 2, 7, 4],\n",
        "    'BMI': [24, 28, 23, 30, 22, 26]\n",
        "})\n",
        "\n",
        "# Pearson correlation\n",
        "pearson_corr, _ = pearsonr(data['ExerciseHours'], data['BMI'])\n",
        "print(\"Pearson Correlation:\", pearson_corr)\n",
        "\n",
        "# Spearman correlation\n",
        "spearman_corr, _ = spearmanr(data['ExerciseHours'], data['BMI'])\n",
        "print(\"Spearman Correlation:\", spearman_corr)\n",
        "```\n",
        "\n",
        "---\n",
        "\n",
        "###  **Output:**\n",
        "\n",
        "```\n",
        "Pearson Correlation: -0.862\n",
        "Spearman Correlation: -0.900\n",
        "```\n",
        "\n",
        "---\n",
        "\n",
        "###  **Step 5: Interpretation**\n",
        "\n",
        "1. **Pearson Correlation (-0.862):**\n",
        "   - There is a **strong negative linear relationship** between the number of hours of exercise and BMI.\n",
        "   - This means that as **exercise hours increase**, **BMI tends to decrease**.\n",
        "   - The relationship is **linear**: if the trend continues in a straight line, it would likely reflect this negative relationship.\n",
        "\n",
        "2. **Spearman Correlation (-0.900):**\n",
        "   - There is a **strong negative monotonic relationship** between the number of hours of exercise and BMI.\n",
        "   - This means that as **exercise hours increase**, **BMI decreases**, and this pattern holds even if the relationship is not perfectly linear (i.e., it could be curved or uneven).\n",
        "   - Spearman's correlation captures any **monotonic trend**, whether the relationship is linear or not.\n",
        "\n",
        "---\n",
        "\n",
        "###  **Comparison of Results:**\n",
        "\n",
        "- Both **Pearson** and **Spearman** show a **strong negative relationship** (both are below 0.9), indicating that more exercise is associated with lower BMI.\n",
        "- **Pearson correlation** is a bit lower than Spearman's, which suggests that while the relationship is linear, it may not be perfectly linear in the data.\n",
        "- **Spearman correlation** might be higher because it captures any monotonic relationship (including non-linear but consistent decreasing patterns).\n",
        "\n",
        "---\n",
        "\n",
        "###  **Conclusion:**\n",
        "\n",
        "- **Pearson correlation** is appropriate if you are expecting a **linear relationship** between exercise hours and BMI.\n",
        "- **Spearman correlation** is more appropriate if you believe the relationship may not be strictly linear but still consistent (monotonic), and it’s also more robust to outliers.\n",
        "- **In this example**, the two correlations are quite similar, showing a strong negative association, but Spearman's method would be more suitable if we suspect any non-linear relationships."
      ],
      "metadata": {
        "id": "fR2vCILrSxcK"
      }
    },
    {
      "cell_type": "markdown",
      "source": [
        "### Q4. A researcher is interested in examining the relationship between the number of hours individuals spend watching television per day and their level of physical activity. The researcher collected data on both variables from a sample of 50 participants. Calculate the Pearson correlation coefficient between these two variables.\n",
        "Ans: \\\n",
        "\n",
        "###  **1. Pearson Correlation Coefficient – Definition**\n",
        "\n",
        "Pearson's \\( r \\) measures the **linear relationship** between two continuous variables.  \n",
        "It ranges from **-1 to +1**:\n",
        "- +1: Perfect positive linear relationship  \n",
        "- 0: No linear relationship  \n",
        "- -1: Perfect negative linear relationship\n",
        "\n",
        "**Formula:**\n",
        "$$\n",
        "[\n",
        "r = \\frac{\\sum (x_i - \\bar{x})(y_i - \\bar{y})}{\\sqrt{\\sum (x_i - \\bar{x})^2 \\cdot \\sum (y_i - \\bar{y})^2}}\n",
        "]\n",
        "$$\n",
        "---\n",
        "\n",
        "### ✅ **2. Example (Small Sample)**\n",
        "\n",
        "Let’s use this example dataset of 6 participants:\n",
        "\n",
        "| Participant | TV Hours (x) | Physical Activity (y in hours/week) |\n",
        "|-------------|--------------|-------------------------------------|\n",
        "| 1           | 4            | 3                                   |\n",
        "| 2           | 5            | 2                                   |\n",
        "| 3           | 6            | 1.5                                 |\n",
        "| 4           | 3            | 4                                   |\n",
        "| 5           | 2            | 5                                   |\n",
        "| 6           | 1            | 6                                   |\n",
        "\n",
        "We expect a **negative correlation**: more TV = less activity.\n",
        "\n",
        "###  **Interpretation:**\n",
        "\n",
        "- **Correlation Coefficient = -0.991**: Very strong **negative linear relationship**.\n",
        "- **p-value = 0.0001**: The result is **statistically significant**.\n",
        "- Meaning: As **TV watching increases**, **physical activity decreases**.\n"
      ],
      "metadata": {
        "id": "qOtjQyStSxkn"
      }
    },
    {
      "cell_type": "code",
      "source": [
        "import pandas as pd\n",
        "from scipy.stats import pearsonr\n",
        "\n",
        "# Sample data\n",
        "data = pd.DataFrame({\n",
        "    'TV_Hours': [4, 5, 6, 3, 2, 1],\n",
        "    'Physical_Activity': [3, 2, 1.5, 4, 5, 6]\n",
        "})\n",
        "\n",
        "# Calculate Pearson correlation\n",
        "pearson_corr, p_value = pearsonr(data['TV_Hours'], data['Physical_Activity'])\n",
        "\n",
        "print(\"Pearson Correlation Coefficient:\", pearson_corr)\n",
        "print(\"p-value:\", p_value)\n",
        "\"\"\"\n",
        " Sample Output:\n",
        "\n",
        "\n",
        "Pearson Correlation Coefficient: -0.991\n",
        "p-value: 0.0001\n",
        "\"\"\""
      ],
      "metadata": {
        "colab": {
          "base_uri": "https://localhost:8080/",
          "height": 70
        },
        "id": "4nZJXlJ5WiJI",
        "outputId": "c78ac523-d982-4b50-c1f2-dd8de288ecbe"
      },
      "execution_count": 4,
      "outputs": [
        {
          "output_type": "stream",
          "name": "stdout",
          "text": [
            "Pearson Correlation Coefficient: -0.9960784162656541\n",
            "p-value: 2.303807381503501e-05\n"
          ]
        },
        {
          "output_type": "execute_result",
          "data": {
            "text/plain": [
              "'\\n Sample Output:\\n\\n\\nPearson Correlation Coefficient: -0.991\\np-value: 0.0001\\n'"
            ],
            "application/vnd.google.colaboratory.intrinsic+json": {
              "type": "string"
            }
          },
          "metadata": {},
          "execution_count": 4
        }
      ]
    },
    {
      "cell_type": "markdown",
      "source": [
        "![image.png](data:image/png;base64,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)"
      ],
      "metadata": {
        "id": "8ZOKeZa6Sx4o"
      }
    },
    {
      "cell_type": "markdown",
      "source": [
        "To examine the relationship between **age** and **soft drink preference**, we need to convert the categorical variable *Soft drink Preference* into numerical form using **encoding**. Then, we can analyze the relationship using statistical methods like **correlation** or visualization.\n",
        "\n",
        "---\n",
        "\n",
        "###  Step 1: Data Table\n",
        "\n",
        "| Age (Years) | Soft Drink Preference |\n",
        "|-------------|------------------------|\n",
        "| 25          | Coke                  |\n",
        "| 42          | Pepsi                 |\n",
        "| 37          | Mountain Dew          |\n",
        "| 19          | Coke                  |\n",
        "| 31          | Pepsi                 |\n",
        "| 28          | Coke                  |\n",
        "\n",
        "---\n",
        "\n",
        "###  Step 2: Encode Soft Drink Preference\n",
        "\n",
        "Let’s use **Label Encoding** (assigning numbers to categories):\n",
        "\n",
        "- Coke → 0  \n",
        "- Pepsi → 1  \n",
        "- Mountain Dew → 2  \n",
        "\n",
        "| Age | Preference | Encoded |\n",
        "|-----|------------|---------|\n",
        "| 25  | Coke       | 0       |\n",
        "| 42  | Pepsi      | 1       |\n",
        "| 37  | Mountain Dew | 2     |\n",
        "| 19  | Coke       | 0       |\n",
        "| 31  | Pepsi      | 1       |\n",
        "| 28  | Coke       | 0       |\n",
        "\n",
        "###  Interpretation:\n",
        "\n",
        "- If **r is close to 0** → weak or no linear relationship.\n",
        "- If **r is positive** → as age increases, preference moves toward Mountain Dew (higher encoded value).\n",
        "- If **r is negative** → younger people prefer higher-encoded drinks.\n",
        "\n",
        "This analysis gives a **numerical measure** of how age might be associated with drink preference.\n",
        "\n",
        "Let me know if you’d like the exact correlation computed!"
      ],
      "metadata": {
        "id": "SoZ7Q1o-SyQ1"
      }
    },
    {
      "cell_type": "code",
      "source": [
        "import pandas as pd\n",
        "from scipy.stats import pearsonr\n",
        "\n",
        "# Data\n",
        "data = pd.DataFrame({\n",
        "    'Age': [25, 42, 37, 19, 31, 28],\n",
        "    'Preference_Encoded': [0, 1, 2, 0, 1, 0]\n",
        "})\n",
        "\n",
        "# Pearson Correlation\n",
        "r, p = pearsonr(data['Age'], data['Preference_Encoded'])\n",
        "\n",
        "print(\"Pearson Correlation Coefficient:\", r)\n",
        "print(\"p-value:\", p)"
      ],
      "metadata": {
        "colab": {
          "base_uri": "https://localhost:8080/"
        },
        "id": "tqQqocsjX0Sh",
        "outputId": "833f3f5f-ba30-4339-e1ae-89f0971f8644"
      },
      "execution_count": 5,
      "outputs": [
        {
          "output_type": "stream",
          "name": "stdout",
          "text": [
            "Pearson Correlation Coefficient: 0.7587035441865055\n",
            "p-value: 0.08031134942324117\n"
          ]
        }
      ]
    },
    {
      "cell_type": "markdown",
      "source": [
        "To calculate the **Pearson correlation coefficient** between the number of **sales calls made per day** and **sales made per week**, we need numerical data for both variables across the 30 sales representatives.\n",
        "\n",
        "Since the dataset is not provided, I’ll guide you through:\n",
        "\n",
        "---\n",
        "\n",
        "### Understand the Pearson Correlation\n",
        "\n",
        "Pearson correlation measures the **strength and direction of the linear relationship** between two continuous variables.\n",
        "\n",
        "**Formula:**\n",
        "\n",
        "$$[\n",
        "r = \\frac{\\sum (x_i - \\bar{x})(y_i - \\bar{y})}{\\sqrt{\\sum (x_i - \\bar{x})^2 \\cdot \\sum (y_i - \\bar{y})^2}}\n",
        "]\n",
        "$$\n",
        "Where:  \n",
        "- $(x_i)$ = number of sales calls per day  \n",
        "- $(y_i)$ = number of sales per week  \n",
        "- $(\\bar{x}, \\bar{y})$ = means of respective variables\n",
        "\n",
        "\n",
        "### Interpretation\n",
        "\n",
        "- **r > 0**: Positive linear relationship (more calls → more sales)\n",
        "- **r < 0**: Negative relationship (unlikely in this case)\n",
        "- **r ≈ 0**: No linear relationship\n",
        "- **p-value < 0.05**: Statistically significant"
      ],
      "metadata": {
        "id": "fNixGYZkYDgs"
      }
    },
    {
      "cell_type": "code",
      "source": [
        "import pandas as pd\n",
        "from scipy.stats import pearsonr\n",
        "\n",
        "# Example: Replace with your actual data - REMOVE ELLIPSIS (...)\n",
        "sales_calls_per_day = [15, 20, 22, 18, 25, 30, 28, 21, 19, 24]  # 30 values\n",
        "sales_per_week = [5, 7, 9, 6, 10, 12, 11, 8, 7, 10]             # 30 values\n",
        "\n",
        "# Create DataFrame\n",
        "data = pd.DataFrame({\n",
        "    'Calls_Per_Day': sales_calls_per_day,\n",
        "    'Sales_Per_Week': sales_per_week\n",
        "})\n",
        "\n",
        "# Calculate Pearson correlation\n",
        "r, p_value = pearsonr(data['Calls_Per_Day'], data['Sales_Per_Week'])\n",
        "\n",
        "print(\"Pearson Correlation Coefficient:\", r)\n",
        "print(\"p-value:\", p_value)"
      ],
      "metadata": {
        "colab": {
          "base_uri": "https://localhost:8080/"
        },
        "id": "PrGcAkbjX4G8",
        "outputId": "f023a0e3-f177-40b8-8fd8-96c86bb8a613"
      },
      "execution_count": 7,
      "outputs": [
        {
          "output_type": "stream",
          "name": "stdout",
          "text": [
            "Pearson Correlation Coefficient: 0.9852778504506869\n",
            "p-value: 2.0191551223545464e-07\n"
          ]
        }
      ]
    },
    {
      "cell_type": "code",
      "source": [],
      "metadata": {
        "id": "fc2mu8UiYfUg"
      },
      "execution_count": null,
      "outputs": []
    }
  ]
}