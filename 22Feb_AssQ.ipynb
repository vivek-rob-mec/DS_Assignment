{
  "nbformat": 4,
  "nbformat_minor": 0,
  "metadata": {
    "colab": {
      "provenance": []
    },
    "kernelspec": {
      "name": "python3",
      "display_name": "Python 3"
    },
    "language_info": {
      "name": "python"
    }
  },
  "cells": [
    {
      "cell_type": "code",
      "execution_count": 3,
      "metadata": {
        "id": "kwoYiMV-0TSd",
        "colab": {
          "base_uri": "https://localhost:8080/"
        },
        "outputId": "4cfc5009-5023-42fb-9900-1edcae7c934c"
      },
      "outputs": [
        {
          "output_type": "stream",
          "name": "stdout",
          "text": [
            "Collecting scrapetube\n",
            "  Downloading scrapetube-2.5.1-py3-none-any.whl.metadata (1.6 kB)\n",
            "Requirement already satisfied: requests in /usr/local/lib/python3.11/dist-packages (from scrapetube) (2.32.3)\n",
            "Requirement already satisfied: typing-extensions in /usr/local/lib/python3.11/dist-packages (from scrapetube) (4.13.0)\n",
            "Requirement already satisfied: charset-normalizer<4,>=2 in /usr/local/lib/python3.11/dist-packages (from requests->scrapetube) (3.4.1)\n",
            "Requirement already satisfied: idna<4,>=2.5 in /usr/local/lib/python3.11/dist-packages (from requests->scrapetube) (3.10)\n",
            "Requirement already satisfied: urllib3<3,>=1.21.1 in /usr/local/lib/python3.11/dist-packages (from requests->scrapetube) (2.3.0)\n",
            "Requirement already satisfied: certifi>=2017.4.17 in /usr/local/lib/python3.11/dist-packages (from requests->scrapetube) (2025.1.31)\n",
            "Downloading scrapetube-2.5.1-py3-none-any.whl (5.6 kB)\n",
            "Installing collected packages: scrapetube\n",
            "Successfully installed scrapetube-2.5.1\n",
            "https://www.youtube.com/watch?v=Fz_P-QkWC4A\n",
            "https://www.youtube.com/watch?v=THG0fduCOeQ\n",
            "https://www.youtube.com/watch?v=7lMrltvwt2M\n",
            "https://www.youtube.com/watch?v=Z_RUm5iRL-A\n",
            "https://www.youtube.com/watch?v=Qwjt_n4iDtA\n"
          ]
        }
      ],
      "source": [
        "# Go to this given URL and solve the following questions\n",
        "# URL: https://www.youtube.com/@PW-Foundation/videos\n",
        "# Q1. Write a python program to extract the video URL of the first five videos.\n",
        "!pip install scrapetube\n",
        "import scrapetube\n",
        "\n",
        "# Retrieve videos from the channel\n",
        "videos = scrapetube.get_channel(\"UCphU2bAGmw304CFAzy0Enuw\") ## channel ID\n",
        "\n",
        "# Extract URLs of the first five videos\n",
        "video_urls = []\n",
        "for i, video in enumerate(videos):\n",
        "    if i >= 5:\n",
        "        break\n",
        "    video_id = video['videoId']\n",
        "    video_url = f\"https://www.youtube.com/watch?v={video_id}\"\n",
        "    video_urls.append(video_url)\n",
        "\n",
        "# Print the video URLs\n",
        "for url in video_urls:\n",
        "    print(url)\n"
      ]
    },
    {
      "cell_type": "code",
      "source": [
        "# Q2. Write a python program to extract the URL of the video thumbnails of the first five videos.\n",
        "thumbnails_url = []  # Initialize the list to store thumbnail URLs\n",
        "\n",
        "for i, video in enumerate(videos):\n",
        "    if i >= 5:\n",
        "        break\n",
        "    video_id = video['videoId']\n",
        "\n",
        "    # Create the thumbnail URL for the current video\n",
        "    thumbnail_url = f\"https://img.youtube.com/vi/{video_id}/maxresdefault.jpg\"\n",
        "\n",
        "    # Append the thumbnail URL to the list\n",
        "    thumbnails_url.append(thumbnail_url)\n",
        "\n",
        "# Print the collected thumbnail URLs\n",
        "for url in thumbnails_url:\n",
        "    print(url)"
      ],
      "metadata": {
        "colab": {
          "base_uri": "https://localhost:8080/"
        },
        "id": "O4rlColA954i",
        "outputId": "1b56545d-b3a9-4bde-9075-86724abefbac"
      },
      "execution_count": 6,
      "outputs": [
        {
          "output_type": "stream",
          "name": "stdout",
          "text": [
            "https://img.youtube.com/vi/THG0fduCOeQ/maxresdefault.jpg\n",
            "https://img.youtube.com/vi/7lMrltvwt2M/maxresdefault.jpg\n",
            "https://img.youtube.com/vi/Z_RUm5iRL-A/maxresdefault.jpg\n",
            "https://img.youtube.com/vi/Qwjt_n4iDtA/maxresdefault.jpg\n",
            "https://img.youtube.com/vi/kF4Kfs5C5vc/maxresdefault.jpg\n"
          ]
        }
      ]
    },
    {
      "cell_type": "code",
      "source": [
        "# Q3. Write a python program to extract the title of the first five videos.\n",
        "titles = []\n",
        "\n",
        "for i, video in enumerate(videos):\n",
        "    if i >= 5:\n",
        "        break\n",
        "    title = video['title']\n",
        "    titles.append(title)\n",
        "\n",
        "for title in titles:\n",
        "    print(title)"
      ],
      "metadata": {
        "colab": {
          "base_uri": "https://localhost:8080/"
        },
        "id": "9JnM1pJq-1rK",
        "outputId": "f33d2615-da96-4e13-ac2e-afcca4ea9f62"
      },
      "execution_count": 20,
      "outputs": [
        {
          "output_type": "stream",
          "name": "stdout",
          "text": [
            "{'runs': [{'text': 'Complete Triangles in One Video by Ritik Sir || Chapter - 6 || Class 10 Maths'}], 'accessibility': {'accessibilityData': {'label': 'Complete Triangles in One Video by Ritik Sir || Chapter - 6 || Class 10 Maths by Physics Wallah Foundation 47,408 views 4 weeks ago 3 hours, 36 minutes'}}}\n",
            "{'runs': [{'text': 'Complete Arithmetic Progressions in One Video || Chapter - 5 || Class 10 Maths'}], 'accessibility': {'accessibilityData': {'label': 'Complete Arithmetic Progressions in One Video || Chapter - 5 || Class 10 Maths by Physics Wallah Foundation 34,866 views 4 weeks ago 3 hours, 32 minutes'}}}\n",
            "{'runs': [{'text': 'Complete Quadratic Equations in One Video By Ritik Sir || Chapter - 4 || Class 10 Maths'}], 'accessibility': {'accessibilityData': {'label': 'Complete Quadratic Equations in One Video By Ritik Sir || Chapter - 4 || Class 10 Maths by Physics Wallah Foundation 34,046 views 4 weeks ago 2 hours, 29 minutes'}}}\n",
            "{'runs': [{'text': 'Complete Pair of Linear Equation in Two Variables in One Video || Chapter - 3 || Class 10 Maths'}], 'accessibility': {'accessibilityData': {'label': 'Complete Pair of Linear Equation in Two Variables in One Video || Chapter - 3 || Class 10 Maths by Physics Wallah Foundation 34,697 views 4 weeks ago 3 hours, 21 minutes'}}}\n",
            "{'runs': [{'text': 'Complete Polynomials in One Video By Ritik Sir || Chapter - 2 || Class 10 Maths'}], 'accessibility': {'accessibilityData': {'label': 'Complete Polynomials in One Video By Ritik Sir || Chapter - 2 || Class 10 Maths by Physics Wallah Foundation 127,441 views 4 weeks ago 2 hours, 35 minutes'}}}\n"
          ]
        }
      ]
    },
    {
      "cell_type": "code",
      "source": [
        "# Q4. Write a python program to extract the number of views of the first five videos.\n",
        "import requests\n",
        "from bs4 import BeautifulSoup\n",
        "\n",
        "# Function to get video URLs from the channel page\n",
        "def get_video_urls(channel_url, count=5):\n",
        "    response = requests.get(channel_url)\n",
        "    soup = BeautifulSoup(response.text, 'html.parser')\n",
        "    video_urls = []\n",
        "\n",
        "    for link in soup.find_all('a'):\n",
        "        href = link.get('href', '')\n",
        "        if '/watch?v=' in href and href not in video_urls:\n",
        "            video_urls.append('https://www.youtube.com' + href)\n",
        "        if len(video_urls) >= count:\n",
        "            break\n",
        "    return video_urls\n",
        "\n",
        "# Function to extract views from a video page\n",
        "def get_video_views(video_url):\n",
        "    response = requests.get(video_url)\n",
        "    soup = BeautifulSoup(response.text, 'html.parser')\n",
        "    for script in soup.find_all('script'):\n",
        "        if 'viewCount' in script.text:\n",
        "            text = script.text\n",
        "            start = text.find('\"viewCount\"') + len('\"viewCount\":{\"simpleText\":\"')\n",
        "            end = text.find(' views', start)\n",
        "            view_text = text[start:end]\n",
        "            return view_text\n",
        "    return \"N/A\"\n",
        "\n",
        "# Main\n",
        "channel_url = \"https://www.youtube.com/@PW-Foundation/videos\"\n",
        "video_urls = get_video_urls(channel_url)\n",
        "\n",
        "for url in video_urls:\n",
        "    views = get_video_views(url)\n",
        "    print(f\"{url} → Views: {views}\")\n"
      ],
      "metadata": {
        "id": "e3ynYFmsCS4j"
      },
      "execution_count": 22,
      "outputs": []
    },
    {
      "cell_type": "code",
      "source": [
        "# Q5. Write a python program to extract the time of posting of video for the first five videos.\n",
        "from selenium import webdriver\n",
        "from selenium.webdriver.common.by import By\n",
        "import time\n",
        "\n",
        "# Start browser\n",
        "browser = webdriver.Chrome()\n",
        "\n",
        "# Open the YouTube channel's video tab\n",
        "browser.get(\"https://www.youtube.com/@PW-Foundation/videos\")\n",
        "\n",
        "# Wait for content to load\n",
        "time.sleep(5)  # basic wait (can be replaced with WebDriverWait for robustness)\n",
        "\n",
        "# Get the \"time of posting\" elements (second span under metadata-line)\n",
        "times = browser.find_elements(By.XPATH, \"//*[@id='metadata-line']/span[2]\")\n",
        "\n",
        "# Extract and print first 5 post times\n",
        "for t in times[:5]:\n",
        "    print(t.text)\n",
        "\n",
        "# Close browser\n",
        "browser.quit()\n"
      ],
      "metadata": {
        "id": "NuETtZXtCfPK"
      },
      "execution_count": null,
      "outputs": []
    }
  ]
}