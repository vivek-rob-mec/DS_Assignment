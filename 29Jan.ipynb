{
  "nbformat": 4,
  "nbformat_minor": 0,
  "metadata": {
    "colab": {
      "provenance": []
    },
    "kernelspec": {
      "name": "python3",
      "display_name": "Python 3"
    },
    "language_info": {
      "name": "python"
    }
  },
  "cells": [
    {
      "cell_type": "code",
      "execution_count": 4,
      "metadata": {
        "id": "_h6ppt4fXziq"
      },
      "outputs": [],
      "source": [
        "\"\"\"\n",
        "1. Who developed Python Programming Language?\n",
        "Ans: Guido van Rossum\n",
        "2. Which type of Programming does Python support?\n",
        "Ans: Object-oriented programming and procdure oriented programming\n",
        "3. Is Python case sensitive when dealing with identifiers?\n",
        "Ans: Yes\n",
        "4. What is the correct extension of the Python file?\n",
        "Ans: .py\n",
        "5. Is Python code compiled or interpreted?\n",
        "Ans: Interpreted\n",
        "6. Name a few blocks of code used to define in Python language?\n",
        "Ans: Identation is used to define a block of code in python.\n",
        "7. State a character used to give single-line comments in Python?\n",
        "Ans: # is used for single-line commnets\n",
        "8. Mention functions which can help us to find the version of python that we are currently working on?\n",
        "Ans: import sys\n",
        "     sys.version\n",
        "     sys.version_info\n",
        "9. Python supports the creation of anonymous functions at runtime, using a construct called\n",
        "Ans: lambda\n",
        "10. What does pip stand for python?\n",
        "Ans: Preferred Installer Program\n",
        "11. Mention a few built-in functions in python?\n",
        "Ans: list(), sorted(), set(), len(), etc\n",
        "12. What is the maximum possible length of an identifier in Python?\n",
        "Ans: 79 characters\n",
        "13. What are the benefits of using Python?\n",
        "Ans: 1). freeware and opensource\n",
        "     2). simple and easy to learn\n",
        "     3). High level programming language\n",
        "     4). Platform independent\n",
        "     5). Dynamically typed\n",
        "     6). Portable\n",
        "     7). Extensible\n",
        "     8). Interpredted and extensive library support.\n",
        "14. How is memory managed in Python?\n",
        "Ans: Memory management in Python involves a private heap containing all Python objects and data structures.\n",
        "     The management of this private heap is ensured internally by the Python memory manager.\n",
        "15. How to install Python on Windows and set path variables?\n",
        "Ans: 1. Open a browser to the Python website and download the Windows installer.\n",
        "     2. Double click on the downloaded file and install Python for all users, and ensure that Python is added to your path. Click on Install now,\n",
        "16. Is indentation required in python?\n",
        "Ans: Yes\n",
        "\"\"\""
      ]
    },
    {
      "cell_type": "code",
      "source": [],
      "metadata": {
        "id": "SojjDzjDe80W"
      },
      "execution_count": null,
      "outputs": []
    }
  ]
}