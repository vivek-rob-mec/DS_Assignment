{
  "nbformat": 4,
  "nbformat_minor": 0,
  "metadata": {
    "colab": {
      "provenance": []
    },
    "kernelspec": {
      "name": "python3",
      "display_name": "Python 3"
    },
    "language_info": {
      "name": "python"
    }
  },
  "cells": [
    {
      "cell_type": "code",
      "execution_count": 1,
      "metadata": {
        "colab": {
          "base_uri": "https://localhost:8080/",
          "height": 87
        },
        "id": "4msy4fXCc7Lv",
        "outputId": "1ac31947-eaf4-4eba-bbe6-f7241894b54f"
      },
      "outputs": [
        {
          "output_type": "execute_result",
          "data": {
            "text/plain": [
              "'\\n1) Executing several tasks simultaneously where each task is a seperate independent part\\n   of the same program, is called Thread based multi tasking, and each independent part is called a Thread.\\n2) This type of multi tasking is best suitable at programmatic level.\\n3) Python provides one inbuilt module \"threading\" to provide support for developing\\n   threads. Hence developing multi threaded Programs is very easy in python.\\n4) Every Python Program by default contains one thread which is nothing but\\n   MainThread.\\n'"
            ],
            "application/vnd.google.colaboratory.intrinsic+json": {
              "type": "string"
            }
          },
          "metadata": {},
          "execution_count": 1
        }
      ],
      "source": [
        "# Q1. What is multithreading in python? Why is it used? Name the module used to handle threads in python.\n",
        "\"\"\"\n",
        "1) Executing several tasks simultaneously where each task is a seperate independent part\n",
        "   of the same program, is called Thread based multi tasking, and each independent part is called a Thread.\n",
        "2) This type of multi tasking is best suitable at programmatic level.\n",
        "3) Python provides one inbuilt module \"threading\" to provide support for developing\n",
        "   threads. Hence developing multi threaded Programs is very easy in python.\n",
        "4) Every Python Program by default contains one thread which is nothing but\n",
        "   MainThread.\n",
        "\"\"\""
      ]
    },
    {
      "cell_type": "code",
      "source": [
        "# Q2. Why threading module used? Write the use of the following functions\n",
        "# activeCount()\n",
        "# currentThread()\n",
        "# enumerate()\n",
        "\"\"\"\n",
        "1) The module used to handle threads in Python is called threading. It provides the necessary tools\n",
        "   and functionalities for creating, managing, and synchronizing threads, allowing developers to implement multithreading in their applications.\n",
        "2) The activeCount() function is used to retrieve the number of Thread objects currently alive\n",
        "3) The currentThread() function is used to identify currently executing thread.\n",
        "4) The enumerate() function takes no arguments and returns a list of Thread objects. Each Thread object in the list represents a thread that is\n",
        "   alive, meaning it has been started and has not yet terminated.\n",
        "   (This function returns a list of all active threads currently running.)\n",
        "\"\"\""
      ],
      "metadata": {
        "colab": {
          "base_uri": "https://localhost:8080/",
          "height": 87
        },
        "id": "2E2ruKQUjtIs",
        "outputId": "db59e1be-393a-4c96-8787-782362467f85"
      },
      "execution_count": 2,
      "outputs": [
        {
          "output_type": "execute_result",
          "data": {
            "text/plain": [
              "'\\n1) The module used to handle threads in Python is called threading. It provides the necessary tools \\n   and functionalities for creating, managing, and synchronizing threads, allowing developers to implement multithreading in their applications.\\n2) The activeCount() function is used to retrieve the number of Thread objects currently alive\\n3) The currentThread() function is used to identify currently executing thread.\\n4) The enumerate() function takes no arguments and returns a list of Thread objects. Each Thread object in the list represents a thread that is \\n   alive, meaning it has been started and has not yet terminated.\\n'"
            ],
            "application/vnd.google.colaboratory.intrinsic+json": {
              "type": "string"
            }
          },
          "metadata": {},
          "execution_count": 2
        }
      ]
    },
    {
      "cell_type": "code",
      "source": [
        "# Q3. Explain the following functions\n",
        "# run():  method defines the action to be performed when a thread is started\n",
        "# start(): initiating the execution of the thread\n",
        "# join(): If a thread wants to wait until completing some other thread then we should go for join() method\n",
        "# isAlive(): isAlive() method checks whether a thread is still executing or not.\n",
        ""
      ],
      "metadata": {
        "id": "NnaIoz2SlG2k"
      },
      "execution_count": 3,
      "outputs": []
    },
    {
      "cell_type": "code",
      "source": [
        "# Q4. Write a python program to create two threads. Thread one must print the list of squares and thread two must print the list of cubes.\n",
        "import threading\n",
        "\n",
        "def print_squares():\n",
        "  for i in range(1,11):\n",
        "    print(f\"Square of {i} is {i**2}\")\n",
        "\n",
        "def print_cubes():\n",
        "  for i in range(1,11):\n",
        "    print(f\"Cube of {i} is {i**3}\")\n",
        "\n",
        "thread1 = threading.Thread(target=print_squares)\n",
        "thread2 = threading.Thread(target=print_cubes)\n",
        "\n",
        "thread1.start()\n",
        "thread2.start()\n",
        "\n"
      ],
      "metadata": {
        "colab": {
          "base_uri": "https://localhost:8080/"
        },
        "id": "Ti4o1MZHmlMI",
        "outputId": "892de8c5-48ed-4d0c-cb7e-00a44b87abd1"
      },
      "execution_count": 4,
      "outputs": [
        {
          "output_type": "stream",
          "name": "stdout",
          "text": [
            "Square of 1 is 1\n",
            "Square of 2 is 4\n",
            "Square of 3 is 9\n",
            "Square of 4 is 16\n",
            "Square of 5 is 25\n",
            "Square of 6 is 36\n",
            "Square of 7 is 49\n",
            "Square of 8 is 64\n",
            "Square of 9 is 81\n",
            "Square of 10 is 100\n",
            "Cube of 1 is 1\n",
            "Cube of 2 is 8\n",
            "Cube of 3 is 27\n",
            "Cube of 4 is 64\n",
            "Cube of 5 is 125\n",
            "Cube of 6 is 216\n",
            "Cube of 7 is 343\n",
            "Cube of 8 is 512\n",
            "Cube of 9 is 729\n",
            "Cube of 10 is 1000\n"
          ]
        }
      ]
    },
    {
      "cell_type": "code",
      "source": [
        "# Q5. State advantages and disadvantages of multithreading.\n",
        "# Advantage:\n",
        "\"\"\"\n",
        "1) Improved Performance\n",
        "2) Better Resources utilization\n",
        "3) Light weight process and scalability\n",
        "4) Simplified Modelling\n",
        "\"\"\"\n",
        "# Disadvantage:\n",
        "\"\"\"\n",
        "1) Complexity\n",
        "2) Synchronization\n",
        "3) Limited by hardware\n",
        "4) Increased resources comsumption\n",
        "\"\"\""
      ],
      "metadata": {
        "colab": {
          "base_uri": "https://localhost:8080/",
          "height": 35
        },
        "id": "d8Q4alSmnQyh",
        "outputId": "bbf44b0f-d8bb-4fd8-cc78-6e0b91fdeb8e"
      },
      "execution_count": 5,
      "outputs": [
        {
          "output_type": "execute_result",
          "data": {
            "text/plain": [
              "'\\n1) Complexity\\n2) Synchronization\\n3) Limited by hardware\\n4) Increased resources comsumption\\n'"
            ],
            "application/vnd.google.colaboratory.intrinsic+json": {
              "type": "string"
            }
          },
          "metadata": {},
          "execution_count": 5
        }
      ]
    },
    {
      "cell_type": "code",
      "source": [
        "# Q6. Explain deadlocks and race conditions.\n",
        "\"\"\"\n",
        "Deadlocks:\n",
        "A deadlock occurs when two or more threads are blocked indefinitely, each waiting for a resource held by another thread, creating a circular dependency.\n",
        "In other words, each thread is waiting for a resource that is held by another thread, and vice versa.\n",
        "\n",
        "Race:\n",
        "A race condition occurs when the outcome of a program is unpredictable because multiple parts (threads or processes) try to access and change the\n",
        "same data (shared resources) at roughly the same time, leading to unexpected results\n",
        "\"\"\""
      ],
      "metadata": {
        "colab": {
          "base_uri": "https://localhost:8080/",
          "height": 87
        },
        "id": "8su9gvkwo00h",
        "outputId": "5f26195e-d886-46d1-87ed-190424f57ceb"
      },
      "execution_count": 6,
      "outputs": [
        {
          "output_type": "execute_result",
          "data": {
            "text/plain": [
              "'\\nDeadlocks:\\nA deadlock occurs when two or more threads are blocked indefinitely, each waiting for a resource held by another thread, creating a circular dependency.\\nIn other words, each thread is waiting for a resource that is held by another thread, and vice versa.\\n\\nRace: \\nA race condition occurs when the outcome of a program is unpredictable because multiple parts (threads or processes) try to access and change the \\nsame data (shared resources) at roughly the same time, leading to unexpected results\\n'"
            ],
            "application/vnd.google.colaboratory.intrinsic+json": {
              "type": "string"
            }
          },
          "metadata": {},
          "execution_count": 6
        }
      ]
    },
    {
      "cell_type": "code",
      "source": [],
      "metadata": {
        "id": "TRIkftucqwYl"
      },
      "execution_count": null,
      "outputs": []
    }
  ]
}