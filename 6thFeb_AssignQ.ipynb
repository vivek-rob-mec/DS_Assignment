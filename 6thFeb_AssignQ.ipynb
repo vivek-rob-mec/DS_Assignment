{
  "nbformat": 4,
  "nbformat_minor": 0,
  "metadata": {
    "colab": {
      "provenance": []
    },
    "kernelspec": {
      "name": "python3",
      "display_name": "Python 3"
    },
    "language_info": {
      "name": "python"
    }
  },
  "cells": [
    {
      "cell_type": "code",
      "execution_count": 53,
      "metadata": {
        "colab": {
          "base_uri": "https://localhost:8080/"
        },
        "id": "Zscp1GGgDuWa",
        "outputId": "c7bfd956-dc98-4b87-8482-ce8d3bf6680f"
      },
      "outputs": [
        {
          "output_type": "stream",
          "name": "stdout",
          "text": [
            "Product of all numbers: 18070735014410158080\n"
          ]
        }
      ],
      "source": [
        "\"\"\"\n",
        "Q1. Create a function which will take a list as an argument and return the product of all the numbers\n",
        "after creating a flat list.\n",
        "Use the below-given list as an argument for your function.\n",
        "list1 = [1,2,3,4, [44,55,66, True], False, (34,56,78,89,34), {1,2,3,3,2,1}, {1:34, \"key2\": [55, 67, 78, 89], 4: (45,\n",
        "22, 61, 34)}, [56, 'data science'], 'Machine Learning']\n",
        "Note: you must extract numeric keys and values of the dictionary also.\n",
        "\"\"\"\n",
        "lst = [1,2,3,4, [44,55,66, True], False, (34,56,78,89,34), {1,2,3,3,2,1}, {1:34, \"key2\": [55, 67, 78, 89], 4: (45,22, 61, 34)}, [56, 'data science'], 'Machine Learning']\n",
        "\n",
        "product = 1\n",
        "def list_product(lst):\n",
        "    flat_list = []\n",
        "\n",
        "    for item in lst:\n",
        "      if type(item) == int or type(item) == float:\n",
        "        flat_list.append(item)\n",
        "      elif type(item) == list:\n",
        "        for i in item:\n",
        "          if (type(i) == int or type(i) == float) and (type(i) != bool):\n",
        "            flat_list.append(i)\n",
        "      elif type(item) == tuple:\n",
        "        for i in item:\n",
        "          if type(i) == int or type(i) == float:\n",
        "            flat_list.append(i)\n",
        "      elif type(item) == set:\n",
        "        for i in item:\n",
        "          if type(i) == int or type(i) == float:\n",
        "            flat_list.append(i)\n",
        "      elif type(item) == dict:\n",
        "        for key, value in item.items():\n",
        "          if type(key) == int or type(key) == float:\n",
        "            flat_list.append(key)\n",
        "          if type(value) == int or type(value) == float:\n",
        "            flat_list.append(value)\n",
        "          elif type(value) == list:\n",
        "            for i in value:\n",
        "              if type(i) == int or type(i) == float:\n",
        "                flat_list.append(i)\n",
        "          elif type(value) == tuple:\n",
        "            for i in value:\n",
        "              if type(i) == int or type(i) == float:\n",
        "                flat_list.append(i)\n",
        "    product = reduce(lambda x, y: x * y, flat_list, 1) if flat_list else 0\n",
        "\n",
        "    return product\n",
        "\n",
        "\n",
        "result = list_product(list1)\n",
        "print(\"Product of all numbers:\", result)\n"
      ]
    },
    {
      "cell_type": "code",
      "source": [
        "\"\"\"\n",
        "Q2. Write a python program for encrypting a message sent to you by your friend. The logic of encryption\n",
        "should be such that, for a the output should be z. For b, the output should be y. For c, the output should\n",
        "be x respectively. Also, the whitespace should be replaced with a dollar sign. Keep the punctuation\n",
        "marks unchanged.\n",
        "Input Sentence: I want to become a Data Scientist.\n",
        "Encrypt the above input sentence using the program you just created.\n",
        "Note: Convert the given input sentence into lowercase before encrypting. The final output should be\n",
        "lowercase.\n",
        "\"\"\"\n",
        "def encrypt_message(message):\n",
        "    message = message.lower()\n",
        "\n",
        "    reverse_mapping = {\n",
        "        'a': 'z', 'b': 'y', 'c': 'x', 'd': 'w', 'e': 'v',\n",
        "        'f': 'u', 'g': 't', 'h': 's', 'i': 'r', 'j': 'q',\n",
        "        'k': 'p', 'l': 'o', 'm': 'n', 'n': 'm', 'o': 'l',\n",
        "        'p': 'k', 'q': 'j', 'r': 'i', 's': 'h', 't': 'g',\n",
        "        'u': 'f', 'v': 'e', 'w': 'd', 'x': 'c', 'y': 'b',\n",
        "        'z': 'a'\n",
        "    }\n",
        "\n",
        "    encrypted_message = []\n",
        "\n",
        "    for char in message:\n",
        "        if char in reverse_mapping:  # If the character is a letter, encrypt it\n",
        "            encrypted_message.append(reverse_mapping[char])\n",
        "        elif char == ' ':  # Replace whitespace with a dollar sign\n",
        "            encrypted_message.append('$')\n",
        "        else:  # Keep punctuation marks unchanged\n",
        "            encrypted_message.append(char)\n",
        "\n",
        "    # Join the list into a single string\n",
        "    return ''.join(encrypted_message)\n",
        "\n",
        "\n",
        "input_sentence = \"I want to become a Data Scientist.\"\n",
        "\n",
        "encrypted_sentence = encrypt_message(input_sentence)\n",
        "\n",
        "print(\"Encrypted message:\", encrypted_sentence)"
      ],
      "metadata": {
        "colab": {
          "base_uri": "https://localhost:8080/"
        },
        "id": "eWcUZxm_gT-l",
        "outputId": "9d5405f7-15d8-47f7-e887-5eddf903cd60"
      },
      "execution_count": 54,
      "outputs": [
        {
          "output_type": "stream",
          "name": "stdout",
          "text": [
            "Encrypted message: r$dzmg$gl$yvxlnv$z$wzgz$hxrvmgrhg.\n"
          ]
        }
      ]
    },
    {
      "cell_type": "code",
      "source": [],
      "metadata": {
        "id": "k1zYnvqGhSZe"
      },
      "execution_count": null,
      "outputs": []
    }
  ]
}