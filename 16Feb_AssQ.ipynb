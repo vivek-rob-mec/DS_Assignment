{
  "nbformat": 4,
  "nbformat_minor": 0,
  "metadata": {
    "colab": {
      "provenance": []
    },
    "kernelspec": {
      "name": "python3",
      "display_name": "Python 3"
    },
    "language_info": {
      "name": "python"
    }
  },
  "cells": [
    {
      "cell_type": "code",
      "execution_count": 1,
      "metadata": {
        "colab": {
          "base_uri": "https://localhost:8080/",
          "height": 105
        },
        "id": "XGUf76u7sFD1",
        "outputId": "2117f2d4-66de-4fb8-b9c6-ae274b9f8e93"
      },
      "outputs": [
        {
          "output_type": "execute_result",
          "data": {
            "text/plain": [
              "'\\nThe collection of data, usually referred to\\nas the database, contains information relevant to an enterprise\\n\\nSQL databases are relational, and NoSQL databases are non-relational.\\nSQL databases use structured query language (SQL) and have a predefined schema. NoSQL databases have dynamic schemas for unstructured data.\\nSQL databases are vertically scalable, while NoSQL databases are horizontally scalable.\\nSQL databases are table-based, while NoSQL databases are document, key-value, graph, or wide-column stores.\\nSQL databases are better for multi-row transactions, while NoSQL is better for unstructured data like documents or JSON.\\n'"
            ],
            "application/vnd.google.colaboratory.intrinsic+json": {
              "type": "string"
            }
          },
          "metadata": {},
          "execution_count": 1
        }
      ],
      "source": [
        "# Q1. What is a database? Differentiate between SQL and NoSQL databases.\n",
        "\"\"\"\n",
        "The collection of data, usually referred to\n",
        "as the database, contains information relevant to an enterprise\n",
        "\n",
        "SQL databases are relational, and NoSQL databases are non-relational.\n",
        "SQL databases use structured query language (SQL) and have a predefined schema. NoSQL databases have dynamic schemas for unstructured data.\n",
        "SQL databases are vertically scalable, while NoSQL databases are horizontally scalable.\n",
        "SQL databases are table-based, while NoSQL databases are document, key-value, graph, or wide-column stores.\n",
        "SQL databases are better for multi-row transactions, while NoSQL is better for unstructured data like documents or JSON.\n",
        "\"\"\""
      ]
    },
    {
      "cell_type": "code",
      "source": [
        "# Q2. What is DDL? Explain why CREATE, DROP, ALTER, and TRUNCATE are used with an example.\n",
        "\"\"\"\n",
        "DDL (Data Definition Language) defines and manages the structure of a database, using\n",
        "commands like CREATE, ALTER, DROP, and TRUNCATE to manipulate database objects.\n",
        "\n",
        "• CREATE: This command is used to create new database objects, such as tables, indexes, views, or databases.\n",
        "\t• Example: CREATE TABLE Employees (ID INT PRIMARY KEY, Name VARCHAR(255), Department VARCHAR(255));\n",
        "\n",
        "• ALTER: This command modifies the structure of existing database objects, allowing you to add, delete, or change columns, constraints, or other properties.\n",
        "\t• Example: ALTER TABLE Employees ADD COLUMN Salary INT;\n",
        "\n",
        "• DROP: This command permanently deletes database objects, including tables, indexes, views, or databases.\n",
        "\t• Example: DROP TABLE Employees;\n",
        "\n",
        "• TRUNCATE: This command deletes all data from a table, while preserving the table's structure, indexes, and constraints.\n",
        "\t• Example: TRUNCATE TABLE Employees;\n",
        "\"\"\"\n"
      ],
      "metadata": {
        "colab": {
          "base_uri": "https://localhost:8080/",
          "height": 122
        },
        "id": "YpEwJrfwxQUn",
        "outputId": "400f6b48-35ba-440b-fdbe-9900276cdffe"
      },
      "execution_count": 2,
      "outputs": [
        {
          "output_type": "execute_result",
          "data": {
            "text/plain": [
              "\"\\nDDL (Data Definition Language) defines and manages the structure of a database, using \\ncommands like CREATE, ALTER, DROP, and TRUNCATE to manipulate database objects.  \\n\\n• CREATE: This command is used to create new database objects, such as tables, indexes, views, or databases. \\n\\t• Example: CREATE TABLE Employees (ID INT PRIMARY KEY, Name VARCHAR(255), Department VARCHAR(255)); \\n\\n• ALTER: This command modifies the structure of existing database objects, allowing you to add, delete, or change columns, constraints, or other properties. \\n\\t• Example: ALTER TABLE Employees ADD COLUMN Salary INT; \\n\\n• DROP: This command permanently deletes database objects, including tables, indexes, views, or databases. \\n\\t• Example: DROP TABLE Employees; \\n\\n• TRUNCATE: This command deletes all data from a table, while preserving the table's structure, indexes, and constraints. \\n\\t• Example: TRUNCATE TABLE Employees;  \\n\""
            ],
            "application/vnd.google.colaboratory.intrinsic+json": {
              "type": "string"
            }
          },
          "metadata": {},
          "execution_count": 2
        }
      ]
    },
    {
      "cell_type": "code",
      "source": [
        "# Q3. What is DML? Explain INSERT, UPDATE, and DELETE with an example.\n",
        "\"\"\"\n",
        "DML (Data Manipulation Language) is a set of SQL commands used to manipulate data within a database,\n",
        "primarily including INSERT (to add data), UPDATE (to modify existing data), and DELETE (to remove data).\n",
        "\n",
        "• INSERT: Adds new rows (records) to a table.\n",
        "\t• Example:\n",
        "        -- Assuming you have a table named 'Customers' with columns 'CustomerID', 'FirstName', and 'LastName'\n",
        "        INSERT INTO Customers (CustomerID, FirstName, LastName) VALUES (101, 'Alice', 'Smith');\n",
        "This statement inserts a new row into the Customers table with the specified values.\n",
        "\n",
        "• UPDATE: Modifies existing data within a table.\n",
        "\t• Example:\n",
        "        --Update the 'LastName' of the customer with CustomerID = 100\n",
        "        UPDATE Customers SET LastName = 'Johnson' WHERE CustomerID = 100;\n",
        "This statement updates the LastName column of the row where CustomerID is 100 to 'Johnson'.\n",
        "\n",
        "• DELETE: Removes rows (records) from a table.\n",
        "\t• Example:\n",
        "        -- Delete the customer with CustomerID = 101\n",
        "        DELETE FROM Customers WHERE CustomerID = 101;\n",
        "This statement deletes the row from the Customers table where CustomerID is 101.\n",
        "\"\"\"\n"
      ],
      "metadata": {
        "colab": {
          "base_uri": "https://localhost:8080/",
          "height": 140
        },
        "id": "hOxWUQBG0bzf",
        "outputId": "7a870a59-bf91-4efc-d9f1-87a517289fe3"
      },
      "execution_count": 3,
      "outputs": [
        {
          "output_type": "execute_result",
          "data": {
            "text/plain": [
              "\"\\nDML (Data Manipulation Language) is a set of SQL commands used to manipulate data within a database, \\nprimarily including INSERT (to add data), UPDATE (to modify existing data), and DELETE (to remove data).  \\n\\n• INSERT: Adds new rows (records) to a table. \\n\\t• Example: \\n        -- Assuming you have a table named 'Customers' with columns 'CustomerID', 'FirstName', and 'LastName'\\n        INSERT INTO Customers (CustomerID, FirstName, LastName) VALUES (101, 'Alice', 'Smith');\\nThis statement inserts a new row into the Customers table with the specified values.  \\n\\n• UPDATE: Modifies existing data within a table. \\n\\t• Example: \\n        --Update the 'LastName' of the customer with CustomerID = 100\\n        UPDATE Customers SET LastName = 'Johnson' WHERE CustomerID = 100;\\nThis statement updates the LastName column of the row where CustomerID is 100 to 'Johnson'. \\n\\n• DELETE: Removes rows (records) from a table. \\n\\t• Example: \\n        -- Delete the customer with CustomerID = 101\\n        DELETE FROM Customers WHERE CustomerID = 101;\\nThis statement deletes the row from the Customers table where CustomerID is 101.  \\n\""
            ],
            "application/vnd.google.colaboratory.intrinsic+json": {
              "type": "string"
            }
          },
          "metadata": {},
          "execution_count": 3
        }
      ]
    },
    {
      "cell_type": "code",
      "source": [
        "# Q4. What is DQL? Explain SELECT with an example.\n",
        "\"\"\"\n",
        "DQL stands for Data Query Language and is a subset of SQL used primarily for querying and retrieving data from database tables,\n",
        "with the main command being SELECT. The SELECT statement retrieves data based on specified criteria, allowing you to extract specific columns and rows.\n",
        "\n",
        "The SELECT statement is the core command in DQL for retrieving data from one or more tables.\n",
        "syntax:\n",
        "    SELECT column1, column2, ...\n",
        "    FROM table_name;\n",
        "\"\"\""
      ],
      "metadata": {
        "colab": {
          "base_uri": "https://localhost:8080/",
          "height": 70
        },
        "id": "fqB4HO2p2CJM",
        "outputId": "fa8a88cd-637e-426c-c68c-6d7682ff8193"
      },
      "execution_count": 4,
      "outputs": [
        {
          "output_type": "execute_result",
          "data": {
            "text/plain": [
              "'\\nDQL stands for Data Query Language and is a subset of SQL used primarily for querying and retrieving data from database tables, \\nwith the main command being SELECT. The SELECT statement retrieves data based on specified criteria, allowing you to extract specific columns and rows.\\n\\nThe SELECT statement is the core command in DQL for retrieving data from one or more tables.\\nsyntax:\\n    SELECT column1, column2, ...\\n    FROM table_name;\\n'"
            ],
            "application/vnd.google.colaboratory.intrinsic+json": {
              "type": "string"
            }
          },
          "metadata": {},
          "execution_count": 4
        }
      ]
    },
    {
      "cell_type": "code",
      "source": [
        "# Q5. Explain Primary Key and Foreign Key.\n",
        "\"\"\"\n",
        "Primary Key:\n",
        "To ensure that each row in a table is uniquely identifiable.\n",
        "Characteristics:\n",
        "1) Must be unique within its table.\n",
        "2) Cannot contain null values.\n",
        "3) Can consist of one or more columns (composite key).\n",
        "\n",
        "Foreign Key:\n",
        "To create a link between two tables by referencing the primary key of another table.\n",
        "Characteristics:\n",
        "Is a column (or columns) in one table that references the primary key of another table.\n",
        "Enforces referential integrity, meaning that values in the foreign key column must exist in the primary key column of the referenced table.\n",
        "\"\"\""
      ],
      "metadata": {
        "colab": {
          "base_uri": "https://localhost:8080/",
          "height": 87
        },
        "id": "nbsPgn7u2sI9",
        "outputId": "f64a31ba-385a-4f14-d3e6-fc29b7269d33"
      },
      "execution_count": 5,
      "outputs": [
        {
          "output_type": "execute_result",
          "data": {
            "text/plain": [
              "'\\nPrimary Key:\\nTo ensure that each row in a table is uniquely identifiable. \\nCharacteristics:\\n1) Must be unique within its table. \\n2) Cannot contain null values. \\n3) Can consist of one or more columns (composite key). \\n\\nForeign Key:\\nTo create a link between two tables by referencing the primary key of another table. \\nCharacteristics:\\nIs a column (or columns) in one table that references the primary key of another table. \\nEnforces referential integrity, meaning that values in the foreign key column must exist in the primary key column of the referenced table. \\n'"
            ],
            "application/vnd.google.colaboratory.intrinsic+json": {
              "type": "string"
            }
          },
          "metadata": {},
          "execution_count": 5
        }
      ]
    },
    {
      "cell_type": "code",
      "source": [
        "# Q6. Write a python code to connect MySQL to python. Explain the cursor() and execute() method.\n",
        "!pip install mysql-connector-python\n",
        "import mysql.connector\n",
        "# establishing the connection\n",
        "conn = mysql.connector.connect(\n",
        "    user='root', password='admin@123pwd', host='localhost', database='mydb'\n",
        ")\n",
        "# creating a cursor object using the cursor() method\n",
        "cursor = conn.cursor()\n",
        "\n",
        "# executing the mysql function using execute() method\n",
        "cursor.execute(\"SELECT DATABASE()\")\n",
        "\n",
        "# Fetching a single row using fetchnone method\n",
        "data = cursor.fetchnone()\n",
        "print(\"connection established to : \",data)\n",
        "\n",
        "conn.close()"
      ],
      "metadata": {
        "colab": {
          "base_uri": "https://localhost:8080/",
          "height": 512
        },
        "id": "RA4SpuYH3jbi",
        "outputId": "eba3bfeb-6da6-49aa-a5e7-fec0ee934208"
      },
      "execution_count": 9,
      "outputs": [
        {
          "output_type": "stream",
          "name": "stdout",
          "text": [
            "Collecting mysql-connector-python\n",
            "  Downloading mysql_connector_python-9.2.0-cp311-cp311-manylinux_2_28_x86_64.whl.metadata (6.0 kB)\n",
            "Downloading mysql_connector_python-9.2.0-cp311-cp311-manylinux_2_28_x86_64.whl (34.0 MB)\n",
            "\u001b[2K   \u001b[90m━━━━━━━━━━━━━━━━━━━━━━━━━━━━━━━━━━━━━━━━\u001b[0m \u001b[32m34.0/34.0 MB\u001b[0m \u001b[31m37.3 MB/s\u001b[0m eta \u001b[36m0:00:00\u001b[0m\n",
            "\u001b[?25hInstalling collected packages: mysql-connector-python\n",
            "Successfully installed mysql-connector-python-9.2.0\n"
          ]
        },
        {
          "output_type": "error",
          "ename": "InterfaceError",
          "evalue": "2002: Can't connect to local MySQL server through socket '%-.100s' (%s) (Warning: not all arguments converted during string formatting)",
          "traceback": [
            "\u001b[0;31m---------------------------------------------------------------------------\u001b[0m",
            "\u001b[0;31mConnectionRefusedError\u001b[0m                    Traceback (most recent call last)",
            "\u001b[0;32m/usr/local/lib/python3.11/dist-packages/mysql/connector/network.py\u001b[0m in \u001b[0;36mopen_connection\u001b[0;34m(self)\u001b[0m\n\u001b[1;32m    798\u001b[0m             \u001b[0mself\u001b[0m\u001b[0;34m.\u001b[0m\u001b[0msock\u001b[0m\u001b[0;34m.\u001b[0m\u001b[0msettimeout\u001b[0m\u001b[0;34m(\u001b[0m\u001b[0mself\u001b[0m\u001b[0;34m.\u001b[0m\u001b[0m_connection_timeout\u001b[0m\u001b[0;34m)\u001b[0m\u001b[0;34m\u001b[0m\u001b[0;34m\u001b[0m\u001b[0m\n\u001b[0;32m--> 799\u001b[0;31m             \u001b[0mself\u001b[0m\u001b[0;34m.\u001b[0m\u001b[0msock\u001b[0m\u001b[0;34m.\u001b[0m\u001b[0mconnect\u001b[0m\u001b[0;34m(\u001b[0m\u001b[0msockaddr\u001b[0m\u001b[0;34m)\u001b[0m\u001b[0;34m\u001b[0m\u001b[0;34m\u001b[0m\u001b[0m\n\u001b[0m\u001b[1;32m    800\u001b[0m         \u001b[0;32mexcept\u001b[0m \u001b[0;34m(\u001b[0m\u001b[0msocket\u001b[0m\u001b[0;34m.\u001b[0m\u001b[0mtimeout\u001b[0m\u001b[0;34m,\u001b[0m \u001b[0mTimeoutError\u001b[0m\u001b[0;34m)\u001b[0m \u001b[0;32mas\u001b[0m \u001b[0merr\u001b[0m\u001b[0;34m:\u001b[0m\u001b[0;34m\u001b[0m\u001b[0;34m\u001b[0m\u001b[0m\n",
            "\u001b[0;31mConnectionRefusedError\u001b[0m: [Errno 111] Connection refused",
            "\nThe above exception was the direct cause of the following exception:\n",
            "\u001b[0;31mInterfaceError\u001b[0m                            Traceback (most recent call last)",
            "\u001b[0;32m<ipython-input-9-48bb3ccfffac>\u001b[0m in \u001b[0;36m<cell line: 0>\u001b[0;34m()\u001b[0m\n\u001b[1;32m      3\u001b[0m \u001b[0;32mimport\u001b[0m \u001b[0mmysql\u001b[0m\u001b[0;34m.\u001b[0m\u001b[0mconnector\u001b[0m\u001b[0;34m\u001b[0m\u001b[0;34m\u001b[0m\u001b[0m\n\u001b[1;32m      4\u001b[0m \u001b[0;31m# establishing the connection\u001b[0m\u001b[0;34m\u001b[0m\u001b[0;34m\u001b[0m\u001b[0m\n\u001b[0;32m----> 5\u001b[0;31m conn = mysql.connector.connect(\n\u001b[0m\u001b[1;32m      6\u001b[0m     \u001b[0muser\u001b[0m\u001b[0;34m=\u001b[0m\u001b[0;34m'root'\u001b[0m\u001b[0;34m,\u001b[0m \u001b[0mpassword\u001b[0m\u001b[0;34m=\u001b[0m\u001b[0;34m'password'\u001b[0m\u001b[0;34m,\u001b[0m \u001b[0mhost\u001b[0m\u001b[0;34m=\u001b[0m\u001b[0;34m'localhost'\u001b[0m\u001b[0;34m,\u001b[0m \u001b[0mdatabase\u001b[0m\u001b[0;34m=\u001b[0m\u001b[0;34m'mydb'\u001b[0m\u001b[0;34m\u001b[0m\u001b[0;34m\u001b[0m\u001b[0m\n\u001b[1;32m      7\u001b[0m )\n",
            "\u001b[0;32m/usr/local/lib/python3.11/dist-packages/mysql/connector/pooling.py\u001b[0m in \u001b[0;36mconnect\u001b[0;34m(*args, **kwargs)\u001b[0m\n\u001b[1;32m    321\u001b[0m     \u001b[0;32mif\u001b[0m \u001b[0mCMySQLConnection\u001b[0m \u001b[0;32mand\u001b[0m \u001b[0;32mnot\u001b[0m \u001b[0muse_pure\u001b[0m\u001b[0;34m:\u001b[0m\u001b[0;34m\u001b[0m\u001b[0;34m\u001b[0m\u001b[0m\n\u001b[1;32m    322\u001b[0m         \u001b[0;32mreturn\u001b[0m \u001b[0mCMySQLConnection\u001b[0m\u001b[0;34m(\u001b[0m\u001b[0;34m*\u001b[0m\u001b[0margs\u001b[0m\u001b[0;34m,\u001b[0m \u001b[0;34m**\u001b[0m\u001b[0mkwargs\u001b[0m\u001b[0;34m)\u001b[0m\u001b[0;34m\u001b[0m\u001b[0;34m\u001b[0m\u001b[0m\n\u001b[0;32m--> 323\u001b[0;31m     \u001b[0;32mreturn\u001b[0m \u001b[0mMySQLConnection\u001b[0m\u001b[0;34m(\u001b[0m\u001b[0;34m*\u001b[0m\u001b[0margs\u001b[0m\u001b[0;34m,\u001b[0m \u001b[0;34m**\u001b[0m\u001b[0mkwargs\u001b[0m\u001b[0;34m)\u001b[0m\u001b[0;34m\u001b[0m\u001b[0;34m\u001b[0m\u001b[0m\n\u001b[0m\u001b[1;32m    324\u001b[0m \u001b[0;34m\u001b[0m\u001b[0m\n\u001b[1;32m    325\u001b[0m \u001b[0;34m\u001b[0m\u001b[0m\n",
            "\u001b[0;32m/usr/local/lib/python3.11/dist-packages/mysql/connector/connection.py\u001b[0m in \u001b[0;36m__init__\u001b[0;34m(self, **kwargs)\u001b[0m\n\u001b[1;32m    182\u001b[0m         \u001b[0;32mif\u001b[0m \u001b[0mkwargs\u001b[0m\u001b[0;34m:\u001b[0m\u001b[0;34m\u001b[0m\u001b[0;34m\u001b[0m\u001b[0m\n\u001b[1;32m    183\u001b[0m             \u001b[0;32mtry\u001b[0m\u001b[0;34m:\u001b[0m\u001b[0;34m\u001b[0m\u001b[0;34m\u001b[0m\u001b[0m\n\u001b[0;32m--> 184\u001b[0;31m                 \u001b[0mself\u001b[0m\u001b[0;34m.\u001b[0m\u001b[0mconnect\u001b[0m\u001b[0;34m(\u001b[0m\u001b[0;34m**\u001b[0m\u001b[0mkwargs\u001b[0m\u001b[0;34m)\u001b[0m\u001b[0;34m\u001b[0m\u001b[0;34m\u001b[0m\u001b[0m\n\u001b[0m\u001b[1;32m    185\u001b[0m             \u001b[0;32mexcept\u001b[0m \u001b[0mException\u001b[0m\u001b[0;34m:\u001b[0m\u001b[0;34m\u001b[0m\u001b[0;34m\u001b[0m\u001b[0m\n\u001b[1;32m    186\u001b[0m                 \u001b[0;31m# Tidy-up underlying socket on failure\u001b[0m\u001b[0;34m\u001b[0m\u001b[0;34m\u001b[0m\u001b[0m\n",
            "\u001b[0;32m/usr/local/lib/python3.11/dist-packages/mysql/connector/abstracts.py\u001b[0m in \u001b[0;36mconnect\u001b[0;34m(self, **kwargs)\u001b[0m\n\u001b[1;32m   1527\u001b[0m \u001b[0;34m\u001b[0m\u001b[0m\n\u001b[1;32m   1528\u001b[0m         \u001b[0mself\u001b[0m\u001b[0;34m.\u001b[0m\u001b[0mdisconnect\u001b[0m\u001b[0;34m(\u001b[0m\u001b[0;34m)\u001b[0m\u001b[0;34m\u001b[0m\u001b[0;34m\u001b[0m\u001b[0m\n\u001b[0;32m-> 1529\u001b[0;31m         \u001b[0mself\u001b[0m\u001b[0;34m.\u001b[0m\u001b[0m_open_connection\u001b[0m\u001b[0;34m(\u001b[0m\u001b[0;34m)\u001b[0m\u001b[0;34m\u001b[0m\u001b[0;34m\u001b[0m\u001b[0m\n\u001b[0m\u001b[1;32m   1530\u001b[0m \u001b[0;34m\u001b[0m\u001b[0m\n\u001b[1;32m   1531\u001b[0m         charset, collation = (\n",
            "\u001b[0;32m/usr/local/lib/python3.11/dist-packages/mysql/connector/connection.py\u001b[0m in \u001b[0;36m_open_connection\u001b[0;34m(self)\u001b[0m\n\u001b[1;32m    408\u001b[0m                     \u001b[0mmsg\u001b[0m\u001b[0;34m=\u001b[0m\u001b[0merr\u001b[0m\u001b[0;34m.\u001b[0m\u001b[0mmsg\u001b[0m\u001b[0;34m,\u001b[0m\u001b[0;34m\u001b[0m\u001b[0;34m\u001b[0m\u001b[0m\n\u001b[1;32m    409\u001b[0m                 ) from err\n\u001b[0;32m--> 410\u001b[0;31m             \u001b[0;32mraise\u001b[0m \u001b[0merr\u001b[0m\u001b[0;34m\u001b[0m\u001b[0;34m\u001b[0m\u001b[0m\n\u001b[0m\u001b[1;32m    411\u001b[0m         \u001b[0;32mfinally\u001b[0m\u001b[0;34m:\u001b[0m\u001b[0;34m\u001b[0m\u001b[0;34m\u001b[0m\u001b[0m\n\u001b[1;32m    412\u001b[0m             \u001b[0;31m# as the connection is established, set back the read\u001b[0m\u001b[0;34m\u001b[0m\u001b[0;34m\u001b[0m\u001b[0m\n",
            "\u001b[0;32m/usr/local/lib/python3.11/dist-packages/mysql/connector/connection.py\u001b[0m in \u001b[0;36m_open_connection\u001b[0;34m(self)\u001b[0m\n\u001b[1;32m    379\u001b[0m         \u001b[0mself\u001b[0m\u001b[0;34m.\u001b[0m\u001b[0m_socket\u001b[0m \u001b[0;34m=\u001b[0m \u001b[0mself\u001b[0m\u001b[0;34m.\u001b[0m\u001b[0m_get_connection\u001b[0m\u001b[0;34m(\u001b[0m\u001b[0;34m)\u001b[0m\u001b[0;34m\u001b[0m\u001b[0;34m\u001b[0m\u001b[0m\n\u001b[1;32m    380\u001b[0m         \u001b[0;32mtry\u001b[0m\u001b[0;34m:\u001b[0m\u001b[0;34m\u001b[0m\u001b[0;34m\u001b[0m\u001b[0m\n\u001b[0;32m--> 381\u001b[0;31m             \u001b[0mself\u001b[0m\u001b[0;34m.\u001b[0m\u001b[0m_socket\u001b[0m\u001b[0;34m.\u001b[0m\u001b[0mopen_connection\u001b[0m\u001b[0;34m(\u001b[0m\u001b[0;34m)\u001b[0m\u001b[0;34m\u001b[0m\u001b[0;34m\u001b[0m\u001b[0m\n\u001b[0m\u001b[1;32m    382\u001b[0m \u001b[0;34m\u001b[0m\u001b[0m\n\u001b[1;32m    383\u001b[0m             \u001b[0;31m# do initial handshake\u001b[0m\u001b[0;34m\u001b[0m\u001b[0;34m\u001b[0m\u001b[0m\n",
            "\u001b[0;32m/usr/local/lib/python3.11/dist-packages/mysql/connector/network.py\u001b[0m in \u001b[0;36mopen_connection\u001b[0;34m(self)\u001b[0m\n\u001b[1;32m    808\u001b[0m             ) from err\n\u001b[1;32m    809\u001b[0m         \u001b[0;32mexcept\u001b[0m \u001b[0mIOError\u001b[0m \u001b[0;32mas\u001b[0m \u001b[0merr\u001b[0m\u001b[0;34m:\u001b[0m\u001b[0;34m\u001b[0m\u001b[0;34m\u001b[0m\u001b[0m\n\u001b[0;32m--> 810\u001b[0;31m             raise InterfaceError(\n\u001b[0m\u001b[1;32m    811\u001b[0m                 \u001b[0merrno\u001b[0m\u001b[0;34m=\u001b[0m\u001b[0;36m2002\u001b[0m\u001b[0;34m,\u001b[0m\u001b[0;34m\u001b[0m\u001b[0;34m\u001b[0m\u001b[0m\n\u001b[1;32m    812\u001b[0m                 values=(\n",
            "\u001b[0;31mInterfaceError\u001b[0m: 2002: Can't connect to local MySQL server through socket '%-.100s' (%s) (Warning: not all arguments converted during string formatting)"
          ]
        }
      ]
    },
    {
      "cell_type": "code",
      "source": [
        "# Q7. Give the order of execution of SQL clauses in an SQL query.\n",
        "\"\"\"\n",
        "In SQL, clauses are executed in the following order: FROM/JOIN, WHERE, GROUP BY, HAVING, SELECT, DISTINCT, ORDER BY, and finally, LIMIT/OFFSET\n",
        "\"\"\""
      ],
      "metadata": {
        "id": "RNR9-tbw5vW0"
      },
      "execution_count": null,
      "outputs": []
    }
  ]
}