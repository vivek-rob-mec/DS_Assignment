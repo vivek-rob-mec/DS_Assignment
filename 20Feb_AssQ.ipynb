{
  "nbformat": 4,
  "nbformat_minor": 0,
  "metadata": {
    "colab": {
      "provenance": []
    },
    "kernelspec": {
      "name": "python3",
      "display_name": "Python 3"
    },
    "language_info": {
      "name": "python"
    }
  },
  "cells": [
    {
      "cell_type": "code",
      "execution_count": 1,
      "metadata": {
        "colab": {
          "base_uri": "https://localhost:8080/",
          "height": 140
        },
        "id": "zeX33JSFDKqZ",
        "outputId": "3565b2c0-b0ca-41fe-a39b-51e633f5806f"
      },
      "outputs": [
        {
          "output_type": "execute_result",
          "data": {
            "text/plain": [
              "'\\nIn HTTP communication, GET retrieves data from a server, while POST sends data to \\na server for creation or modification, with data being transmitted in the URL for GET and in the request body for POST. \\n\\nGET Method: \\n\\n• Purpose: Primarily used to request data from a server, such as retrieving a webpage, an image, or a list of items. \\n• Data Transmission: Data is included as parameters in the URL (https://example.com/search?q=something).  \\n• Security: Less secure as data is visible in the URL, making it unsuitable for sensitive information.  \\n• Caching: GET requests are often cached by browsers and servers, leading to faster retrieval of frequently accessed data.  \\n• Idempotency: GET requests are idempotent, meaning that making the same request multiple times should have the same effect.  \\n\\nPOST Method:  \\n\\n• Purpose: Used to send data to a server for creation or modification of resources, such as submitting a form, \\nuploading a file, or creating a new entry in a database.  \\n• Data Transmission: Data is sent in the request body, not the URL.  \\n• Security: More secure than GET, as data is not exposed in the URL.  \\n• Caching: POST requests are generally not cached, as they often involve modifying server-side data.  \\n• Idempotency: POST requests are not idempotent, meaning that making the same request multiple times might have different effects.  \\n'"
            ],
            "application/vnd.google.colaboratory.intrinsic+json": {
              "type": "string"
            }
          },
          "metadata": {},
          "execution_count": 1
        }
      ],
      "source": [
        "# Q1. Explain GET and POST methods.\n",
        "\"\"\"\n",
        "In HTTP communication, GET retrieves data from a server, while POST sends data to\n",
        "a server for creation or modification, with data being transmitted in the URL for GET and in the request body for POST.\n",
        "\n",
        "GET Method:\n",
        "\n",
        "• Purpose: Primarily used to request data from a server, such as retrieving a webpage, an image, or a list of items.\n",
        "• Data Transmission: Data is included as parameters in the URL (https://example.com/search?q=something).\n",
        "• Security: Less secure as data is visible in the URL, making it unsuitable for sensitive information.\n",
        "• Caching: GET requests are often cached by browsers and servers, leading to faster retrieval of frequently accessed data.\n",
        "• Idempotency: GET requests are idempotent, meaning that making the same request multiple times should have the same effect.\n",
        "\n",
        "POST Method:\n",
        "\n",
        "• Purpose: Used to send data to a server for creation or modification of resources, such as submitting a form,\n",
        "uploading a file, or creating a new entry in a database.\n",
        "• Data Transmission: Data is sent in the request body, not the URL.\n",
        "• Security: More secure than GET, as data is not exposed in the URL.\n",
        "• Caching: POST requests are generally not cached, as they often involve modifying server-side data.\n",
        "• Idempotency: POST requests are not idempotent, meaning that making the same request multiple times might have different effects.\n",
        "\"\"\""
      ]
    },
    {
      "cell_type": "code",
      "source": [
        "# Q2. Why is request used in Flask?\n",
        "\"\"\"\n",
        "In Flask, the request object is essential for accessing incoming data from clients, such as web browsers or other applications.\n",
        "It acts as a bridge between the client's request and the Flask application.\n",
        "\n",
        "The request object allows you to retrieve data sent by the client, including:\n",
        "\n",
        "1) Form data: Data submitted through HTML forms, accessible via request.form.\n",
        "2) Query parameters: Data appended to the URL, accessible via request.args.\n",
        "3) Request body: Raw data sent in the request body, accessible via request.data or request.get_json().\n",
        "4) Headers: Metadata about the request, accessible via request.headers.\n",
        "5) HTTP method: The type of request (e.g., GET, POST), accessible via request.method.\n",
        "6) Files: Uploaded files, accessible via request.files.\n",
        "7) Cookies: Stored data in the browser, accessible via request.cookies.\n",
        "\"\"\""
      ],
      "metadata": {
        "colab": {
          "base_uri": "https://localhost:8080/",
          "height": 122
        },
        "id": "zj1hT-yWFrbJ",
        "outputId": "bda44046-684f-4184-8ee0-61784872caec"
      },
      "execution_count": 2,
      "outputs": [
        {
          "output_type": "execute_result",
          "data": {
            "text/plain": [
              "\"\\nIn Flask, the request object is essential for accessing incoming data from clients, such as web browsers or other applications. \\nIt acts as a bridge between the client's request and the Flask application.\\n\\nThe request object allows you to retrieve data sent by the client, including:\\n\\n1) Form data: Data submitted through HTML forms, accessible via request.form.\\n2) Query parameters: Data appended to the URL, accessible via request.args.\\n3) Request body: Raw data sent in the request body, accessible via request.data or request.get_json().\\n4) Headers: Metadata about the request, accessible via request.headers.\\n5) HTTP method: The type of request (e.g., GET, POST), accessible via request.method.\\n6) Files: Uploaded files, accessible via request.files.\\n7) Cookies: Stored data in the browser, accessible via request.cookies.\\n\""
            ],
            "application/vnd.google.colaboratory.intrinsic+json": {
              "type": "string"
            }
          },
          "metadata": {},
          "execution_count": 2
        }
      ]
    },
    {
      "cell_type": "code",
      "source": [
        "# Q3. Why is redirect() used in Flask?\n",
        "\"\"\"\n",
        "The redirect function is used to take the user to a new URL. It can be used in scenarios such as successful form submission, authentication,\n",
        "or when we want to guide a user to a different section of the application. It takes in the URL as an argument or the route name.\n",
        "\"\"\""
      ],
      "metadata": {
        "colab": {
          "base_uri": "https://localhost:8080/",
          "height": 53
        },
        "id": "AFVW8VGSGuLF",
        "outputId": "7dd67db8-f248-4dc4-e09f-d5cffb8da044"
      },
      "execution_count": 3,
      "outputs": [
        {
          "output_type": "execute_result",
          "data": {
            "text/plain": [
              "'\\nThe redirect function is used to take the user to a new URL. It can be used in scenarios such as successful form submission, authentication, \\nor when we want to guide a user to a different section of the application. It takes in the URL as an argument or the route name.\\n'"
            ],
            "application/vnd.google.colaboratory.intrinsic+json": {
              "type": "string"
            }
          },
          "metadata": {},
          "execution_count": 3
        }
      ]
    },
    {
      "cell_type": "code",
      "source": [
        "# Q4. What are templates in Flask? Why is the render_template() function used?\n",
        "\"\"\"\n",
        "Templates are files that contain static data as well as placeholders for dynamic data.\n",
        "A template is rendered with specific data to produce a final document. Flask uses the Jinja template\n",
        "library to render templates. In your application, you will use templates to render HTML which will display in the user's browser.\n",
        "\n",
        "Why Use render_template()?\n",
        "Rendering HTML:\n",
        "The render_template() function takes the name of the template file and any variables you want to pass to the template as keyword arguments.\n",
        "Passing Data:\n",
        "It passes data from your Python code to the template, allowing you to dynamically generate HTML content based on the data.\n",
        "Returning HTML:\n",
        "It returns the rendered HTML as a string, which can then be used as the response to a web request.\n",
        "Example:\n",
        "return render_template(\"index.html\", name=\"John\") would render the index.html template and pass the variable name with the value \"John\" to the template.\n",
        "\"\"\""
      ],
      "metadata": {
        "colab": {
          "base_uri": "https://localhost:8080/",
          "height": 122
        },
        "id": "0GrDpL79HJax",
        "outputId": "9eddd3d6-d39a-4c27-94af-dbcfda922e37"
      },
      "execution_count": 4,
      "outputs": [
        {
          "output_type": "execute_result",
          "data": {
            "text/plain": [
              "'\\nTemplates are files that contain static data as well as placeholders for dynamic data. \\nA template is rendered with specific data to produce a final document. Flask uses the Jinja template \\nlibrary to render templates. In your application, you will use templates to render HTML which will display in the user\\'s browser.\\n\\nWhy Use render_template()?\\nRendering HTML:\\nThe render_template() function takes the name of the template file and any variables you want to pass to the template as keyword arguments. \\nPassing Data:\\nIt passes data from your Python code to the template, allowing you to dynamically generate HTML content based on the data. \\nReturning HTML:\\nIt returns the rendered HTML as a string, which can then be used as the response to a web request. \\nExample:\\nreturn render_template(\"index.html\", name=\"John\") would render the index.html template and pass the variable name with the value \"John\" to the template. \\n'"
            ],
            "application/vnd.google.colaboratory.intrinsic+json": {
              "type": "string"
            }
          },
          "metadata": {},
          "execution_count": 4
        }
      ]
    },
    {
      "cell_type": "code",
      "source": [
        "# Q5. Create a simple API. Use Postman to test it. Attach the screenshot of the output in the Jupyter Notebook.\n",
        "from flask import Flask, request, jsonify\n",
        "app=Flask(__name__)\n",
        "@app.route('/api/data', methods=['GET', 'POST'])\n",
        "def handle_data():\n",
        "    if request.method =='GET':\n",
        "      data = {'message': 'Hello from the API!'}\n",
        "      return jsonify(data)\n",
        "    elif request.method == 'POST':\n",
        "      request_data = request.get_json()\n",
        "      if request_data and 'name' in request_data:\n",
        "        return jsonify({'message': f'Hello, {request_data[\"name\"]}!'})\n",
        "      else:\n",
        "        return jsonify({'error': 'Invalid data'}), 400\n",
        "if __name__ =='__main__':\n",
        "    app.run(debug=True)"
      ],
      "metadata": {
        "colab": {
          "base_uri": "https://localhost:8080/"
        },
        "id": "3QR-emnwMpzl",
        "outputId": "4b869750-a0e9-4fd4-d76e-af1c7a0ebf8f"
      },
      "execution_count": 11,
      "outputs": [
        {
          "output_type": "stream",
          "name": "stdout",
          "text": [
            " * Serving Flask app '__main__'\n",
            " * Debug mode: on\n"
          ]
        },
        {
          "output_type": "stream",
          "name": "stderr",
          "text": [
            "INFO:werkzeug:\u001b[31m\u001b[1mWARNING: This is a development server. Do not use it in a production deployment. Use a production WSGI server instead.\u001b[0m\n",
            " * Running on http://127.0.0.1:5000\n",
            "INFO:werkzeug:\u001b[33mPress CTRL+C to quit\u001b[0m\n",
            "INFO:werkzeug: * Restarting with stat\n"
          ]
        }
      ]
    },
    {
      "cell_type": "code",
      "source": [],
      "metadata": {
        "id": "ihmtN5oiR865"
      },
      "execution_count": null,
      "outputs": []
    }
  ]
}