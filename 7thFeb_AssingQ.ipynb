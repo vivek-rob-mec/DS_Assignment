{
  "nbformat": 4,
  "nbformat_minor": 0,
  "metadata": {
    "colab": {
      "provenance": []
    },
    "kernelspec": {
      "name": "python3",
      "display_name": "Python 3"
    },
    "language_info": {
      "name": "python"
    }
  },
  "cells": [
    {
      "cell_type": "code",
      "execution_count": 7,
      "metadata": {
        "colab": {
          "base_uri": "https://localhost:8080/"
        },
        "id": "vs6NjM-AiUjY",
        "outputId": "e099d390-7459-460c-a93d-a7b2f7f9a0b9"
      },
      "outputs": [
        {
          "output_type": "stream",
          "name": "stdout",
          "text": [
            "Enter your password: UUvv123$%*\n",
            "Valid Password\n"
          ]
        }
      ],
      "source": [
        "\"\"\"\n",
        "Q1. You are writing code for a company. The requirement of the company is that you create a python\n",
        "function that will check whether the password entered by the user is correct or not. The function should\n",
        "take the password as input and return the string “Valid Password” if the entered password follows the\n",
        "below-given password guidelines else it should return “Invalid Password”.\n",
        "Note: 1. The Password should contain at least two uppercase letters and at least two lowercase letters.\n",
        "2. The Password should contain at least a number and three special characters.\n",
        "3. The length of the password should be 10 characters long.\n",
        "\"\"\"\n",
        "pwd = input(\"Enter your password: \")\n",
        "def check_password(pwd):\n",
        "    if len(pwd) != 10:\n",
        "      return \"Invalid Password1\"\n",
        "    upper_count = 0\n",
        "    lower_count = 0\n",
        "    num_count = 0\n",
        "    special_count = 0\n",
        "    for char in pwd:\n",
        "      if char.isupper():\n",
        "        upper_count += 1\n",
        "      elif char.islower():\n",
        "        lower_count += 1\n",
        "      elif char.isdigit():\n",
        "        num_count += 1\n",
        "      elif not char.isalnum():\n",
        "        special_count += 1\n",
        "\n",
        "    if upper_count >= 2 and lower_count >= 2 and num_count >= 1 and special_count >= 3:\n",
        "      return \"Valid Password\"\n",
        "    else:\n",
        "      return \"Invalid Passwrod2\"\n",
        "\n",
        "print(check_password(pwd))"
      ]
    },
    {
      "cell_type": "code",
      "source": [
        "\"\"\"\n",
        "Q2. Solve the below-given questions using at least one of the following:\n",
        "1. Lambda function\n",
        "2. Filter function\n",
        "3. Map function\n",
        "4. List Comprehension\n",
        "* Check if the string starts with a particular letter\n",
        "* Check if the string is numeric\n",
        "* Sort a list of tuples having fruit names and their quantity. [(\"mango\",99),(\"orange\",80), (\"grapes\", 1000)]\n",
        "* Find the squares of numbers from 1 to 10\n",
        "* Find the cube root of numbers from 1 to 10\n",
        "* Check if a given number is even\n",
        "* Filter odd numbers from the given list.\n",
        "[1,2,3,4,5,6,7,8,9,10]\n",
        "* Sort a list of integers into positive and negative integers lists.\n",
        "[1,2,3,4,5,6,-1,-2,-3,-4,-5,0]\n",
        "\"\"\"\n",
        "\n",
        "string_start = lambda char: char[0].isalpha()\n",
        "print(string_start('hello'))\n",
        "\n",
        "string_num = lambda char: char.isdigit()\n",
        "print(string_num('123'))\n",
        "\n",
        "square = [x**2 for x in range(1,11)]\n",
        "print(square)\n",
        "\n",
        "cube = [x**3 for x in range(1,11)]\n",
        "print(cube)\n",
        "\n",
        "even = lambda x: x%2 == 0\n",
        "print(even(4))\n",
        "\n",
        "odd = map(lambda x: x%2 != 0,[1,2,3,4,5,6,7,8,9,10] )\n",
        "print(list(odd))\n",
        "\n",
        "positive = lambda x: x >= 0\n",
        "negative = lambda x: x < 0\n",
        "print(list(filter(positive,[1,2,3,4,5,6,-1,-2,-3,-4,-5,0])))\n",
        "print(list(filter(negative,[1,2,3,4,5,6,-1,-2,-3,-4,-5,0])))\n",
        "\n",
        "fruits = [(\"mango\", 99), (\"orange\", 80), (\"grapes\", 1000)]\n",
        "sorted_fruits = sorted(fruits, key=lambda x: x[1])\n",
        "\n",
        "print(sorted_fruits)"
      ],
      "metadata": {
        "colab": {
          "base_uri": "https://localhost:8080/"
        },
        "id": "wUooDcDek5qu",
        "outputId": "95338233-bbde-4817-dc7a-30c7b57119e3"
      },
      "execution_count": 25,
      "outputs": [
        {
          "output_type": "stream",
          "name": "stdout",
          "text": [
            "True\n",
            "True\n",
            "[1, 4, 9, 16, 25, 36, 49, 64, 81, 100]\n",
            "[1, 8, 27, 64, 125, 216, 343, 512, 729, 1000]\n",
            "True\n",
            "[True, False, True, False, True, False, True, False, True, False]\n",
            "[1, 2, 3, 4, 5, 6, 0]\n",
            "[-1, -2, -3, -4, -5]\n",
            "[('orange', 80), ('mango', 99), ('grapes', 1000)]\n"
          ]
        }
      ]
    },
    {
      "cell_type": "code",
      "source": [],
      "metadata": {
        "id": "Sv_oKH8Oo_cR"
      },
      "execution_count": null,
      "outputs": []
    }
  ]
}