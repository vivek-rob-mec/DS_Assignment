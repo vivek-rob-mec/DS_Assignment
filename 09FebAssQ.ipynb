{
  "nbformat": 4,
  "nbformat_minor": 0,
  "metadata": {
    "colab": {
      "provenance": []
    },
    "kernelspec": {
      "name": "python3",
      "display_name": "Python 3"
    },
    "language_info": {
      "name": "python"
    }
  },
  "cells": [
    {
      "cell_type": "code",
      "execution_count": 1,
      "metadata": {
        "id": "1WuMiv7afTtF"
      },
      "outputs": [],
      "source": [
        "# Q1, Create a vehicle class with an init method having instance variables as name_of_vehicle, max_speed and average_of_vehicle.\n",
        "class vehicle:\n",
        "    def __init__(self, name_of_vehicle, max_speed, average_of_vehicle):\n",
        "      self.name_of_vehicle = name_of_vehicle\n",
        "      self.max_speed = max_speed\n",
        "      self.average_of_vehicle = average_of_vehicle\n",
        "\n"
      ]
    },
    {
      "cell_type": "code",
      "source": [
        "# Q2. Create a child class car from the vehicle class created in Que 1, which will inherit the vehicle class.\n",
        "#     Create a method named seating_capacity which takes capacity as an argument and returns the name of\n",
        "#     the vehicle and its seating capacity.\n",
        "\n",
        "class car(vehicle):\n",
        "  def seating_capacity(self, capacity):\n",
        "    return f\"{self.name_of_vehicle}, {capacity}\""
      ],
      "metadata": {
        "id": "kk-zRuEZoBR5"
      },
      "execution_count": 2,
      "outputs": []
    },
    {
      "cell_type": "code",
      "source": [
        "# Q3. What is multiple inheritance? Write a python code to demonstrate multiple inheritance.\n",
        "\"\"\"\n",
        "Multiple Inheritance:\n",
        "The concept of inheriting the properties from multiple classes into a single class at a\n",
        "time, is known as multiple inheritance.\n",
        "\"\"\"\n",
        "class P1:\n",
        "  def m1(self):\n",
        "   print(\"Parent1 Method\")\n",
        "class P2:\n",
        "  def m2(self):\n",
        "   print(\"Parent2 Method\")\n",
        "class C(P1,P2):\n",
        "  def m3(self):\n",
        "   print(\"Child2 Method\")\n",
        "c=C()\n",
        "c.m1()\n",
        "c.m2()\n",
        "c.m3()"
      ],
      "metadata": {
        "colab": {
          "base_uri": "https://localhost:8080/"
        },
        "id": "uvdyS0CFsXWo",
        "outputId": "11e104b2-8f3f-450d-d72c-d49f0acf5975"
      },
      "execution_count": 3,
      "outputs": [
        {
          "output_type": "stream",
          "name": "stdout",
          "text": [
            "Parent1 Method\n",
            "Parent2 Method\n",
            "Child2 Method\n"
          ]
        }
      ]
    },
    {
      "cell_type": "code",
      "source": [
        "# Q4. What are getter and setter in python? Create a class and create a getter and a setter method in this class.\n",
        "\"\"\"\n",
        "setter and getter:\n",
        "We can set and get the values of instance variables by using setter and getter methods.\n",
        "Setter Method:\n",
        "Used to set values to the instance variable also known as mutator method.\n",
        "Syntax:\n",
        "def setvariable(self,variable):\n",
        "  self.variable=variable\n",
        "Example:\n",
        "def setname(self,name):\n",
        "  self.name=name\n",
        "\n",
        "Getter Method:\n",
        "Used to get values from the instance variable also known as accesor method.\n",
        "Syntax:\n",
        "def getvariable(self):\n",
        "  return self.variable\n",
        "Example:\n",
        "def getname(self):\n",
        "  return self.name\n",
        "\"\"\"\n",
        "class student:\n",
        "  def setname(self,name):\n",
        "    self.name = name\n",
        "\n",
        "  def getname(self):\n",
        "    return self.name\n",
        "\n",
        "  def setmarks(self,marks):\n",
        "    self.marks = marks\n",
        "\n",
        "  def getmarks(self):\n",
        "    return self.marks\n",
        "\n",
        "n = int(input(\"Enter number of students: \"))\n",
        "for i in range(n):\n",
        "  s = student()\n",
        "  name = input(\"Enter name: \")\n",
        "  marks = int(input(\"Enter marks: \"))\n",
        "  s.setname(name)\n",
        "  s.setmarks(marks)\n",
        "  print(f\"Name: {s.getname()}\")\n",
        "  print(f\"Marks: {s.getmarks()}\")\n",
        "  print()\n"
      ],
      "metadata": {
        "colab": {
          "base_uri": "https://localhost:8080/"
        },
        "id": "TREKRYuMw4y-",
        "outputId": "ea814fb0-916f-4497-cc2a-5e9c7da5b133"
      },
      "execution_count": 4,
      "outputs": [
        {
          "output_type": "stream",
          "name": "stdout",
          "text": [
            "Enter number of students: 2\n",
            "Enter name: vivek\n",
            "Enter marks: 98\n",
            "Name: vivek\n",
            "Marks: 98\n",
            "\n",
            "Enter name: rohit\n",
            "Enter marks: 54\n",
            "Name: rohit\n",
            "Marks: 54\n",
            "\n"
          ]
        }
      ]
    },
    {
      "cell_type": "code",
      "source": [
        "# Q5.What is method overriding in python? Write a python code to demonstrate method overriding.\n",
        "\"\"\"\n",
        "1) What ever members available in the parent class are bydefault available to the child\n",
        "   class through inheritance. If the child class not satisfied with parent class\n",
        "   implementation then child class is allowed to redefine that method in the child class\n",
        "   based on its requirement. This concept is called overriding.\n",
        "2) Overriding concept applicable for both methods and constructors.\n",
        "\"\"\"\n",
        "class P:\n",
        "  def property(self):\n",
        "    print(\"gold + land + power\")\n",
        "  def marry(self):\n",
        "    print(\"Shraddha Kapoor\")\n",
        "\n",
        "class C(P):\n",
        "  def marry(self):\n",
        "    print(\"Katrina kaif\")\n",
        "\n",
        "c = C()\n",
        "c.property()\n",
        "c.marry()"
      ],
      "metadata": {
        "colab": {
          "base_uri": "https://localhost:8080/"
        },
        "id": "q5w7YsBf1pS-",
        "outputId": "8f10a98e-97bf-4248-f17d-d1f6271626b9"
      },
      "execution_count": 5,
      "outputs": [
        {
          "output_type": "stream",
          "name": "stdout",
          "text": [
            "gold + land + power\n",
            "Katrina kaif\n"
          ]
        }
      ]
    },
    {
      "cell_type": "code",
      "source": [],
      "metadata": {
        "id": "d_eUASO43ZHN"
      },
      "execution_count": null,
      "outputs": []
    }
  ]
}