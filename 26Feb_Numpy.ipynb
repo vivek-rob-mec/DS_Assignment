{
  "nbformat": 4,
  "nbformat_minor": 0,
  "metadata": {
    "colab": {
      "provenance": []
    },
    "kernelspec": {
      "name": "python3",
      "display_name": "Python 3"
    },
    "language_info": {
      "name": "python"
    }
  },
  "cells": [
    {
      "cell_type": "code",
      "execution_count": 2,
      "metadata": {
        "id": "BH3ALMaTIgfy"
      },
      "outputs": [],
      "source": [
        "import numpy as np\n",
        "list_ = [ '1' , '2' , '3' , '4' , '5' ]\n",
        "array_list = np.array(object = list_)"
      ]
    },
    {
      "cell_type": "code",
      "source": [
        "# Q1. Is there any difference in the data type of variables list_ and array_list? If there is then write a code\n",
        "# to print the data types of both the variables.\n",
        "\"\"\"\n",
        "list_ : Is a regular python list data type\n",
        "array_list : Is a numpy array list both haveing same element\n",
        "\"\"\"\n",
        "print(\"Type of list: \",type(list_))\n",
        "print(\"Type of array_list: \", type(array_list))"
      ],
      "metadata": {
        "colab": {
          "base_uri": "https://localhost:8080/"
        },
        "id": "evtuPtsDKQn_",
        "outputId": "f5055113-4950-4f9a-865c-3800e49c67e9"
      },
      "execution_count": 6,
      "outputs": [
        {
          "output_type": "stream",
          "name": "stdout",
          "text": [
            "Type of list:  <class 'list'>\n",
            "Type of array_list:  <class 'numpy.ndarray'>\n"
          ]
        }
      ]
    },
    {
      "cell_type": "code",
      "source": [
        "# Q2. Write a code to print the data type of each and every element of both the variables list_ and\n",
        "# arra_list.\n",
        "print(type(list_[0]))\n",
        "print(type(array_list[0]))"
      ],
      "metadata": {
        "colab": {
          "base_uri": "https://localhost:8080/"
        },
        "id": "4xzoOsudLALz",
        "outputId": "3619880b-dec0-4777-eba2-421659fb270b"
      },
      "execution_count": 7,
      "outputs": [
        {
          "output_type": "stream",
          "name": "stdout",
          "text": [
            "<class 'str'>\n",
            "<class 'numpy.str_'>\n"
          ]
        }
      ]
    },
    {
      "cell_type": "code",
      "source": [
        "# Q3. Considering the following changes in the variable, array_list:\n",
        "array_list = np.array(object = list_, dtype = int)\n",
        "# Will there be any difference in the data type of the elements present in both the variables, list_ and\n",
        "# arra_list? If so then print the data types of each and every element present in both the variables, list_\n",
        "# and arra_list.\n",
        "print(type(list_))\n",
        "print(type(array_list))\n",
        "print(type(list_[0]))\n",
        "print(type(array_list[0]))\n",
        "for i in list_:\n",
        "    print(type(i))\n",
        "for j in array_list:\n",
        "    print(type(j))"
      ],
      "metadata": {
        "colab": {
          "base_uri": "https://localhost:8080/"
        },
        "id": "Er5w3erkMC45",
        "outputId": "221c4348-c6a0-4482-f366-ce6fa410c792"
      },
      "execution_count": 11,
      "outputs": [
        {
          "output_type": "stream",
          "name": "stdout",
          "text": [
            "<class 'list'>\n",
            "<class 'numpy.ndarray'>\n",
            "<class 'str'>\n",
            "<class 'numpy.int64'>\n",
            "<class 'str'>\n",
            "<class 'str'>\n",
            "<class 'str'>\n",
            "<class 'str'>\n",
            "<class 'str'>\n",
            "<class 'numpy.int64'>\n",
            "<class 'numpy.int64'>\n",
            "<class 'numpy.int64'>\n",
            "<class 'numpy.int64'>\n",
            "<class 'numpy.int64'>\n"
          ]
        }
      ]
    },
    {
      "cell_type": "code",
      "source": [
        "# Consider the below code to answer further questions:\n",
        "import numpy as np\n",
        "num_list = [ [ 1 , 2 , 3 ] , [ 4 , 5 , 6 ] ]\n",
        "num_array = np.array(object = num_list)\n",
        "# Q4. Write a code to find the following characteristics of variable, num_array:\n",
        "# (i) shape\n",
        "# (ii) size\n",
        "print(num_array.shape)\n",
        "print(num_array.size)"
      ],
      "metadata": {
        "colab": {
          "base_uri": "https://localhost:8080/"
        },
        "id": "8qJHhvL1M91U",
        "outputId": "3acbe287-2ebb-49bd-ab3e-a5ff083b53a6"
      },
      "execution_count": 14,
      "outputs": [
        {
          "output_type": "stream",
          "name": "stdout",
          "text": [
            "(2, 3)\n",
            "6\n"
          ]
        }
      ]
    },
    {
      "cell_type": "code",
      "source": [
        "# Q5. Write a code to create numpy array of 3*3 matrix containing zeros only, using a numpy array\n",
        "# creation function.\n",
        "# [Hint: The size of the array will be 9 and the shape will be (3,3).]\n",
        "num_array = np.zeros((3,3))\n",
        "print(num_array)\n",
        "print(num_array.shape)\n",
        "print(num_array.size)"
      ],
      "metadata": {
        "colab": {
          "base_uri": "https://localhost:8080/"
        },
        "id": "AZCWhT28OKel",
        "outputId": "ff314f84-1aac-472d-a3d3-057f59a4a273"
      },
      "execution_count": 19,
      "outputs": [
        {
          "output_type": "stream",
          "name": "stdout",
          "text": [
            "[[0. 0. 0.]\n",
            " [0. 0. 0.]\n",
            " [0. 0. 0.]]\n",
            "(3, 3)\n",
            "9\n"
          ]
        }
      ]
    },
    {
      "cell_type": "code",
      "source": [
        "# Q6. Create an identity matrix of shape (5,5) using numpy functions?\n",
        "# [Hint: An identity matrix is a matrix containing 1 diagonally and other elements will be 0.]\n",
        "numpy_array = np.identity(5)\n",
        "print(numpy_array)"
      ],
      "metadata": {
        "colab": {
          "base_uri": "https://localhost:8080/"
        },
        "id": "_ZKe7Q6RPBdt",
        "outputId": "51470126-13a7-4039-fb82-b126ca2488b2"
      },
      "execution_count": 22,
      "outputs": [
        {
          "output_type": "stream",
          "name": "stdout",
          "text": [
            "[[1. 0. 0. 0. 0.]\n",
            " [0. 1. 0. 0. 0.]\n",
            " [0. 0. 1. 0. 0.]\n",
            " [0. 0. 0. 1. 0.]\n",
            " [0. 0. 0. 0. 1.]]\n"
          ]
        }
      ]
    },
    {
      "cell_type": "code",
      "source": [],
      "metadata": {
        "id": "dYHK8IIgP6_O"
      },
      "execution_count": null,
      "outputs": []
    }
  ]
}