{
  "nbformat": 4,
  "nbformat_minor": 0,
  "metadata": {
    "colab": {
      "provenance": []
    },
    "kernelspec": {
      "name": "python3",
      "display_name": "Python 3"
    },
    "language_info": {
      "name": "python"
    }
  },
  "cells": [
    {
      "cell_type": "code",
      "execution_count": 1,
      "metadata": {
        "colab": {
          "base_uri": "https://localhost:8080/"
        },
        "id": "m3S2rX4OFPPz",
        "outputId": "91950e50-627f-4088-b65b-9fa37844f1c4"
      },
      "outputs": [
        {
          "output_type": "stream",
          "name": "stdout",
          "text": [
            "Accuracy of KNN classifier on test set: 100.00%\n",
            "   Predicted  Actual\n",
            "0          1       1\n",
            "1          0       0\n",
            "2          2       2\n",
            "3          1       1\n",
            "4          1       1\n"
          ]
        }
      ],
      "source": [
        "\"\"\"\n",
        "Q1. Write a Python code to implement the KNN classifier algorithm on load_iris dataset in\n",
        "sklearn.datasets.\n",
        "\"\"\"\n",
        "# Import necessary libraries\n",
        "import numpy as np\n",
        "import pandas as pd\n",
        "from sklearn.model_selection import train_test_split\n",
        "from sklearn.neighbors import KNeighborsClassifier\n",
        "from sklearn.datasets import load_iris\n",
        "from sklearn.metrics import accuracy_score\n",
        "\n",
        "# Load the Iris dataset\n",
        "iris = load_iris()\n",
        "X = iris.data  # Features\n",
        "y = iris.target  # Target labels\n",
        "\n",
        "# Split the dataset into training and testing sets\n",
        "X_train, X_test, y_train, y_test = train_test_split(X, y, test_size=0.3, random_state=42)\n",
        "\n",
        "# Initialize the KNN classifier\n",
        "k = 3  # You can experiment with different values of k\n",
        "knn = KNeighborsClassifier(n_neighbors=k)\n",
        "\n",
        "# Train the model\n",
        "knn.fit(X_train, y_train)\n",
        "\n",
        "# Make predictions\n",
        "y_pred = knn.predict(X_test)\n",
        "\n",
        "# Calculate the accuracy of the model\n",
        "accuracy = accuracy_score(y_test, y_pred)\n",
        "\n",
        "# Display the accuracy\n",
        "print(f\"Accuracy of KNN classifier on test set: {accuracy * 100:.2f}%\")\n",
        "\n",
        "# Optionally, print the predicted vs actual labels\n",
        "df = pd.DataFrame({\n",
        "    'Predicted': y_pred,\n",
        "    'Actual': y_test\n",
        "})\n",
        "print(df.head())\n"
      ]
    },
    {
      "cell_type": "code",
      "source": [
        "\"\"\"\n",
        "Q2. Write a Python code to implement the KNN regressor algorithm on load_boston dataset in\n",
        "sklearn.datasets.\n",
        "\"\"\"\n",
        "# Import necessary libraries\n",
        "import numpy as np\n",
        "import pandas as pd\n",
        "from sklearn.model_selection import train_test_split\n",
        "from sklearn.neighbors import KNeighborsRegressor\n",
        "# from sklearn.datasets import load_boston # This line is removed as load_boston is deprecated\n",
        "from sklearn.metrics import mean_squared_error\n",
        "from sklearn.preprocessing import StandardScaler\n",
        "\n",
        "# Load the California housing dataset instead of the Boston dataset\n",
        "# !pip install -U scikit-learn\n",
        "from sklearn.datasets import fetch_california_housing # Importing fetch_california_housing\n",
        "\n",
        "# Fetch the California housing dataset\n",
        "housing = fetch_california_housing()\n",
        "X = housing.data  # Features\n",
        "y = housing.target  # Target values (housing prices)\n",
        "\n",
        "# Split the dataset into training and testing sets\n",
        "X_train, X_test, y_train, y_test = train_test_split(X, y, test_size=0.3, random_state=42)\n",
        "\n",
        "# Standardize the features (important for KNN)\n",
        "scaler = StandardScaler()\n",
        "X_train = scaler.fit_transform(X_train)\n",
        "X_test = scaler.transform(X_test)\n",
        "\n",
        "# Initialize the KNN regressor\n",
        "k = 5  # You can experiment with different values of k\n",
        "knn_regressor = KNeighborsRegressor(n_neighbors=k)\n",
        "\n",
        "# Train the model\n",
        "knn_regressor.fit(X_train, y_train)\n",
        "\n",
        "# Make predictions\n",
        "y_pred = knn_regressor.predict(X_test)\n",
        "\n",
        "# Calculate the Mean Squared Error (MSE)\n",
        "mse = mean_squared_error(y_test, y_pred)\n",
        "\n",
        "# Display the results\n",
        "print(f\"Mean Squared Error of KNN regressor: {mse:.2f}\")\n",
        "\n",
        "# Optionally, print the predicted vs actual values\n",
        "df = pd.DataFrame({\n",
        "    'Predicted': y_pred,\n",
        "    'Actual': y_test\n",
        "})\n",
        "print(df.head())"
      ],
      "metadata": {
        "colab": {
          "base_uri": "https://localhost:8080/"
        },
        "id": "qCT3bVpdFuB6",
        "outputId": "190dcd2f-e42e-459e-f227-331d97a44acd"
      },
      "execution_count": 3,
      "outputs": [
        {
          "output_type": "stream",
          "name": "stdout",
          "text": [
            "Mean Squared Error of KNN regressor: 0.43\n",
            "   Predicted   Actual\n",
            "0   0.498800  0.47700\n",
            "1   0.764600  0.45800\n",
            "2   4.750006  5.00001\n",
            "3   2.807800  2.18600\n",
            "4   2.726200  2.78000\n"
          ]
        }
      ]
    },
    {
      "cell_type": "code",
      "source": [
        "\"\"\"\n",
        "Q3. Write a Python code snippet to find the optimal value of K for the KNN classifier algorithm using\n",
        "cross-validation on load_iris dataset in sklearn.datasets.\n",
        "\"\"\"\n",
        "# Import necessary libraries\n",
        "import numpy as np\n",
        "from sklearn.datasets import load_iris\n",
        "from sklearn.model_selection import cross_val_score\n",
        "from sklearn.neighbors import KNeighborsClassifier\n",
        "\n",
        "# Load the Iris dataset\n",
        "iris = load_iris()\n",
        "X = iris.data  # Features\n",
        "y = iris.target  # Target labels\n",
        "\n",
        "# List of possible k values to test\n",
        "k_values = range(1, 21)  # Testing K values from 1 to 20\n",
        "\n",
        "# Initialize a list to store the cross-validation scores\n",
        "cv_scores = []\n",
        "\n",
        "# Loop over each k value and perform cross-validation\n",
        "for k in k_values:\n",
        "    knn = KNeighborsClassifier(n_neighbors=k)\n",
        "    # Perform 5-fold cross-validation and calculate mean accuracy score\n",
        "    scores = cross_val_score(knn, X, y, cv=5, scoring='accuracy')\n",
        "    cv_scores.append(scores.mean())  # Store the mean of the cross-validation scores\n",
        "\n",
        "# Find the optimal k value (the one with the highest accuracy)\n",
        "optimal_k = k_values[np.argmax(cv_scores)]\n",
        "print(f\"Optimal value of K: {optimal_k}\")\n",
        "\n",
        "# Optionally, plot the results\n",
        "import matplotlib.pyplot as plt\n",
        "plt.plot(k_values, cv_scores, marker='o')\n",
        "plt.xlabel('Number of Neighbors (K)')\n",
        "plt.ylabel('Cross-Validated Accuracy')\n",
        "plt.title('Cross-Validation Accuracy for Different K Values')\n",
        "plt.show()\n"
      ],
      "metadata": {
        "colab": {
          "base_uri": "https://localhost:8080/",
          "height": 489
        },
        "id": "xDwUKX6DGAfn",
        "outputId": "585a888c-95b9-4eee-e5cb-03c664954012"
      },
      "execution_count": 4,
      "outputs": [
        {
          "output_type": "stream",
          "name": "stdout",
          "text": [
            "Optimal value of K: 6\n"
          ]
        },
        {
          "output_type": "display_data",
          "data": {
            "text/plain": [
              "<Figure size 640x480 with 1 Axes>"
            ],
            "image/png": "[encoded data removed]"
          },
          "metadata": {}
        }
      ]
    },
    {
      "cell_type": "code",
      "source": [
        "\"\"\"\n",
        "Q4. Implement the KNN regressor algorithm with feature scaling on load_boston dataset in\n",
        "sklearn.datasets.\n",
        "\"\"\"\n",
        "# Import necessary libraries\n",
        "import numpy as np\n",
        "from sklearn.model_selection import train_test_split\n",
        "from sklearn.neighbors import KNeighborsRegressor\n",
        "# from sklearn.datasets import load_boston\n",
        "from sklearn.preprocessing import StandardScaler\n",
        "from sklearn.metrics import mean_squared_error\n",
        "\n",
        "# Load the California housing dataset instead of the Boston dataset\n",
        "# !pip install -U scikit-learn\n",
        "from sklearn.datasets import fetch_california_housing # Importing fetch_california_housing\n",
        "\n",
        "# Fetch the California housing dataset\n",
        "housing = fetch_california_housing()\n",
        "X = housing.data  # Features\n",
        "y = housing.target  # Target values (housing prices)\n",
        "\n",
        "# Split the dataset into training and testing sets\n",
        "X_train, X_test, y_train, y_test = train_test_split(X, y, test_size=0.3, random_state=42)\n",
        "\n",
        "# Standardize the features (important for KNN)\n",
        "scaler = StandardScaler()\n",
        "X_train = scaler.fit_transform(X_train)\n",
        "X_test = scaler.transform(X_test)\n",
        "\n",
        "# Initialize the KNN regressor\n",
        "k = 5  # You can experiment with different values of k\n",
        "knn_regressor = KNeighborsRegressor(n_neighbors=k)\n",
        "\n",
        "# Train the model\n",
        "knn_regressor.fit(X_train, y_train)\n",
        "\n",
        "# Make predictions\n",
        "y_pred = knn_regressor.predict(X_test)\n",
        "\n",
        "# Calculate the Mean Squared Error (MSE)\n",
        "mse = mean_squared_error(y_test, y_pred)\n",
        "\n",
        "# Display the results\n",
        "print(f\"Mean Squared Error of KNN regressor: {mse:.2f}\")\n",
        "\n",
        "# Optionally, print the predicted vs actual values\n",
        "df = pd.DataFrame({\n",
        "    'Predicted': y_pred,\n",
        "    'Actual': y_test\n",
        "})\n",
        "print(df.head())\n"
      ],
      "metadata": {
        "colab": {
          "base_uri": "https://localhost:8080/"
        },
        "id": "1SpzVy2BGz7C",
        "outputId": "08978e1c-1123-4c12-a23c-509262479843"
      },
      "execution_count": 6,
      "outputs": [
        {
          "output_type": "stream",
          "name": "stdout",
          "text": [
            "Mean Squared Error of KNN regressor: 0.43\n",
            "   Predicted   Actual\n",
            "0   0.498800  0.47700\n",
            "1   0.764600  0.45800\n",
            "2   4.750006  5.00001\n",
            "3   2.807800  2.18600\n",
            "4   2.726200  2.78000\n"
          ]
        }
      ]
    },
    {
      "cell_type": "code",
      "source": [
        "\"\"\"\n",
        "Q5. Write a Python code snippet to implement the KNN classifier algorithm with weighted voting on\n",
        "load_iris dataset in sklearn.datasets.\n",
        "\"\"\"\n",
        "# Import necessary libraries\n",
        "import numpy as np\n",
        "from sklearn.datasets import load_iris\n",
        "from sklearn.model_selection import train_test_split\n",
        "from sklearn.neighbors import KNeighborsClassifier\n",
        "from sklearn.metrics import accuracy_score\n",
        "\n",
        "# Load the Iris dataset\n",
        "iris = load_iris()\n",
        "X = iris.data  # Features\n",
        "y = iris.target  # Target labels\n",
        "\n",
        "# Split the dataset into training and testing sets\n",
        "X_train, X_test, y_train, y_test = train_test_split(X, y, test_size=0.3, random_state=42)\n",
        "\n",
        "# Initialize the KNN classifier with weighted voting\n",
        "k = 5  # You can experiment with different values of k\n",
        "knn = KNeighborsClassifier(n_neighbors=k, weights='distance')  # 'distance' enables weighted voting\n",
        "\n",
        "# Train the model\n",
        "knn.fit(X_train, y_train)\n",
        "\n",
        "# Make predictions\n",
        "y_pred = knn.predict(X_test)\n",
        "\n",
        "# Calculate the accuracy of the model\n",
        "accuracy = accuracy_score(y_test, y_pred)\n",
        "\n",
        "# Display the accuracy\n",
        "print(f\"Accuracy of KNN classifier with weighted voting: {accuracy * 100:.2f}%\")\n",
        "\n",
        "# Optionally, print the predicted vs actual labels\n",
        "df = pd.DataFrame({\n",
        "    'Predicted': y_pred,\n",
        "    'Actual': y_test\n",
        "})\n",
        "print(df.head())\n"
      ],
      "metadata": {
        "colab": {
          "base_uri": "https://localhost:8080/"
        },
        "id": "GanHsZhKHCUn",
        "outputId": "464f02f3-40cd-48a5-c28e-729a24c7503c"
      },
      "execution_count": 8,
      "outputs": [
        {
          "output_type": "stream",
          "name": "stdout",
          "text": [
            "Accuracy of KNN classifier with weighted voting: 100.00%\n",
            "   Predicted  Actual\n",
            "0          1       1\n",
            "1          0       0\n",
            "2          2       2\n",
            "3          1       1\n",
            "4          1       1\n"
          ]
        }
      ]
    },
    {
      "cell_type": "code",
      "source": [
        "# Q6. Implement a function to standardise the features before applying KNN classifier.\n",
        "# Import necessary libraries\n",
        "from sklearn.preprocessing import StandardScaler\n",
        "from sklearn.neighbors import KNeighborsClassifier\n",
        "from sklearn.datasets import load_iris\n",
        "from sklearn.model_selection import train_test_split\n",
        "from sklearn.metrics import accuracy_score\n",
        "\n",
        "def knn_with_standardization(X, y, k=5):\n",
        "    \"\"\"\n",
        "    This function standardizes the features and then applies the KNN classifier.\n",
        "\n",
        "    Parameters:\n",
        "    - X: Features (numpy array or pandas DataFrame)\n",
        "    - y: Target labels (numpy array or pandas Series)\n",
        "    - k: The number of neighbors for KNN (default is 5)\n",
        "\n",
        "    Returns:\n",
        "    - accuracy: The accuracy of the KNN classifier on the test set\n",
        "    \"\"\"\n",
        "    # Standardize the features\n",
        "    scaler = StandardScaler()\n",
        "    X_standardized = scaler.fit_transform(X)\n",
        "\n",
        "    # Split the dataset into training and testing sets\n",
        "    X_train, X_test, y_train, y_test = train_test_split(X_standardized, y, test_size=0.3, random_state=42)\n",
        "\n",
        "    # Initialize the KNN classifier\n",
        "    knn = KNeighborsClassifier(n_neighbors=k)\n",
        "\n",
        "    # Train the model\n",
        "    knn.fit(X_train, y_train)\n",
        "\n",
        "    # Make predictions\n",
        "    y_pred = knn.predict(X_test)\n",
        "\n",
        "    # Calculate the accuracy of the model\n",
        "    accuracy = accuracy_score(y_test, y_pred)\n",
        "\n",
        "    return accuracy\n",
        "\n",
        "# Load the Iris dataset\n",
        "iris = load_iris()\n",
        "X = iris.data  # Features\n",
        "y = iris.target  # Target labels\n",
        "\n",
        "# Apply KNN classifier with feature standardization\n",
        "accuracy = knn_with_standardization(X, y, k=5)\n",
        "\n",
        "# Print the accuracy\n",
        "print(f\"Accuracy of KNN classifier with standardized features: {accuracy * 100:.2f}%\")\n"
      ],
      "metadata": {
        "colab": {
          "base_uri": "https://localhost:8080/"
        },
        "id": "6BPAsd7mHraX",
        "outputId": "89becbfd-84ce-4d13-8f3c-1cfe30efe32c"
      },
      "execution_count": 9,
      "outputs": [
        {
          "output_type": "stream",
          "name": "stdout",
          "text": [
            "Accuracy of KNN classifier with standardized features: 100.00%\n"
          ]
        }
      ]
    },
    {
      "cell_type": "code",
      "source": [
        "# Q6. Implement a function to standardise the features before applying KNN classifier.\n",
        "# Import necessary libraries\n",
        "from sklearn.preprocessing import StandardScaler\n",
        "from sklearn.neighbors import KNeighborsClassifier\n",
        "from sklearn.datasets import load_iris\n",
        "from sklearn.model_selection import train_test_split\n",
        "from sklearn.metrics import accuracy_score\n",
        "\n",
        "def knn_with_standardization(X, y, k=5):\n",
        "    \"\"\"\n",
        "    This function standardizes the features and then applies the KNN classifier.\n",
        "\n",
        "    Parameters:\n",
        "    - X: Features (numpy array or pandas DataFrame)\n",
        "    - y: Target labels (numpy array or pandas Series)\n",
        "    - k: The number of neighbors for KNN (default is 5)\n",
        "\n",
        "    Returns:\n",
        "    - accuracy: The accuracy of the KNN classifier on the test set\n",
        "    \"\"\"\n",
        "    # Standardize the features\n",
        "    scaler = StandardScaler()\n",
        "    X_standardized = scaler.fit_transform(X)\n",
        "\n",
        "    # Split the dataset into training and testing sets\n",
        "    X_train, X_test, y_train, y_test = train_test_split(X_standardized, y, test_size=0.3, random_state=42)\n",
        "\n",
        "    # Initialize the KNN classifier\n",
        "    knn = KNeighborsClassifier(n_neighbors=k)\n",
        "\n",
        "    # Train the model\n",
        "    knn.fit(X_train, y_train)\n",
        "\n",
        "    # Make predictions\n",
        "    y_pred = knn.predict(X_test)\n",
        "\n",
        "    # Calculate the accuracy of the model\n",
        "    accuracy = accuracy_score(y_test, y_pred)\n",
        "\n",
        "    return accuracy\n",
        "\n",
        "# Load the Iris dataset\n",
        "iris = load_iris()\n",
        "X = iris.data  # Features\n",
        "y = iris.target  # Target labels\n",
        "\n",
        "# Apply KNN classifier with feature standardization\n",
        "accuracy = knn_with_standardization(X, y, k=5)\n",
        "\n",
        "# Print the accuracy\n",
        "print(f\"Accuracy of KNN classifier with standardized features: {accuracy * 100:.2f}%\")\n"
      ],
      "metadata": {
        "colab": {
          "base_uri": "https://localhost:8080/"
        },
        "id": "IrxGizBjIAKy",
        "outputId": "48090845-dde5-43ba-c7ab-ed0c9976cf13"
      },
      "execution_count": 10,
      "outputs": [
        {
          "output_type": "stream",
          "name": "stdout",
          "text": [
            "Accuracy of KNN classifier with standardized features: 100.00%\n"
          ]
        }
      ]
    },
    {
      "cell_type": "code",
      "source": [
        "# Q7. Write a Python function to calculate the euclidean distance between two points.\n",
        "import numpy as np\n",
        "\n",
        "def euclidean_distance(point1, point2):\n",
        "    \"\"\"\n",
        "    Calculate the Euclidean distance between two points.\n",
        "\n",
        "    Parameters:\n",
        "    - point1: A list or numpy array representing the first point (x1, y1, ..., zn)\n",
        "    - point2: A list or numpy array representing the second point (x2, y2, ..., zn)\n",
        "\n",
        "    Returns:\n",
        "    - distance: The Euclidean distance between point1 and point2\n",
        "    \"\"\"\n",
        "    # Convert the points into numpy arrays for easier manipulation\n",
        "    point1 = np.array(point1)\n",
        "    point2 = np.array(point2)\n",
        "\n",
        "    # Calculate the Euclidean distance\n",
        "    distance = np.sqrt(np.sum((point1 - point2) ** 2))\n",
        "\n",
        "    return distance\n",
        "\n",
        "# Example usage\n",
        "point1 = [1, 2, 3]\n",
        "point2 = [4, 5, 6]\n",
        "\n",
        "distance = euclidean_distance(point1, point2)\n",
        "print(f\"Euclidean distance between {point1} and {point2} is: {distance:.2f}\")\n"
      ],
      "metadata": {
        "colab": {
          "base_uri": "https://localhost:8080/"
        },
        "id": "dhCKtp6hIgRf",
        "outputId": "a23491b8-acd3-4b5e-fc72-5b452c1b3305"
      },
      "execution_count": 12,
      "outputs": [
        {
          "output_type": "stream",
          "name": "stdout",
          "text": [
            "Euclidean distance between [1, 2, 3] and [4, 5, 6] is: 5.20\n"
          ]
        }
      ]
    },
    {
      "cell_type": "code",
      "source": [
        "# Q8. Write a Python function to calculate the manhattan distance between two points.\n",
        "import numpy as np\n",
        "\n",
        "def manhattan_distance(point1, point2):\n",
        "    \"\"\"\n",
        "    This function calculates the Manhattan distance between two points.\n",
        "\n",
        "    Parameters:\n",
        "    - point1: First point (numpy array or list)\n",
        "    - point2: Second point (numpy array or list)\n",
        "\n",
        "    Returns:\n",
        "    - Manhattan distance between point1 and point2\n",
        "    \"\"\"\n",
        "    # Convert points to numpy arrays to support element-wise operations\n",
        "    point1 = np.array(point1)\n",
        "    point2 = np.array(point2)\n",
        "\n",
        "    # Calculate the Manhattan distance\n",
        "    distance = np.sum(np.abs(point1 - point2))\n",
        "\n",
        "    return distance\n",
        "\n",
        "# Example usage\n",
        "point1 = [1, 2, 3]\n",
        "point2 = [4, 5, 6]\n",
        "\n",
        "distance = manhattan_distance(point1, point2)\n",
        "print(f\"Manhattan distance between {point1} and {point2}: {distance}\")\n"
      ],
      "metadata": {
        "colab": {
          "base_uri": "https://localhost:8080/"
        },
        "id": "gBXQGaQbIi-b",
        "outputId": "04271f8d-70dd-4847-ac23-40453d3d2b55"
      },
      "execution_count": 13,
      "outputs": [
        {
          "output_type": "stream",
          "name": "stdout",
          "text": [
            "Manhattan distance between [1, 2, 3] and [4, 5, 6]: 9\n"
          ]
        }
      ]
    },
    {
      "cell_type": "code",
      "source": [],
      "metadata": {
        "id": "JdX9TLkAI6LJ"
      },
      "execution_count": null,
      "outputs": []
    }
  ]
}