{
  "nbformat": 4,
  "nbformat_minor": 0,
  "metadata": {
    "colab": {
      "provenance": []
    },
    "kernelspec": {
      "name": "python3",
      "display_name": "Python 3"
    },
    "language_info": {
      "name": "python"
    }
  },
  "cells": [
    {
      "cell_type": "code",
      "execution_count": 2,
      "metadata": {
        "id": "ZQDQ-X_0hirh",
        "colab": {
          "base_uri": "https://localhost:8080/"
        },
        "outputId": "bc8836cb-810a-4a11-e191-836e7674c510"
      },
      "outputs": [
        {
          "output_type": "stream",
          "name": "stdout",
          "text": [
            "Enter your marks %: 45\n",
            "your grade is 'D'\n"
          ]
        }
      ],
      "source": [
        "# Q1).\n",
        "percent = int(input(\"Enter your marks %: \"))\n",
        "if percent >  90:\n",
        "  print(\"your grade is 'A'\")\n",
        "elif percent > 80 and percent <= 90:\n",
        "  print(\"your grade is 'B'\")\n",
        "elif percent >= 60 and percent <= 80:\n",
        "  print(\"your grade is 'C'\")\n",
        "else:\n",
        "  print(\"your grade is 'D'\")"
      ]
    },
    {
      "cell_type": "code",
      "source": [
        "# Q2).\n",
        "cost_bike = int(input(\"Enter the cost of bike: \"))\n",
        "if cost_bike > 100000:\n",
        "  print(\"Road tax to be paid is 15%\")\n",
        "elif cost_bike > 50000 and cost_bike <= 100000:\n",
        "  print(\"Road tax to be paid is 10%\")\n",
        "else:\n",
        "  print(\"Road tax to be paid is 5%\")"
      ],
      "metadata": {
        "colab": {
          "base_uri": "https://localhost:8080/"
        },
        "id": "Q7OLkbopjCWx",
        "outputId": "6b16b9dc-9b20-432d-b883-a283958dd2a5"
      },
      "execution_count": 3,
      "outputs": [
        {
          "output_type": "stream",
          "name": "stdout",
          "text": [
            "Enter the cost of bike: 120000\n",
            "Road tax to be paid is 15%\n"
          ]
        }
      ]
    },
    {
      "cell_type": "code",
      "source": [
        "# Q3).\n",
        "city = input('Enter your city name from \"Delhi\", \"Agra\", \"Jaipur\": ')\n",
        "if city.lower() == \"delhi\":\n",
        "  print(\"Monument: Red Fort\")\n",
        "elif city.lower() == \"agra\":\n",
        "  print(\"Monument: Taj Mahal\")\n",
        "elif city.lower() == \"jaipur\":\n",
        "  print(\"Monument: Jal Mahal\")"
      ],
      "metadata": {
        "colab": {
          "base_uri": "https://localhost:8080/"
        },
        "id": "eFcAY4Hyorf6",
        "outputId": "533871e8-72bb-4b52-c0c3-088a9f0c1404"
      },
      "execution_count": 10,
      "outputs": [
        {
          "output_type": "stream",
          "name": "stdout",
          "text": [
            "Enter your city name from \"Delhi\", \"Agra\", \"Jaipur\": jaipur\n",
            "Monument: Jal Mahal\n"
          ]
        }
      ]
    },
    {
      "cell_type": "code",
      "source": [
        "# Q4).\n",
        "num = int(input(\"Enter a number: \"))\n",
        "count = 0\n",
        "while num > 10:\n",
        "  num //= 3    # Integer division by 3\n",
        "  count += 1\n",
        "print(count)"
      ],
      "metadata": {
        "colab": {
          "base_uri": "https://localhost:8080/"
        },
        "id": "NXcC08C3qo63",
        "outputId": "4ee3ea73-1cb9-4d46-d22a-ae4189e74ffd"
      },
      "execution_count": 27,
      "outputs": [
        {
          "output_type": "stream",
          "name": "stdout",
          "text": [
            "Enter a number: 100\n",
            "3\n"
          ]
        }
      ]
    },
    {
      "cell_type": "code",
      "source": [
        "# Q5).\n",
        "\"\"\"\n",
        "A while loop in Python is used to execute a block of code repeatedly as long as a given condition is True.\n",
        "It is useful when the number of iterations is not known and for continous or conditional execution\n",
        "count = 1\n",
        "while count <= 5:\n",
        "    print(count)\n",
        "    count += 1\n",
        "\"\"\"\n"
      ],
      "metadata": {
        "colab": {
          "base_uri": "https://localhost:8080/"
        },
        "id": "iAbPuCNJtYdL",
        "outputId": "cbeca886-f3a3-4e29-f99c-b40cdf626bfa"
      },
      "execution_count": 18,
      "outputs": [
        {
          "output_type": "execute_result",
          "data": {
            "text/plain": [
              "0"
            ]
          },
          "metadata": {},
          "execution_count": 18
        }
      ]
    },
    {
      "cell_type": "code",
      "source": [
        "# Q6).\n",
        "rows = 5\n",
        "i = 1\n",
        "while i <= rows:\n",
        "    j = 1\n",
        "    while j <= i:\n",
        "        print(\"*\", end=\" \")\n",
        "        j += 1\n",
        "    print()\n",
        "    i += 1\n",
        "\n",
        "rows = 5\n",
        "i = rows\n",
        "while i >= 1:\n",
        "    j = 1\n",
        "    while j <= i:\n",
        "        print(\"*\", end=\" \")\n",
        "        j += 1\n",
        "    print()\n",
        "    i -= 1\n",
        "\n",
        "rows = 5\n",
        "i = 1\n",
        "while i <= rows:\n",
        "    space = rows - i\n",
        "    while space > 0:\n",
        "        print(\" \", end=\" \")\n",
        "        space -= 1\n",
        "    j = 1\n",
        "    while j <= i:\n",
        "        print(\"*\", end=\" \")\n",
        "        j += 1\n",
        "    print()\n",
        "    i += 1\n"
      ],
      "metadata": {
        "colab": {
          "base_uri": "https://localhost:8080/"
        },
        "id": "xJ7zrVrrvzt8",
        "outputId": "3fc115d5-73e1-4465-b0aa-2c2ddb263a1b"
      },
      "execution_count": 30,
      "outputs": [
        {
          "output_type": "stream",
          "name": "stdout",
          "text": [
            "* \n",
            "* * \n",
            "* * * \n",
            "* * * * \n",
            "* * * * * \n",
            "* * * * * \n",
            "* * * * \n",
            "* * * \n",
            "* * \n",
            "* \n",
            "\n",
            "\n",
            "        * \n",
            "      * * \n",
            "    * * * \n",
            "  * * * * \n",
            "* * * * * \n"
          ]
        }
      ]
    },
    {
      "cell_type": "code",
      "source": [
        "# Q7).\n",
        "num = 10\n",
        "while num>=1 :\n",
        "  print(num, end = ' ')\n",
        "  num -= 1"
      ],
      "metadata": {
        "colab": {
          "base_uri": "https://localhost:8080/"
        },
        "id": "3pmauF6WM8Ic",
        "outputId": "bb5ea5bf-54bf-4226-bbcc-fcedf1d76d17"
      },
      "execution_count": 1,
      "outputs": [
        {
          "output_type": "stream",
          "name": "stdout",
          "text": [
            "10 9 8 7 6 5 4 3 2 1 "
          ]
        }
      ]
    },
    {
      "cell_type": "code",
      "source": [
        "# Q8).\n",
        "num = 10\n",
        "while num>=1 :\n",
        "  print(num, end = ' ')\n",
        "  num -= 1"
      ],
      "metadata": {
        "colab": {
          "base_uri": "https://localhost:8080/"
        },
        "id": "rzjxIN7lNsB7",
        "outputId": "27e5f5b2-4808-42b7-e94e-15e1e656f8f5"
      },
      "execution_count": 2,
      "outputs": [
        {
          "output_type": "stream",
          "name": "stdout",
          "text": [
            "10 9 8 7 6 5 4 3 2 1 "
          ]
        }
      ]
    },
    {
      "cell_type": "code",
      "source": [],
      "metadata": {
        "id": "LXGxXapAC105"
      },
      "execution_count": null,
      "outputs": []
    }
  ]
}