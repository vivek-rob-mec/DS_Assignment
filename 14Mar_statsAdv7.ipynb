{
  "nbformat": 4,
  "nbformat_minor": 0,
  "metadata": {
    "colab": {
      "provenance": []
    },
    "kernelspec": {
      "name": "python3",
      "display_name": "Python 3"
    },
    "language_info": {
      "name": "python"
    }
  },
  "cells": [
    {
      "cell_type": "code",
      "execution_count": 1,
      "metadata": {
        "colab": {
          "base_uri": "https://localhost:8080/"
        },
        "id": "KvYfwVeXjqHm",
        "outputId": "e65a7c1e-e13d-4610-de23-e932dabccb89"
      },
      "outputs": [
        {
          "output_type": "stream",
          "name": "stdout",
          "text": [
            "F-value: 1.6000, p-value: 0.6186\n"
          ]
        }
      ],
      "source": [
        "# Q1. Write a Python function that takes in two arrays of data and calculates the F-value for a variance ratio\n",
        "# test. The function should return the F-value and the corresponding p-value for the test.\n",
        "from scipy.stats import f\n",
        "import numpy as np\n",
        "\n",
        "def variance_ratio_test(data1, data2):\n",
        "    # Calculate sample variances\n",
        "    var1 = np.var(data1, ddof=1)\n",
        "    var2 = np.var(data2, ddof=1)\n",
        "\n",
        "    # Determine the larger and smaller variance\n",
        "    if var1 > var2:\n",
        "        F = var1 / var2\n",
        "        dfn = len(data1) - 1  # degrees of freedom numerator\n",
        "        dfd = len(data2) - 1  # degrees of freedom denominator\n",
        "    else:\n",
        "        F = var2 / var1\n",
        "        dfn = len(data2) - 1\n",
        "        dfd = len(data1) - 1\n",
        "\n",
        "    # Calculate the p-value\n",
        "    p_value = 2 * min(f.cdf(F, dfn, dfd), 1 - f.cdf(F, dfn, dfd))  # two-tailed\n",
        "\n",
        "    return F, p_value\n",
        "sample1 = [12, 15, 14, 10, 13, 14]\n",
        "sample2 = [9, 8, 11, 9, 10, 7]\n",
        "\n",
        "f_val, p_val = variance_ratio_test(sample1, sample2)\n",
        "print(f\"F-value: {f_val:.4f}, p-value: {p_val:.4f}\")\n"
      ]
    },
    {
      "cell_type": "code",
      "source": [
        "# Q2. Given a significance level of 0.05 and the degrees of freedom for the numerator and denominator of an\n",
        "# F-distribution, write a Python function that returns the critical F-value for a two-tailed test.\n",
        "def critical_f_value(alpha, dfn, dfd):\n",
        "    f_ciritcal_right = f.ppf(1 - alpha /2, dfn, dfd)\n",
        "    f_ciritcal_left = f.ppf(alpha/2, dfn, dfd)\n",
        "    return (f_ciritcal_left,f_ciritcal_right)\n",
        "\n",
        "alpha = 0.05\n",
        "dfn = 3\n",
        "dfd = 10\n",
        "\n",
        "critical_left, critical_right = critical_f_value(alpha, dfn, dfd)\n",
        "print(f\"Critcal F-value left: {critical_right}, F-value right: {critical_left}\")"
      ],
      "metadata": {
        "colab": {
          "base_uri": "https://localhost:8080/"
        },
        "id": "OwnmJUEG4U3h",
        "outputId": "79fed7fc-6ab6-4f8b-a8fd-d79fe293f600"
      },
      "execution_count": 6,
      "outputs": [
        {
          "output_type": "stream",
          "name": "stdout",
          "text": [
            "Critcal F-value left: 4.825621493405406, F-value right: 0.06935321586551411\n"
          ]
        }
      ]
    },
    {
      "cell_type": "code",
      "source": [
        "# Q3. Write a Python program that generates random samples from two normal distributions with known\n",
        "# variances and uses an F-test to determine if the variances are equal. The program should output the F-\n",
        "# value, degrees of freedom, and p-value for the test.\n",
        "\"\"\"\n",
        "Generates random samples from two normal distributions (with known variances).\n",
        "\n",
        "Performs an F-test to determine if their variances are significantly different.\n",
        "\n",
        "Outputs the F-value, degrees of freedom, and p-value.\n",
        "\"\"\"\n",
        "import numpy as np\n",
        "from scipy.stats import f\n",
        "\n",
        "def f_test(sample1, sample2):\n",
        "    # Calculate sample variances\n",
        "    var1 = np.var(sample1, ddof=1)\n",
        "    var2 = np.var(sample2, ddof=1)\n",
        "\n",
        "    # Determine which variance is larger (F = larger / smaller)\n",
        "    if var1 > var2:\n",
        "        F = var1 / var2\n",
        "        dfn = len(sample1) - 1\n",
        "        dfd = len(sample2) - 1\n",
        "    else:\n",
        "        F = var2 / var1\n",
        "        dfn = len(sample2) - 1\n",
        "        dfd = len(sample1) - 1\n",
        "\n",
        "    # Compute the p-value (two-tailed)\n",
        "    p_value = 2 * min(f.cdf(F, dfn, dfd), 1 - f.cdf(F, dfn, dfd))\n",
        "\n",
        "    return F, dfn, dfd, p_value\n",
        "\n",
        "# Generate random samples\n",
        "np.random.seed(42)  # for reproducibility\n",
        "sample1 = np.random.normal(loc=10, scale=2, size=30)  # variance = 4\n",
        "sample2 = np.random.normal(loc=10, scale=3, size=30)  # variance = 9\n",
        "\n",
        "# Run F-test\n",
        "F, dfn, dfd, p_value = f_test(sample1, sample2)\n",
        "\n",
        "# Display results\n",
        "print(f\"F-value: {F:.4f}\")\n",
        "print(f\"Degrees of freedom: ({dfn}, {dfd})\")\n",
        "print(f\"P-value: {p_value:.4f}\")\n"
      ],
      "metadata": {
        "colab": {
          "base_uri": "https://localhost:8080/"
        },
        "id": "uQWHzrsr5MdN",
        "outputId": "c5c16917-bbcc-4793-a7db-cb2f0c961e25"
      },
      "execution_count": 7,
      "outputs": [
        {
          "output_type": "stream",
          "name": "stdout",
          "text": [
            "F-value: 2.4082\n",
            "Degrees of freedom: (29, 29)\n",
            "P-value: 0.0209\n"
          ]
        }
      ]
    },
    {
      "cell_type": "markdown",
      "source": [
        "### Q4.The variances of two populations are known to be 10 and 15. A sample of 12 observations is taken from each population. Conduct an F-test at the 5% significance level to determine if the variances are significantly different.\n",
        "Ans: \\\n",
        "To conduct an **F-test** for comparing two known population variances, we use:\n",
        "\n",
        "### **F-statistic formula**:\n",
        "$$\n",
        "[\n",
        "F = \\frac{s_1^2}{s_2^2}\n",
        "]\n",
        "$$\n",
        "Where:\n",
        "- $( s_1^2 ) and ( s_2^2 )$ are the sample variances (we usually place the **larger** variance in the numerator),\n",
        "- Degrees of freedom are $( df_1 = n_1 - 1 ), ( df_2 = n_2 - 1 )$\n",
        "\n",
        "---\n",
        "\n",
        "###  Given:\n",
        "- Population variances: $( \\sigma_1^2 = 10 ), ( \\sigma_2^2 = 15 )$\n",
        "- Sample sizes: $( n_1 = n_2 = 12 )$\n",
        "- Significance level: $( \\alpha = 0.05 )$\n",
        "\n",
        "\n",
        "---\n",
        "\n",
        "### Interpretation:\n",
        "\n",
        "- If **F** lies outside the critical region, we reject the null hypothesis and conclude the variances are significantly different.\n",
        "- Otherwise, we fail to reject the null."
      ],
      "metadata": {
        "id": "0N0STmBZ7U6I"
      }
    },
    {
      "cell_type": "code",
      "source": [
        "# Q4.The variances of two populations are known to be 10 and 15. A sample of 12 observations is taken from\n",
        "# each population. Conduct an F-test at the 5% significance level to determine if the variances are\n",
        "# significantly different.\n",
        "from scipy.stats import f\n",
        "\n",
        "# Given variances and sample sizes\n",
        "var1 = 10\n",
        "var2 = 15\n",
        "n1 = n2 = 12\n",
        "\n",
        "# Always place the larger variance in the numerator\n",
        "F = max(var1, var2) / min(var1, var2)\n",
        "dfn = dfd = n1 - 1  # degrees of freedom\n",
        "\n",
        "# Two-tailed test critical values\n",
        "alpha = 0.05\n",
        "f_critical_low = f.ppf(alpha / 2, dfn, dfd)\n",
        "f_critical_high = f.ppf(1 - alpha / 2, dfn, dfd)\n",
        "\n",
        "# Check if F is outside the critical region\n",
        "result = \"Reject null hypothesis (variances are significantly different)\" if F < f_critical_low or F > f_critical_high else \"Fail to reject null hypothesis (variances are not significantly different)\"\n",
        "\n",
        "# Display results\n",
        "print(f\"F-value: {F:.4f}\")\n",
        "print(f\"Degrees of freedom: ({dfn}, {dfd})\")\n",
        "print(f\"Critical F-values: [{f_critical_low:.4f}, {f_critical_high:.4f}]\")\n",
        "print(f\"Conclusion: {result}\")\n"
      ],
      "metadata": {
        "colab": {
          "base_uri": "https://localhost:8080/"
        },
        "id": "EZc-DAg66v-y",
        "outputId": "367ffd9b-1bd0-4d91-82ba-3496b42bde65"
      },
      "execution_count": 8,
      "outputs": [
        {
          "output_type": "stream",
          "name": "stdout",
          "text": [
            "F-value: 1.5000\n",
            "Degrees of freedom: (11, 11)\n",
            "Critical F-values: [0.2879, 3.4737]\n",
            "Conclusion: Fail to reject null hypothesis (variances are not significantly different)\n"
          ]
        }
      ]
    },
    {
      "cell_type": "markdown",
      "source": [
        "### Q5. A manufacturer claims that the variance of the diameter of a certain product is 0.005. A sample of 25 products is taken, and the sample variance is found to be 0.006. Conduct an F-test at the 1% significance level to determine if the claim is justified.\n",
        "Ans: \\\n",
        "\n",
        "To test the manufacturer’s claim about the **variance**, we can use a **Chi-Square test** (not F-test) because we are comparing a **sample variance to a known population variance**.\n",
        "\n",
        "---\n",
        "\n",
        "### **Chi-Square Test for Variance**\n",
        "\n",
        "We use the formula:\n",
        "$$\n",
        "[\n",
        "\\chi^2 = \\frac{(n - 1) \\cdot s^2}{\\sigma^2}\n",
        "]\n",
        "$$\n",
        "\n",
        "Where:\n",
        "- $( n )$ = sample size = 25  \n",
        "- $( s^2 )$ = sample variance = 0.006  \n",
        "- $( \\sigma^2 )$ = claimed population variance = 0.005  \n",
        "- Degrees of freedom = $( n - 1 = 24 )$\n",
        "\n",
        "###  Interpretation:\n",
        "- If the chi-square value falls **outside** the critical region, we **reject** the null hypothesis.\n",
        "- Otherwise, we **fail to reject** the claim, meaning the sample supports the manufacturer’s claim."
      ],
      "metadata": {
        "id": "fNHElS9UFoXM"
      }
    },
    {
      "cell_type": "code",
      "source": [
        "from scipy.stats import chi2\n",
        "\n",
        "# Given values\n",
        "n = 25\n",
        "sample_variance = 0.006\n",
        "claimed_variance = 0.005\n",
        "df = n - 1\n",
        "alpha = 0.01\n",
        "\n",
        "# Chi-square statistic\n",
        "chi2_stat = (df * sample_variance) / claimed_variance\n",
        "\n",
        "# Critical values for two-tailed test\n",
        "chi2_critical_low = chi2.ppf(alpha / 2, df)\n",
        "chi2_critical_high = chi2.ppf(1 - alpha / 2, df)\n",
        "\n",
        "# Conclusion\n",
        "if chi2_stat < chi2_critical_low or chi2_stat > chi2_critical_high:\n",
        "    result = \"Reject the null hypothesis — variance is significantly different.\"\n",
        "else:\n",
        "    result = \"Fail to reject the null hypothesis — no significant difference in variance.\"\n",
        "\n",
        "# Output\n",
        "print(f\"Chi-square Statistic: {chi2_stat:.4f}\")\n",
        "print(f\"Critical Values: [{chi2_critical_low:.4f}, {chi2_critical_high:.4f}]\")\n",
        "print(f\"Conclusion: {result}\")\n"
      ],
      "metadata": {
        "colab": {
          "base_uri": "https://localhost:8080/"
        },
        "id": "fm_e5b4N8ooY",
        "outputId": "901a8dfc-c675-4a62-d51c-139f8cc929a2"
      },
      "execution_count": 9,
      "outputs": [
        {
          "output_type": "stream",
          "name": "stdout",
          "text": [
            "Chi-square Statistic: 28.8000\n",
            "Critical Values: [9.8862, 45.5585]\n",
            "Conclusion: Fail to reject the null hypothesis — no significant difference in variance.\n"
          ]
        }
      ]
    },
    {
      "cell_type": "markdown",
      "source": [
        "### Q6. Write a Python function that takes in the degrees of freedom for the numerator and denominator of an F-distribution and calculates the mean and variance of the distribution. The function should return themean and variance as a tuple.\n",
        "Ans: \\\n",
        "\n",
        "a simple Python function that calculates the **mean** and **variance** of an F-distribution, given the degrees of freedom for the numerator $((d_1))$ and denominator $((d_2))$:\n",
        "\n",
        "---\n",
        "\n",
        "### **F-distribution Mean & Variance Formula**\n",
        "\n",
        "- **Mean**:  \n",
        "  $$\n",
        "  [\n",
        "  \\mu = \\frac{d_2}{d_2 - 2}, \\quad \\text{for } d_2 > 2\n",
        "  ]\n",
        "  $$\n",
        "\n",
        "- **Variance**:  \n",
        "  $$\n",
        "  [\n",
        "  \\sigma^2 = \\frac{2 \\cdot d_2^2 \\cdot (d_1 + d_2 - 2)}{d_1 \\cdot (d_2 - 2)^2 \\cdot (d_2 - 4)}, \\quad \\text{for } d_2 > 4\n",
        "  ]\n",
        "  $$"
      ],
      "metadata": {
        "id": "bmpyiDWFIr3W"
      }
    },
    {
      "cell_type": "code",
      "source": [
        "def f_distribution_stats(d1, d2):\n",
        "    if d2 <= 2:\n",
        "        mean = float('inf')  # Mean is undefined\n",
        "    else:\n",
        "        mean = d2 / (d2 - 2)\n",
        "\n",
        "    if d2 <= 4:\n",
        "        variance = float('inf')  # Variance is undefined\n",
        "    else:\n",
        "        numerator = 2 * d2**2 * (d1 + d2 - 2)\n",
        "        denominator = d1 * (d2 - 2)**2 * (d2 - 4)\n",
        "        variance = numerator / denominator\n",
        "\n",
        "    return mean, variance\n",
        "\n",
        "mean, var = f_distribution_stats(5, 10)\n",
        "print(f\"Mean: {mean:.4f}, Variance: {var:.4f}\")\n",
        "\n",
        "\"\"\"\n",
        "Returns ∞ if the mean or variance is undefined based on degrees of freedom.\n",
        "\n",
        "Works well for typical F-test scenarios.\n",
        "\"\"\""
      ],
      "metadata": {
        "colab": {
          "base_uri": "https://localhost:8080/",
          "height": 53
        },
        "id": "yo38eee1GNrE",
        "outputId": "b050145a-1a8c-4039-cbd6-8910c8a4aed8"
      },
      "execution_count": 12,
      "outputs": [
        {
          "output_type": "stream",
          "name": "stdout",
          "text": [
            "Mean: 1.2500, Variance: 1.3542\n"
          ]
        },
        {
          "output_type": "execute_result",
          "data": {
            "text/plain": [
              "'\\nReturns ∞ if the mean or variance is undefined based on degrees of freedom.\\n\\nWorks well for typical F-test scenarios.\\n'"
            ],
            "application/vnd.google.colaboratory.intrinsic+json": {
              "type": "string"
            }
          },
          "metadata": {},
          "execution_count": 12
        }
      ]
    },
    {
      "cell_type": "markdown",
      "source": [
        "### Q7. A random sample of 10 measurements is taken from a normal population with unknown variance. The sample variance is found to be 25. Another random sample of 15 measurements is taken from another normal population with unknown variance, and the sample variance is found to be 20. Conduct an F-test at the 10% significance level to determine if the variances are significantly different.\n",
        "Ans: \\\n",
        "To conduct an **F-test** for comparing two variances, we follow these steps:\n",
        "\n",
        "---\n",
        "\n",
        "###  **Given:**\n",
        "\n",
        "- Sample 1:\n",
        "  - $( n_1 = 10 ), ( s_1^2 = 25 )$\n",
        "- Sample 2:\n",
        "  - $( n_2 = 15 ), ( s_2^2 = 20 )$\n",
        "- Significance level: $( \\alpha = 0.10 )$\n",
        "\n",
        "---\n",
        "\n",
        "### **Step-by-step Calculation:**\n",
        "\n",
        "#### 1. **Calculate the F-statistic**:\n",
        "We always place the larger variance in the numerator:\n",
        "$$\n",
        "[\n",
        "F = \\frac{25}{20} = 1.25\n",
        "]\n",
        "$$\n",
        "#### 2. **Degrees of Freedom**:\n",
        "- $( df_1 = n_1 - 1 = 9 )$\n",
        "- $( df_2 = n_2 - 1 = 14 )$\n"
      ],
      "metadata": {
        "id": "rseFYvqiJqYD"
      }
    },
    {
      "cell_type": "code",
      "source": [
        "from scipy.stats import f\n",
        "\n",
        "# Sample data\n",
        "s1_sq = 25\n",
        "s2_sq = 20\n",
        "n1 = 10\n",
        "n2 = 15\n",
        "\n",
        "# F-statistic\n",
        "F = s1_sq / s2_sq\n",
        "df1 = n1 - 1\n",
        "df2 = n2 - 1\n",
        "\n",
        "# Two-tailed p-value\n",
        "p_value = 2 * min(f.cdf(F, df1, df2), 1 - f.cdf(F, df1, df2))\n",
        "\n",
        "# Critical values for 10% significance level (two-tailed)\n",
        "alpha = 0.10\n",
        "f_critical_low = f.ppf(alpha / 2, df1, df2)\n",
        "f_critical_high = f.ppf(1 - alpha / 2, df1, df2)\n",
        "\n",
        "# Print results\n",
        "print(f\"F-statistic: {F:.4f}\")\n",
        "print(f\"Degrees of freedom: df1 = {df1}, df2 = {df2}\")\n",
        "print(f\"Critical F-values: lower = {f_critical_low:.4f}, upper = {f_critical_high:.4f}\")\n",
        "print(f\"p-value: {p_value:.4f}\")\n",
        "\n",
        "# Decision\n",
        "if F < f_critical_low or F > f_critical_high:\n",
        "    print(\"Reject the null hypothesis: Variances are significantly different.\")\n",
        "else:\n",
        "    print(\"Fail to reject the null hypothesis: No significant difference in variances.\")\n"
      ],
      "metadata": {
        "colab": {
          "base_uri": "https://localhost:8080/"
        },
        "id": "0cuXCubAJ-Ab",
        "outputId": "893c256e-097f-457d-999b-c53d594d348d"
      },
      "execution_count": 13,
      "outputs": [
        {
          "output_type": "stream",
          "name": "stdout",
          "text": [
            "F-statistic: 1.2500\n",
            "Degrees of freedom: df1 = 9, df2 = 14\n",
            "Critical F-values: lower = 0.3305, upper = 2.6458\n",
            "p-value: 0.6832\n",
            "Fail to reject the null hypothesis: No significant difference in variances.\n"
          ]
        }
      ]
    },
    {
      "cell_type": "code",
      "source": [
        "# Q8. The following data represent the waiting times in minutes at two different restaurants on a Saturday\n",
        "# night: Restaurant A: 24, 25, 28, 23, 22, 20, 27; Restaurant B: 31, 33, 35, 30, 32, 36. Conduct an F-test at the 5%\n",
        "# significance level to determine if the variances are significantly different.\n",
        "import numpy as np\n",
        "from scipy.stats import f\n",
        "\n",
        "# Data\n",
        "restaurant_a = np.array([24, 25, 28, 23, 22, 20, 27])\n",
        "restaurant_b = np.array([31, 33, 35, 30, 32, 36])\n",
        "\n",
        "# Sample sizes\n",
        "n1 = len(restaurant_a)\n",
        "n2 = len(restaurant_b)\n",
        "\n",
        "# Sample variances\n",
        "s1_sq = np.var(restaurant_a, ddof=1)\n",
        "s2_sq = np.var(restaurant_b, ddof=1)\n",
        "\n",
        "# Choose larger variance for numerator\n",
        "if s1_sq > s2_sq:\n",
        "    F = s1_sq / s2_sq\n",
        "    df1, df2 = n1 - 1, n2 - 1\n",
        "else:\n",
        "    F = s2_sq / s1_sq\n",
        "    df1, df2 = n2 - 1, n1 - 1\n",
        "\n",
        "# Significance level\n",
        "alpha = 0.05\n",
        "\n",
        "# Critical F-values for two-tailed test\n",
        "f_critical_low = f.ppf(alpha / 2, df1, df2)\n",
        "f_critical_high = f.ppf(1 - alpha / 2, df1, df2)\n",
        "\n",
        "# p-value (two-tailed)\n",
        "p_value = 2 * min(f.cdf(F, df1, df2), 1 - f.cdf(F, df1, df2))\n",
        "\n",
        "# Output\n",
        "print(f\"Sample Variance A: {s1_sq:.4f}\")\n",
        "print(f\"Sample Variance B: {s2_sq:.4f}\")\n",
        "print(f\"F-statistic: {F:.4f}\")\n",
        "print(f\"Degrees of Freedom: df1 = {df1}, df2 = {df2}\")\n",
        "print(f\"Critical F-values: Lower = {f_critical_low:.4f}, Upper = {f_critical_high:.4f}\")\n",
        "print(f\"p-value: {p_value:.4f}\")\n",
        "\n",
        "# Decision\n",
        "if F < f_critical_low or F > f_critical_high:\n",
        "    print(\"Reject the null hypothesis: Variances are significantly different.\")\n",
        "else:\n",
        "    print(\"Fail to reject the null hypothesis: No significant difference in variances.\")\n",
        "\"\"\"\n",
        "If p<0.05: reject 𝐻0 (variances differ)\n",
        "else : fail to reject"
      ],
      "metadata": {
        "colab": {
          "base_uri": "https://localhost:8080/"
        },
        "id": "pJITAKjULGNp",
        "outputId": "f9d8e94a-3aeb-4803-f8a0-e377de3a573e"
      },
      "execution_count": 14,
      "outputs": [
        {
          "output_type": "stream",
          "name": "stdout",
          "text": [
            "Sample Variance A: 7.8095\n",
            "Sample Variance B: 5.3667\n",
            "F-statistic: 1.4552\n",
            "Degrees of Freedom: df1 = 6, df2 = 5\n",
            "Critical F-values: Lower = 0.1670, Upper = 6.9777\n",
            "p-value: 0.6975\n",
            "Fail to reject the null hypothesis: No significant difference in variances.\n"
          ]
        }
      ]
    },
    {
      "cell_type": "code",
      "source": [
        "# Q9. The following data represent the test scores of two groups of students: Group A: 80, 85, 90, 92, 87, 83;\n",
        "# Group B: 75, 78, 82, 79, 81, 84. Conduct an F-test at the 1% significance level to determine if the variances\n",
        "# are significantly different.\n",
        "import numpy as np\n",
        "from scipy.stats import f\n",
        "\n",
        "# Test scores\n",
        "group_a = np.array([80, 85, 90, 92, 87, 83])\n",
        "group_b = np.array([75, 78, 82, 79, 81, 84])\n",
        "\n",
        "# Sample sizes\n",
        "n1 = len(group_a)\n",
        "n2 = len(group_b)\n",
        "\n",
        "# Sample variances (unbiased)\n",
        "s1_sq = np.var(group_a, ddof=1)\n",
        "s2_sq = np.var(group_b, ddof=1)\n",
        "\n",
        "# Assign larger variance to numerator\n",
        "if s1_sq > s2_sq:\n",
        "    F = s1_sq / s2_sq\n",
        "    df1, df2 = n1 - 1, n2 - 1\n",
        "else:\n",
        "    F = s2_sq / s1_sq\n",
        "    df1, df2 = n2 - 1, n1 - 1\n",
        "\n",
        "# Significance level\n",
        "alpha = 0.01\n",
        "\n",
        "# Critical F-values for two-tailed test\n",
        "f_crit_low = f.ppf(alpha / 2, df1, df2)\n",
        "f_crit_high = f.ppf(1 - alpha / 2, df1, df2)\n",
        "\n",
        "# p-value (two-tailed)\n",
        "p_value = 2 * min(f.cdf(F, df1, df2), 1 - f.cdf(F, df1, df2))\n",
        "\n",
        "# Output results\n",
        "print(f\"Variance Group A: {s1_sq:.4f}\")\n",
        "print(f\"Variance Group B: {s2_sq:.4f}\")\n",
        "print(f\"F-statistic: {F:.4f}\")\n",
        "print(f\"Degrees of Freedom: df1 = {df1}, df2 = {df2}\")\n",
        "print(f\"Critical F-values: Lower = {f_crit_low:.4f}, Upper = {f_crit_high:.4f}\")\n",
        "print(f\"p-value: {p_value:.4f}\")\n",
        "\n",
        "# Decision\n",
        "if F < f_crit_low or F > f_crit_high:\n",
        "    print(\"Reject the null hypothesis: Variances are significantly different.\")\n",
        "else:\n",
        "    print(\"Fail to reject the null hypothesis: No significant difference in variances.\")\n",
        "\"\"\"\n",
        "Null hypo(h0): The variance are equal\n",
        "Alternate hypo(h1): The variance are not equal\n",
        "if p<0.01: reject 𝐻0 (variances differ)\n",
        "else : fail to reject\n",
        "\"\"\"\n"
      ],
      "metadata": {
        "colab": {
          "base_uri": "https://localhost:8080/",
          "height": 157
        },
        "id": "K3JWd0NJMMs7",
        "outputId": "10673000-0d0f-443b-f7c2-760c7d581e07"
      },
      "execution_count": 16,
      "outputs": [
        {
          "output_type": "stream",
          "name": "stdout",
          "text": [
            "Variance Group A: 19.7667\n",
            "Variance Group B: 10.1667\n",
            "F-statistic: 1.9443\n",
            "Degrees of Freedom: df1 = 5, df2 = 5\n",
            "Critical F-values: Lower = 0.0669, Upper = 14.9396\n",
            "p-value: 0.4831\n",
            "Fail to reject the null hypothesis: No significant difference in variances.\n"
          ]
        },
        {
          "output_type": "execute_result",
          "data": {
            "text/plain": [
              "'\\nNull hypo(h0): The variance are equal\\nAlternate hypo(h1): The variance are not equal\\nif p<0.01: reject 𝐻0 (variances differ)\\nelse : fail to reject\\n'"
            ],
            "application/vnd.google.colaboratory.intrinsic+json": {
              "type": "string"
            }
          },
          "metadata": {},
          "execution_count": 16
        }
      ]
    },
    {
      "cell_type": "code",
      "source": [],
      "metadata": {
        "id": "_bq6myEjNgsJ"
      },
      "execution_count": null,
      "outputs": []
    }
  ]
}