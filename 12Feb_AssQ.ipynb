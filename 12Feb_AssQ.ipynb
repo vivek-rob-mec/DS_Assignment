{
  "nbformat": 4,
  "nbformat_minor": 0,
  "metadata": {
    "colab": {
      "provenance": []
    },
    "kernelspec": {
      "name": "python3",
      "display_name": "Python 3"
    },
    "language_info": {
      "name": "python"
    }
  },
  "cells": [
    {
      "cell_type": "code",
      "execution_count": 1,
      "metadata": {
        "colab": {
          "base_uri": "https://localhost:8080/",
          "height": 122
        },
        "id": "p4npBHwAhPwx",
        "outputId": "10dc5952-4a5a-4c34-afd8-7defc90f434d"
      },
      "outputs": [
        {
          "output_type": "execute_result",
          "data": {
            "text/plain": [
              "'\\nAn unwanted and unexpected event that disturbs normal flow of program is called\\nexception.\\nEg:\\n1) ZeroDivisionError\\n2) TypeError\\n3) ValueError\\n4) FileNotFoundError\\n5) EOFError\\n6) SleepingError\\n7) TyrePuncturedError\\n8) The main objective of exception handling is Graceful Termination of the program (i.e we should not block our resources and weshould not miss anything)\\n9) Exception handling does not mean repairing exception. We have to define alternative way to continue rest of the program normally.\\nRuntime Errors:\\n1) Also known as exceptions.\\n2) While executing the program if something goes wrong because of end user input or\\n   programming logic or memory problems etc then we will get Runtime Errors.\\nSyntax Errors:\\nThe errors which occur because of invalid syntax are called syntax errors.\\nProgrammer is responsible to correct these syntax errors. Once all syntax errors are corrected then only program execution will be started.\\n'"
            ],
            "application/vnd.google.colaboratory.intrinsic+json": {
              "type": "string"
            }
          },
          "metadata": {},
          "execution_count": 1
        }
      ],
      "source": [
        "# Q1. What is an Exception in python? Write the difference between Exceptions and Syntax errors.\n",
        "\"\"\"\n",
        "An unwanted and unexpected event that disturbs normal flow of program is called\n",
        "exception.\n",
        "Eg:\n",
        "1) ZeroDivisionError\n",
        "2) TypeError\n",
        "3) ValueError\n",
        "4) FileNotFoundError\n",
        "5) EOFError\n",
        "6) SleepingError\n",
        "7) TyrePuncturedError\n",
        "8) The main objective of exception handling is Graceful Termination of the program (i.e we should not block our resources and weshould not miss anything)\n",
        "9) Exception handling does not mean repairing exception. We have to define alternative way to continue rest of the program normally.\n",
        "Runtime Errors:\n",
        "1) Also known as exceptions.\n",
        "2) While executing the program if something goes wrong because of end user input or\n",
        "   programming logic or memory problems etc then we will get Runtime Errors.\n",
        "Syntax Errors:\n",
        "The errors which occur because of invalid syntax are called syntax errors.\n",
        "Programmer is responsible to correct these syntax errors. Once all syntax errors are corrected then only program execution will be started.\n",
        "\"\"\""
      ]
    },
    {
      "cell_type": "code",
      "source": [
        "# Q2. What happens when an exception is not handled? Explain with an example.\n",
        "\"\"\"\n",
        "1) Every exception in Python is an object. For every exception type the corresponding\n",
        "   classes are available.\n",
        "2) Whevever an exception occurs PVM will create the corresponding exception object\n",
        "   and will check for handling code. If handling code is not available then Python\n",
        "   interpreter terminates the program abnormally and prints corresponding exception\n",
        "   information to the console.\n",
        "3) The rest of the program won't be executed.\n",
        "4) Eg: For example our programming requirement is reading data from remote file locating\n",
        "   at London. At runtime if London file is not available then the program should not be\n",
        "   terminated abnormally. We have to provide local file to continue rest of the program\n",
        "   normally. This way of defining alternative is nothing but exception handling.\n",
        "\"\"\""
      ],
      "metadata": {
        "colab": {
          "base_uri": "https://localhost:8080/",
          "height": 105
        },
        "id": "t3XHbwRkEufN",
        "outputId": "a7f6cb2c-d9b4-4281-f918-ba4ab9229d5b"
      },
      "execution_count": 2,
      "outputs": [
        {
          "output_type": "execute_result",
          "data": {
            "text/plain": [
              "\"\\n1) Every exception in Python is an object. For every exception type the corresponding\\n   classes are available.\\n2) Whevever an exception occurs PVM will create the corresponding exception object\\n   and will check for handling code. If handling code is not available then Python\\n   interpreter terminates the program abnormally and prints corresponding exception\\n   information to the console.\\n3) The rest of the program won't be executed.\\n4) Eg: For example our programming requirement is reading data from remote file locating\\n   at London. At runtime if London file is not available then the program should not be\\n   terminated abnormally. We have to provide local file to continue rest of the program\\n   normally. This way of defining alternative is nothing but exception handling.\\n\""
            ],
            "application/vnd.google.colaboratory.intrinsic+json": {
              "type": "string"
            }
          },
          "metadata": {},
          "execution_count": 2
        }
      ]
    },
    {
      "cell_type": "code",
      "source": [
        "# Q3. Which Python statements are used to catch and handle exceptions? Explain with an example.\n",
        "\"\"\"\n",
        "The code which may raise exception is called risky code and we have to take risky code\n",
        "inside try block. The corresponding handling code we have to take inside except block.\n",
        "try:\n",
        " Risky Code\n",
        "except XXX:\n",
        " Handling code/Alternative Code\n",
        "\"\"\"\n",
        "try:\n",
        "  print(10/0)\n",
        "except ZeroDivisionError:\n",
        "  print(10/2)"
      ],
      "metadata": {
        "colab": {
          "base_uri": "https://localhost:8080/"
        },
        "id": "gVr85e4DGB_0",
        "outputId": "26dada05-018b-48e4-dfc6-ecb4f5d8b370"
      },
      "execution_count": 3,
      "outputs": [
        {
          "output_type": "stream",
          "name": "stdout",
          "text": [
            "5.0\n"
          ]
        }
      ]
    },
    {
      "cell_type": "code",
      "source": [
        "# Q4. Explain with an example:\n",
        " #try and else#\n",
        " #finall\n",
        " #raise\n",
        "\"\"\"\n",
        " try-except-else-finally blocks handle potential errors (exceptions) gracefully.\n",
        " try contains code that might raise an exception, except handles specific exceptions,\n",
        " else executes if no exception occurs in try, and finally always executes, regardless of exceptions.\n",
        " The raise statement is used to explicitly raise an exception.\n",
        "\"\"\"\n",
        "try:\n",
        "  print(\"try\")\n",
        "  print(10/0)\n",
        "except ZeroDivisionError:\n",
        "  print(\"except\")\n",
        "else:\n",
        "  print(\"else\")\n",
        "finally:\n",
        "  print(\"finally\")\n",
        "print()\n",
        "try:\n",
        "  print(\"try\")\n",
        "  print(10/2)\n",
        "except ZeroDivisionError:\n",
        "  print(\"except\")\n",
        "else:\n",
        "  print(\"else\")\n",
        "finally:\n",
        "  print(\"finally\")"
      ],
      "metadata": {
        "colab": {
          "base_uri": "https://localhost:8080/"
        },
        "id": "kr1nQZijI51_",
        "outputId": "c4dca208-a4b6-4c29-84fe-dbeefe821cc8"
      },
      "execution_count": 9,
      "outputs": [
        {
          "output_type": "stream",
          "name": "stdout",
          "text": [
            "try\n",
            "except\n",
            "finally\n",
            "\n",
            "try\n",
            "5.0\n",
            "else\n",
            "finally\n"
          ]
        }
      ]
    },
    {
      "cell_type": "code",
      "source": [
        "# Q5. What are Custom Exceptions in python? Why do we need Custom Exceptions? Explain with an example.\n",
        "\"\"\"\n",
        "1) Also known as Customized Exceptions or Programatic Exceptions\n",
        "2) Some time we have to define and raise exceptions explicitly to indicate that something\n",
        "   goes wrong, such type of exceptions are called User Defined Exceptions or Customized Exceptions\n",
        "3) Programmer is responsible to define these exceptions and Python not having any idea\n",
        "   about these. Hence we have to raise explicitly based on our requirement by using\n",
        "   \"raise\" keyword.\n",
        "Eg:\n",
        "1) InSufficientFundsException\n",
        "2) InvalidInputException\n",
        "3) TooYoungException\n",
        "4) TooOldException\n",
        "Every exception in Python is a class that extends Exception class either directly or indirectly.\n",
        "Syntax:\n",
        " class classname(predefined exception class name):\n",
        "    def __init__(self,arg):\n",
        "      self.msg=ar\n",
        "Example:\n",
        "class TooYoungException(Exception):\n",
        "  def __init__(self,arg):\n",
        "    self.msg=arg\n",
        "\"\"\""
      ],
      "metadata": {
        "colab": {
          "base_uri": "https://localhost:8080/",
          "height": 122
        },
        "id": "M2E0rqhZMKUO",
        "outputId": "e82d98ad-f9a9-4d02-9985-d862864aa3bf"
      },
      "execution_count": 10,
      "outputs": [
        {
          "output_type": "execute_result",
          "data": {
            "text/plain": [
              "'\\n1) Also known as Customized Exceptions or Programatic Exceptions\\n2) Some time we have to define and raise exceptions explicitly to indicate that something\\n   goes wrong, such type of exceptions are called User Defined Exceptions or Customized Exceptions\\n3) Programmer is responsible to define these exceptions and Python not having any idea\\n   about these. Hence we have to raise explicitly based on our requirement by using\\n   \"raise\" keyword.\\nEg:\\n1) InSufficientFundsException\\n2) InvalidInputException\\n3) TooYoungException\\n4) TooOldException\\nEvery exception in Python is a class that extends Exception class either directly or indirectly.\\nSyntax:\\n class classname(predefined exception class name):\\n    def __init__(self,arg):\\n      self.msg=ar\\nExample:\\nclass TooYoungException(Exception):\\n  def __init__(self,arg):\\n    self.msg=arg\\n'"
            ],
            "application/vnd.google.colaboratory.intrinsic+json": {
              "type": "string"
            }
          },
          "metadata": {},
          "execution_count": 10
        }
      ]
    },
    {
      "cell_type": "code",
      "source": [
        "# Q6. Create a custom exception class. Use this class to handle an exception.\n",
        "class TooYoungException(Exception):\n",
        "  def __init__(self,arg):\n",
        "    self.msg=arg\n",
        "class TooOldException(Exception):\n",
        "  def __init__(self,arg):\n",
        "    self.msg=arg\n",
        "age = int(input(\"Enter your age: \"))\n",
        "if age>60:\n",
        "  raise TooOldException(\"Your age already crossed marriage age!\")\n",
        "elif age<18:\n",
        "  raise TooYoungException(\"You are not eligible for marriage!\")\n",
        "else:\n",
        "  print(\"You are eligible for marriage\")"
      ],
      "metadata": {
        "colab": {
          "base_uri": "https://localhost:8080/"
        },
        "id": "R-LCndoPOStq",
        "outputId": "6188c093-3632-4721-d3ed-1478b77c8094"
      },
      "execution_count": 11,
      "outputs": [
        {
          "output_type": "stream",
          "name": "stdout",
          "text": [
            "Enter your age: 54\n",
            "You are eligible for marriage\n"
          ]
        }
      ]
    },
    {
      "cell_type": "code",
      "source": [],
      "metadata": {
        "id": "KEEzZhIGPSSa"
      },
      "execution_count": null,
      "outputs": []
    }
  ]
}