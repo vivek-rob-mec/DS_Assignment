{
  "nbformat": 4,
  "nbformat_minor": 0,
  "metadata": {
    "colab": {
      "provenance": []
    },
    "kernelspec": {
      "name": "python3",
      "display_name": "Python 3"
    },
    "language_info": {
      "name": "python"
    }
  },
  "cells": [
    {
      "cell_type": "code",
      "execution_count": 1,
      "metadata": {
        "colab": {
          "base_uri": "https://localhost:8080/"
        },
        "id": "APmLXMk_5lv-",
        "outputId": "3df1391a-b3ed-43c1-f5cc-aca89cf44c7c"
      },
      "outputs": [
        {
          "output_type": "stream",
          "name": "stdout",
          "text": [
            "Shape of dataset: (303, 14)\n",
            "\n",
            "First 5 rows:\n",
            "    age  sex  cp  trestbps  chol  fbs  restecg  thalach  exang  oldpeak  slope  \\\n",
            "0   63    1   3       145   233    1        0      150      0      2.3      0   \n",
            "1   37    1   2       130   250    0        1      187      0      3.5      0   \n",
            "2   41    0   1       130   204    0        0      172      0      1.4      2   \n",
            "3   56    1   1       120   236    0        1      178      0      0.8      2   \n",
            "4   57    0   0       120   354    0        1      163      1      0.6      2   \n",
            "\n",
            "   ca  thal  target  \n",
            "0   0     1       1  \n",
            "1   0     2       1  \n",
            "2   0     2       1  \n",
            "3   0     2       1  \n",
            "4   0     2       1  \n",
            "\n",
            "Missing values:\n",
            " age         0\n",
            "sex         0\n",
            "cp          0\n",
            "trestbps    0\n",
            "chol        0\n",
            "fbs         0\n",
            "restecg     0\n",
            "thalach     0\n",
            "exang       0\n",
            "oldpeak     0\n",
            "slope       0\n",
            "ca          0\n",
            "thal        0\n",
            "target      0\n",
            "dtype: int64\n",
            "\n",
            "Preprocessed feature shape: (303, 30)\n"
          ]
        }
      ],
      "source": [
        "import pandas as pd\n",
        "import numpy as np\n",
        "from sklearn.preprocessing import StandardScaler, LabelEncoder\n",
        "import matplotlib.pyplot as plt\n",
        "import seaborn as sns\n",
        "\n",
        "# Load the dataset\n",
        "df = pd.read_csv(\"/content/dataset.csv\")\n",
        "\n",
        "# Display basic info\n",
        "print(\"Shape of dataset:\", df.shape)\n",
        "print(\"\\nFirst 5 rows:\\n\", df.head())\n",
        "\n",
        "# Check for missing values\n",
        "print(\"\\nMissing values:\\n\", df.isnull().sum())\n",
        "\n",
        "#  Handle missing values (if any)\n",
        "df = df.dropna()\n",
        "\n",
        "#  Separate categorical and numerical columns\n",
        "categorical_cols = ['sex', 'cp', 'fbs', 'restecg', 'exang', 'slope', 'ca', 'thal']\n",
        "numerical_cols = [col for col in df.columns if col not in categorical_cols + ['target']]\n",
        "\n",
        "#  Encode categorical variables (using LabelEncoder or OneHotEncoder)\n",
        "df_encoded = pd.get_dummies(df, columns=categorical_cols)\n",
        "\n",
        "# Scale numerical features\n",
        "scaler = StandardScaler()\n",
        "df_encoded[numerical_cols] = scaler.fit_transform(df_encoded[numerical_cols])\n",
        "\n",
        "# Final feature set and target\n",
        "X = df_encoded.drop('target', axis=1)\n",
        "y = df_encoded['target']\n",
        "\n",
        "print(\"\\nPreprocessed feature shape:\", X.shape)\n"
      ]
    },
    {
      "cell_type": "code",
      "source": [
        "from sklearn.model_selection import train_test_split\n",
        "\n",
        "# Split dataset: 70% train, 30% test\n",
        "X_train, X_test, y_train, y_test = train_test_split(\n",
        "    X, y, test_size=0.3, random_state=42, stratify=y\n",
        ")\n",
        "\n",
        "X_train.shape, X_test.shape, y_train.shape, y_test.shape\n",
        "\"\"\"\n",
        "Training set: 212 samples\n",
        "\n",
        "Test set: 91 samples\n",
        "\n",
        "Features: 30 (after encoding and scaling)\n",
        "\"\"\"\n"
      ],
      "metadata": {
        "colab": {
          "base_uri": "https://localhost:8080/"
        },
        "id": "iI1L8BDh6rUg",
        "outputId": "aca2d38d-7fc4-4893-c3d7-b044a7c3a7d8"
      },
      "execution_count": 2,
      "outputs": [
        {
          "output_type": "execute_result",
          "data": {
            "text/plain": [
              "((212, 30), (91, 30), (212,), (91,))"
            ]
          },
          "metadata": {},
          "execution_count": 2
        }
      ]
    },
    {
      "cell_type": "code",
      "source": [
        "\"\"\"\n",
        "###  Train a Random Forest Classifier\n",
        "**Specifications:**\n",
        "- 100 trees (`n_estimators=100`)\n",
        "- Max depth of 10 (`max_depth=10`)\n",
        "- Use default for other hyperparameters\n",
        "\"\"\"\n",
        "from sklearn.ensemble import RandomForestClassifier\n",
        "\n",
        "# Initialize and train the Random Forest classifier\n",
        "rf_model = RandomForestClassifier(n_estimators=100, max_depth=10, random_state=42)\n",
        "rf_model.fit(X_train, y_train)\n",
        "\n",
        "# Predict on the test set\n",
        "y_pred = rf_model.predict(X_test)\n",
        "\n",
        "y_pred[:5]  # Show first 5 predictions as a sample\n",
        "\n"
      ],
      "metadata": {
        "colab": {
          "base_uri": "https://localhost:8080/"
        },
        "id": "T7Dk83M_7mI-",
        "outputId": "4a31f522-cc99-4823-9bd8-a06324e312d7"
      },
      "execution_count": 3,
      "outputs": [
        {
          "output_type": "execute_result",
          "data": {
            "text/plain": [
              "array([1, 1, 0, 0, 1])"
            ]
          },
          "metadata": {},
          "execution_count": 3
        }
      ]
    },
    {
      "cell_type": "code",
      "source": [
        "\"\"\"\n",
        "### Q4. Evaluate the model\n",
        "\n",
        "We'll compute:\n",
        "- Accuracy\n",
        "- Precision\n",
        "- Recall\n",
        "- F1 Score\n",
        "\"\"\"\n",
        "from sklearn.metrics import accuracy_score, precision_score, recall_score, f1_score\n",
        "\n",
        "# Evaluate model performance\n",
        "accuracy = accuracy_score(y_test, y_pred)\n",
        "precision = precision_score(y_test, y_pred)\n",
        "recall = recall_score(y_test, y_pred)\n",
        "f1 = f1_score(y_test, y_pred)\n",
        "\n",
        "print(\"Accuracy:\", accuracy)\n",
        "print(\"Precision:\", precision)\n",
        "print(\"Recall:\", recall)\n",
        "print(\"F1 Score:\", f1)\n"
      ],
      "metadata": {
        "colab": {
          "base_uri": "https://localhost:8080/"
        },
        "id": "rg6SGcIa8A9C",
        "outputId": "9a9cb857-8ffc-4038-d9b9-92a974663e61"
      },
      "execution_count": 4,
      "outputs": [
        {
          "output_type": "stream",
          "name": "stdout",
          "text": [
            "Accuracy: 0.7912087912087912\n",
            "Precision: 0.7719298245614035\n",
            "Recall: 0.88\n",
            "F1 Score: 0.822429906542056\n"
          ]
        }
      ]
    },
    {
      "cell_type": "markdown",
      "source": [
        "###  Completed: Model Evaluation**\n",
        "\n",
        "Here are your evaluation metrics:\n",
        "\n",
        "| Metric     | Value     |\n",
        "|------------|-----------|\n",
        "| Accuracy   | **79.1%** |\n",
        "| Precision  | **77.2%** |\n",
        "| Recall     | **88.0%** |\n",
        "| F1 Score   | **82.2%** |\n",
        "\n",
        "###  Quick Interpretation:\n",
        "- **High recall**: Great at identifying patients with heart disease.\n",
        "- **Precision slightly lower**: A few false positives exist, but not excessive.\n",
        "- **F1 Score**: Balanced performance between precision and recall — overall, your model is performing well!\n",
        "\n",
        "---\n",
        "\n",
        "### Q5. Feature Importance & Bar Chart\n",
        "\n",
        "We’ll:\n",
        "1. Extract feature importances from the Random Forest model.\n",
        "2. Show the **top 5 most important features**.\n",
        "3. Plot them using a bar chart."
      ],
      "metadata": {
        "id": "gHP4CVhN8cFJ"
      }
    },
    {
      "cell_type": "code",
      "source": [
        "import matplotlib.pyplot as plt\n",
        "import seaborn as sns\n",
        "import pandas as pd\n",
        "\n",
        "# Get feature importances\n",
        "importances = rf_model.feature_importances_\n",
        "feature_names = X.columns\n",
        "\n",
        "# Create a DataFrame for visualization\n",
        "feat_imp_df = pd.DataFrame({'Feature': feature_names, 'Importance': importances})\n",
        "feat_imp_df = feat_imp_df.sort_values(by='Importance', ascending=False).reset_index(drop=True)\n",
        "\n",
        "# Get top 5\n",
        "top5_features = feat_imp_df.head(5)\n",
        "print(top5_features)\n",
        "\n",
        "# Plot\n",
        "plt.figure(figsize=(8, 5))\n",
        "sns.barplot(data=top5_features, x='Importance', y='Feature', palette='viridis')\n",
        "plt.title('Top 5 Important Features for Heart Disease Prediction')\n",
        "plt.xlabel('Feature Importance')\n",
        "plt.ylabel('Feature')\n",
        "plt.tight_layout()\n",
        "plt.show()\n"
      ],
      "metadata": {
        "colab": {
          "base_uri": "https://localhost:8080/",
          "height": 718
        },
        "id": "k5J-wWo78S-p",
        "outputId": "978c059d-b611-400b-803b-b328ca0aaf31"
      },
      "execution_count": 5,
      "outputs": [
        {
          "output_type": "stream",
          "name": "stdout",
          "text": [
            "   Feature  Importance\n",
            "0     cp_0    0.113451\n",
            "1   thal_2    0.104556\n",
            "2  oldpeak    0.100531\n",
            "3  thalach    0.097991\n",
            "4   thal_3    0.071063\n"
          ]
        },
        {
          "output_type": "stream",
          "name": "stderr",
          "text": [
            "<ipython-input-5-07b3d799dda3>:19: FutureWarning: \n",
            "\n",
            "Passing `palette` without assigning `hue` is deprecated and will be removed in v0.14.0. Assign the `y` variable to `hue` and set `legend=False` for the same effect.\n",
            "\n",
            "  sns.barplot(data=top5_features, x='Importance', y='Feature', palette='viridis')\n"
          ]
        },
        {
          "output_type": "display_data",
          "data": {
            "text/plain": [
              "<Figure size 800x500 with 1 Axes>"
            ],
            "image/png": "[encoded data removed]"
          },
          "metadata": {}
        }
      ]
    },
    {
      "cell_type": "markdown",
      "source": [
        "### Top 5 Important Features**\n",
        "\n",
        "| Rank | Feature   | Description                              | Importance |\n",
        "|------|-----------|------------------------------------------|------------|\n",
        "| 1    | `cp_0`     | Chest pain type: typical angina          | **0.113**  |\n",
        "| 2    | `thal_2`   | Thalassemia: fixed defect                | **0.105**  |\n",
        "| 3    | `oldpeak`  | ST depression (exercise-induced)         | **0.101**  |\n",
        "| 4    | `thalach`  | Max heart rate achieved                  | **0.098**  |\n",
        "| 5    | `thal_3`   | Thalassemia: reversible defect           | **0.071**  |\n",
        "\n",
        "---\n",
        "\n",
        "###  Quick Interpretation:\n",
        "\n",
        "- **Chest pain type (`cp_0`)** is a strong predictor. People with typical angina may be at lower risk.\n",
        "- **Thalassemia results (`thal_2` and `thal_3`)** show up twice — abnormal blood flow patterns are strong indicators.\n",
        "- **`oldpeak` and `thalach`** are both exercise-related heart response measures — crucial for diagnosing heart conditions.\n",
        "\n",
        "---\n",
        "\n",
        "###  Q6. Hyperparameter tuning using GridSearchCV (5-fold)\n",
        "\n",
        "We'll tune:\n",
        "- `n_estimators` (number of trees)\n",
        "- `max_depth`\n",
        "- `min_samples_split`\n",
        "- `min_samples_leaf`"
      ],
      "metadata": {
        "id": "8sCY8S7x9bvN"
      }
    },
    {
      "cell_type": "code",
      "source": [
        "# Q6\n",
        "from sklearn.ensemble import RandomForestClassifier\n",
        "from sklearn.model_selection import GridSearchCV\n",
        "\n",
        "# Define hyperparameter grid\n",
        "param_grid = {\n",
        "    'n_estimators': [50, 100, 150],\n",
        "    'max_depth': [5, 10, 15],\n",
        "    'min_samples_split': [2, 5, 10],\n",
        "    'min_samples_leaf': [1, 2, 4]\n",
        "}\n",
        "\n",
        "# Initialize model\n",
        "rf = RandomForestClassifier(random_state=42)\n",
        "\n",
        "# Setup GridSearch with 5-fold CV\n",
        "grid_search = GridSearchCV(estimator=rf, param_grid=param_grid,\n",
        "                           cv=5, scoring='f1', n_jobs=-1, verbose=1)\n",
        "\n",
        "# Fit the grid search\n",
        "grid_search.fit(X_train, y_train)\n",
        "\n",
        "# Best parameters and model\n",
        "print(\"Best Parameters:\", grid_search.best_params_)\n",
        "\n",
        "# Evaluate on test set\n",
        "best_model = grid_search.best_estimator_\n",
        "y_pred_best = best_model.predict(X_test)\n",
        "\n",
        "from sklearn.metrics import classification_report\n",
        "print(classification_report(y_test, y_pred_best))\n"
      ],
      "metadata": {
        "colab": {
          "base_uri": "https://localhost:8080/"
        },
        "id": "QzzPdLsb8pSA",
        "outputId": "05ce6f9b-5a7e-422e-dcca-15e0d31bceca"
      },
      "execution_count": 6,
      "outputs": [
        {
          "output_type": "stream",
          "name": "stdout",
          "text": [
            "Fitting 5 folds for each of 81 candidates, totalling 405 fits\n",
            "Best Parameters: {'max_depth': 5, 'min_samples_leaf': 2, 'min_samples_split': 5, 'n_estimators': 150}\n",
            "              precision    recall  f1-score   support\n",
            "\n",
            "           0       0.84      0.66      0.74        41\n",
            "           1       0.76      0.90      0.83        50\n",
            "\n",
            "    accuracy                           0.79        91\n",
            "   macro avg       0.80      0.78      0.78        91\n",
            "weighted avg       0.80      0.79      0.79        91\n",
            "\n"
          ]
        }
      ]
    },
    {
      "cell_type": "code",
      "source": [
        "from sklearn.metrics import accuracy_score, classification_report\n",
        "\n",
        "# Assuming y_test is the true labels and y_pred is the predictions from the tuned model\n",
        "print(\"Accuracy: \", accuracy_score(y_test, y_pred))\n",
        "print(\"Classification Report: \\n\", classification_report(y_test, y_pred))\n"
      ],
      "metadata": {
        "colab": {
          "base_uri": "https://localhost:8080/"
        },
        "id": "WMCNjjIA9HFv",
        "outputId": "d984e8bf-4f54-45c0-bc23-84593de03851"
      },
      "execution_count": 7,
      "outputs": [
        {
          "output_type": "stream",
          "name": "stdout",
          "text": [
            "Accuracy:  0.7912087912087912\n",
            "Classification Report: \n",
            "               precision    recall  f1-score   support\n",
            "\n",
            "           0       0.82      0.68      0.75        41\n",
            "           1       0.77      0.88      0.82        50\n",
            "\n",
            "    accuracy                           0.79        91\n",
            "   macro avg       0.80      0.78      0.78        91\n",
            "weighted avg       0.80      0.79      0.79        91\n",
            "\n"
          ]
        }
      ]
    },
    {
      "cell_type": "code",
      "source": [
        "from sklearn.ensemble import RandomForestClassifier\n",
        "\n",
        "# Default model\n",
        "default_model = RandomForestClassifier()\n",
        "default_model.fit(X_train, y_train)\n",
        "y_pred_default = default_model.predict(X_test)\n",
        "\n",
        "# Performance metrics of the default model\n",
        "print(\"Accuracy of Default Model: \", accuracy_score(y_test, y_pred_default))\n",
        "print(\"Classification Report of Default Model: \\n\", classification_report(y_test, y_pred_default))\n"
      ],
      "metadata": {
        "colab": {
          "base_uri": "https://localhost:8080/"
        },
        "id": "i3lZUKuC-X9o",
        "outputId": "2be3c1ed-0bcf-4219-b58d-7c4833ca9e87"
      },
      "execution_count": 8,
      "outputs": [
        {
          "output_type": "stream",
          "name": "stdout",
          "text": [
            "Accuracy of Default Model:  0.7692307692307693\n",
            "Classification Report of Default Model: \n",
            "               precision    recall  f1-score   support\n",
            "\n",
            "           0       0.76      0.71      0.73        41\n",
            "           1       0.77      0.82      0.80        50\n",
            "\n",
            "    accuracy                           0.77        91\n",
            "   macro avg       0.77      0.76      0.77        91\n",
            "weighted avg       0.77      0.77      0.77        91\n",
            "\n"
          ]
        }
      ]
    },
    {
      "cell_type": "code",
      "source": [],
      "metadata": {
        "id": "nl7X2n-BA6LH"
      },
      "execution_count": null,
      "outputs": []
    }
  ]
}