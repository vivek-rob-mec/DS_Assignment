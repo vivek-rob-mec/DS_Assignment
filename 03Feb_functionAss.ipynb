{
  "nbformat": 4,
  "nbformat_minor": 0,
  "metadata": {
    "colab": {
      "provenance": []
    },
    "kernelspec": {
      "name": "python3",
      "display_name": "Python 3"
    },
    "language_info": {
      "name": "python"
    }
  },
  "cells": [
    {
      "cell_type": "code",
      "execution_count": 1,
      "metadata": {
        "colab": {
          "base_uri": "https://localhost:8080/"
        },
        "id": "IJRzdja2049j",
        "outputId": "96494fe7-0e8d-40f0-8cff-a2e7ab329e9c"
      },
      "outputs": [
        {
          "output_type": "stream",
          "name": "stdout",
          "text": [
            "[1, 3, 5, 7, 9, 11, 13, 15, 17, 19, 21, 23, 25]\n"
          ]
        }
      ],
      "source": [
        "\"\"\"\n",
        "Q1. Which keyword is used to create a function? Create a function to return a list of odd numbers in the\n",
        "range of 1 to 25.\n",
        "Ans: def keyword is used to create a function\n",
        "\"\"\"\n",
        "def odd_num():\n",
        "  odd_li = []\n",
        "  for i in range(1,26):\n",
        "    if i%2 != 0:\n",
        "      odd_li.append(i)\n",
        "  return odd_li\n",
        "print(odd_num())"
      ]
    },
    {
      "cell_type": "code",
      "source": [
        "\"\"\"\n",
        "Q2. Why *args and **kwargs is used in some functions? Create a function each for *args and **kwargs\n",
        "to demonstrate their use.\n",
        "Ans: *args and **kwargs are called variable length arguments, using which we can pass variable number of arguments to our function\n",
        "     *args: It is used to pass a non-keyworded, variable-length argument including zero.\n",
        "     **kwargs: It is used to pass a keyworded, variable-length argument including zero.\n",
        "\"\"\"\n",
        "def f1(*n1):\n",
        "  for i in n1:\n",
        "    print(i)\n",
        "f1('a',1,[1,2,3])\n",
        "\n",
        "def f2(**kwargs):\n",
        "  for k,v in kwargs.items():\n",
        "    print(k,\" = \",v)\n",
        "f2(name='vivek',b=1,c=[])"
      ],
      "metadata": {
        "colab": {
          "base_uri": "https://localhost:8080/"
        },
        "id": "Bp3kCLCJ8s48",
        "outputId": "ce542ab6-442d-48b1-bfc9-ef3a402ead5e"
      },
      "execution_count": 6,
      "outputs": [
        {
          "output_type": "stream",
          "name": "stdout",
          "text": [
            "a\n",
            "1\n",
            "[1, 2, 3]\n",
            "name  =  vivek\n",
            "b  =  1\n",
            "c  =  []\n"
          ]
        }
      ]
    },
    {
      "cell_type": "code",
      "source": [
        "\"\"\"\n",
        "Q3. What is an iterator in python? Name the method used to initialise the iterator object and the method\n",
        "used for iteration. Use these methods to print the first five elements of the given list [2, 4, 6, 8, 10, 12, 14,\n",
        "16, 18, 20].\n",
        "Ans: Iterator is an object which contains a countable number of items created using list, tuple, dictionary, using iterator we can traverse through all the values\n",
        "     and the methods used are iter() and next()\n",
        "\"\"\"\n",
        "list = [2,4,6,8,10,12,14,16,18,20]\n",
        "list_iter = iter(list)\n",
        "print(next(list_iter))\n",
        "print(next(list_iter))\n",
        "print(next(list_iter))\n",
        "print(next(list_iter))\n",
        "print(next(list_iter))"
      ],
      "metadata": {
        "colab": {
          "base_uri": "https://localhost:8080/"
        },
        "id": "CLF_gBmxFNuZ",
        "outputId": "b59a208f-e8ba-4542-ceda-c2d3fd99df7d"
      },
      "execution_count": 8,
      "outputs": [
        {
          "output_type": "stream",
          "name": "stdout",
          "text": [
            "2\n",
            "4\n",
            "6\n",
            "8\n",
            "10\n"
          ]
        }
      ]
    },
    {
      "cell_type": "code",
      "source": [
        "\"\"\"\n",
        "Q4. What is a generator function in python? Why yield keyword is used? Give an example of a generator\n",
        "function.\n",
        "Ans: Generator function is a type of function that return an iterator object, instead of using a return to send back a single value we use\n",
        "     yield to return a sequence of value\n",
        "\"\"\"\n",
        "x_gen = (x*x for x in range(5))\n",
        "print(type(x))\n",
        "\n",
        "for i in x_gen:\n",
        "  print(i)\n",
        "\n",
        "def fun_yield():\n",
        "  for i in range(5):\n",
        "    yield i\n",
        "for value in fun_yield():\n",
        "  print(value)"
      ],
      "metadata": {
        "colab": {
          "base_uri": "https://localhost:8080/"
        },
        "id": "IAsBoT9iLojA",
        "outputId": "9080ff24-c256-4a12-d561-6c8051067ebb"
      },
      "execution_count": 15,
      "outputs": [
        {
          "output_type": "stream",
          "name": "stdout",
          "text": [
            "<class 'generator'>\n",
            "0\n",
            "1\n",
            "4\n",
            "9\n",
            "16\n",
            "0\n",
            "1\n",
            "2\n",
            "3\n",
            "4\n"
          ]
        }
      ]
    },
    {
      "cell_type": "code",
      "source": [
        "\"\"\"\n",
        "Q5. Create a generator function for prime numbers less than 1000. Use the next() method to print the\n",
        "first 20 prime numbers.\n",
        "\"\"\"\n",
        "prime_gen = (x for x in range(2,1000) if all(x%y != 0 for y in range(2,x)))\n",
        "prime_iter = iter(prime_gen)\n",
        "for i in range(20):\n",
        "  print(next(prime_iter))\n",
        "\n",
        "type(prime_gen)"
      ],
      "metadata": {
        "colab": {
          "base_uri": "https://localhost:8080/"
        },
        "id": "e5N4DjtVWhk2",
        "outputId": "cc9ee6e7-5daa-492f-dffc-6026d7d650f0"
      },
      "execution_count": 38,
      "outputs": [
        {
          "output_type": "stream",
          "name": "stdout",
          "text": [
            "2\n",
            "3\n",
            "5\n",
            "7\n",
            "11\n",
            "13\n",
            "17\n",
            "19\n",
            "23\n",
            "29\n",
            "31\n",
            "37\n",
            "41\n",
            "43\n",
            "47\n",
            "53\n",
            "59\n",
            "61\n",
            "67\n",
            "71\n"
          ]
        },
        {
          "output_type": "execute_result",
          "data": {
            "text/plain": [
              "generator"
            ]
          },
          "metadata": {},
          "execution_count": 38
        }
      ]
    },
    {
      "cell_type": "code",
      "source": [
        "# Q6. Write a python program to print the first 10 Fibonacci numbers using a while loop.\n",
        "a,b = 0,1\n",
        "count = 1\n",
        "while count <= 10:\n",
        "  print(a)\n",
        "  a,b = b, a+b\n",
        "  count = count + 1"
      ],
      "metadata": {
        "colab": {
          "base_uri": "https://localhost:8080/"
        },
        "id": "PHgYhka9Yl7D",
        "outputId": "532b3c28-4dc3-40cc-a306-1604188935a7"
      },
      "execution_count": 2,
      "outputs": [
        {
          "output_type": "stream",
          "name": "stdout",
          "text": [
            "0\n",
            "1\n",
            "1\n",
            "2\n",
            "3\n",
            "5\n",
            "8\n",
            "13\n",
            "21\n",
            "34\n"
          ]
        }
      ]
    },
    {
      "cell_type": "code",
      "source": [
        "# Q7. Write a List Comprehension to iterate through the given string: ‘pwskills’.\n",
        "# Expected output: ['p', 'w', 's', 'k', 'i', 'l', 'l', 's']\n",
        "\n",
        "string = 'pwskills'\n",
        "list = []\n",
        "for i in string:\n",
        "  list.append(i)\n",
        "print(list)"
      ],
      "metadata": {
        "colab": {
          "base_uri": "https://localhost:8080/"
        },
        "id": "K1h2Pu7kISik",
        "outputId": "8feb5ab6-0aa4-4788-82f3-310df309c648"
      },
      "execution_count": 4,
      "outputs": [
        {
          "output_type": "stream",
          "name": "stdout",
          "text": [
            "['p', 'w', 's', 'k', 'i', 'l', 'l', 's']\n"
          ]
        }
      ]
    },
    {
      "cell_type": "code",
      "source": [
        "# Q8. Write a python program to check whether a given number is Palindrome or not using a while loop.\n",
        "num = int(input(\"Enter a number: \"))\n",
        "original_num = num\n",
        "rem = 0\n",
        "while num > 0:\n",
        "  last_digit = num % 10\n",
        "  rem = rem * 10 + last_digit\n",
        "  num = num // 10\n",
        "\n",
        "if original_num == rem:\n",
        "  print(\"Entered number is palindrome\")\n",
        "else:\n",
        "  print(\"It is not palindrome\")"
      ],
      "metadata": {
        "colab": {
          "base_uri": "https://localhost:8080/"
        },
        "id": "ySDmStW-JWJK",
        "outputId": "152ce7da-3c1f-4a72-c798-a0f1dd41af7c"
      },
      "execution_count": 12,
      "outputs": [
        {
          "output_type": "stream",
          "name": "stdout",
          "text": [
            "Enter a number: 121\n",
            "Entered number is palindrome\n"
          ]
        }
      ]
    },
    {
      "cell_type": "code",
      "source": [
        "# Q9. Write a code to print odd numbers from 1 to 100 using list comprehension."
      ],
      "metadata": {
        "colab": {
          "base_uri": "https://localhost:8080/"
        },
        "id": "4FfkXhwVL8fL",
        "outputId": "2b4b9325-5bdd-439a-d2d4-5af54939f6e5"
      },
      "execution_count": 5,
      "outputs": [
        {
          "output_type": "execute_result",
          "data": {
            "text/plain": [
              "5"
            ]
          },
          "metadata": {},
          "execution_count": 5
        }
      ]
    },
    {
      "cell_type": "code",
      "source": [
        "25//10"
      ],
      "metadata": {
        "colab": {
          "base_uri": "https://localhost:8080/"
        },
        "id": "whOKey1hL98o",
        "outputId": "39969155-e1af-437a-a120-6a7c0dbeea63"
      },
      "execution_count": 6,
      "outputs": [
        {
          "output_type": "execute_result",
          "data": {
            "text/plain": [
              "2"
            ]
          },
          "metadata": {},
          "execution_count": 6
        }
      ]
    },
    {
      "cell_type": "code",
      "source": [
        "odd_num = [i for i in range(1,100) if i % 2 != 0]\n",
        "print(odd_num)"
      ],
      "metadata": {
        "colab": {
          "base_uri": "https://localhost:8080/"
        },
        "id": "pC4p9w8aMGJZ",
        "outputId": "6adb3373-f6e4-4fc2-8846-766090939b6e"
      },
      "execution_count": 16,
      "outputs": [
        {
          "output_type": "stream",
          "name": "stdout",
          "text": [
            "[1, 3, 5, 7, 9, 11, 13, 15, 17, 19, 21, 23, 25, 27, 29, 31, 33, 35, 37, 39, 41, 43, 45, 47, 49, 51, 53, 55, 57, 59, 61, 63, 65, 67, 69, 71, 73, 75, 77, 79, 81, 83, 85, 87, 89, 91, 93, 95, 97, 99]\n"
          ]
        }
      ]
    },
    {
      "cell_type": "code",
      "source": [],
      "metadata": {
        "id": "zu-_taKUZHuB"
      },
      "execution_count": null,
      "outputs": []
    }
  ]
}