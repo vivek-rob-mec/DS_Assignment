{
  "nbformat": 4,
  "nbformat_minor": 0,
  "metadata": {
    "colab": {
      "provenance": []
    },
    "kernelspec": {
      "name": "python3",
      "display_name": "Python 3"
    },
    "language_info": {
      "name": "python"
    }
  },
  "cells": [
    {
      "cell_type": "code",
      "execution_count": 3,
      "metadata": {
        "colab": {
          "base_uri": "https://localhost:8080/",
          "height": 129
        },
        "id": "JZAb06GK630a",
        "outputId": "cff582d5-1a0f-4fc5-b6e7-8b33158a2b07"
      },
      "outputs": [
        {
          "output_type": "execute_result",
          "data": {
            "text/plain": [
              "'\\nQ1. Explain Class and Object with respect to Object-Oriented Programming. Give a suitable example.\\nAns:\\n1) In Python every thing is an object. To create objects we required some Model or Plan\\nor Blue print, which is nothing but class.\\n2) We can write a class to represent properties (attributes) and actions (behaviour) of\\nobject.\\n3) Properties can be represented by variables\\n4) Actions can be represented by Methods.\\n5) Hence class contains both variables and methods.\\nSyntax:\\n  class className:\\n    \"document string\"\\nExample:\\n  class student:\\n    def __init__(self,name,age,dob):\\n      self.name = name\\n      self.age = age\\n      self.dob = dob\\n6) Classes are used to create user-defined data structures. Classes also have special functions, called methods, \\n   that define behaviors and actions that an object created from the class can perform with its data.\\n7) Pysical existence of a class is nothing but object. We can create any number of objects for\\na class.\\nSyntax to Create Object: referencevariable = classname()\\nExample: s = student()\\n'"
            ],
            "application/vnd.google.colaboratory.intrinsic+json": {
              "type": "string"
            }
          },
          "metadata": {},
          "execution_count": 3
        }
      ],
      "source": [
        "\"\"\"\n",
        "Q1. Explain Class and Object with respect to Object-Oriented Programming. Give a suitable example.\n",
        "Ans:\n",
        "1) In Python every thing is an object. To create objects we required some Model or Plan\n",
        "or Blue print, which is nothing but class.\n",
        "2) We can write a class to represent properties (attributes) and actions (behaviour) of\n",
        "object.\n",
        "3) Properties can be represented by variables\n",
        "4) Actions can be represented by Methods.\n",
        "5) Hence class contains both variables and methods.\n",
        "Syntax:\n",
        "  class className:\n",
        "    \"document string\"\n",
        "Example:\n",
        "  class student:\n",
        "    def __init__(self,name,age,dob):\n",
        "      self.name = name\n",
        "      self.age = age\n",
        "      self.dob = dob\n",
        "6) Classes are used to create user-defined data structures. Classes also have special functions, called methods,\n",
        "   that define behaviors and actions that an object created from the class can perform with its data.\n",
        "7) Pysical existence of a class is nothing but object. We can create any number of objects for\n",
        "a class.\n",
        "Syntax to Create Object: referencevariable = classname()\n",
        "Example: s = student()\n",
        "\"\"\""
      ]
    },
    {
      "cell_type": "code",
      "source": [
        "# Q2. Name the four pillars of OOPs.\n",
        "\"\"\"\n",
        "1) Abstraction.\n",
        "2) Polymorphism.\n",
        "3) Inheritance.\n",
        "4) Encapsulation.\n",
        "\"\"\""
      ],
      "metadata": {
        "colab": {
          "base_uri": "https://localhost:8080/",
          "height": 36
        },
        "id": "J5SzejLfHB0w",
        "outputId": "66330c42-a98b-4e91-da2e-4ca879782c77"
      },
      "execution_count": 4,
      "outputs": [
        {
          "output_type": "execute_result",
          "data": {
            "text/plain": [
              "'\\n1) Abstraction.\\n2) Polymorphism.\\n3) Inheritance.\\n4) Encapsulation.\\n'"
            ],
            "application/vnd.google.colaboratory.intrinsic+json": {
              "type": "string"
            }
          },
          "metadata": {},
          "execution_count": 4
        }
      ]
    },
    {
      "cell_type": "code",
      "source": [
        "\"\"\"\n",
        "Q3. Explain why the __init__() function is used. Give a suitable example.\n",
        "Ans:\n",
        "The __init__() function is a special method (constructor) in Python classes. It is automatically called when an object of the class is created.\n",
        "\n",
        "Purpose of __init__():\n",
        "1) Initializes object attributes when an instance is created.\n",
        "2) Allows automatic assignment of values to instance variables.\n",
        "3) Improves code readability and structure by avoiding manual attribute setting.\n",
        "\"\"\"\n",
        "class student:\n",
        "  def __init__(self, name,age):\n",
        "    self.name = name\n",
        "    self.age = age\n",
        "\n",
        "  def disp_info(self):\n",
        "    print(f\"Name: {self.name}, Age : {self.age}\")\n",
        "\n",
        "studnet1 = student('vivek',24)\n",
        "studnet2 = student('neetu',23)\n",
        "\n",
        "studnet1.disp_info()"
      ],
      "metadata": {
        "colab": {
          "base_uri": "https://localhost:8080/"
        },
        "id": "f9b-tQn-HVCZ",
        "outputId": "688a88e4-d34e-48ea-d68d-555295ce6e18"
      },
      "execution_count": 6,
      "outputs": [
        {
          "output_type": "stream",
          "name": "stdout",
          "text": [
            "Name: vivek, Age : 24\n"
          ]
        }
      ]
    },
    {
      "cell_type": "code",
      "source": [
        "# Q4. Why self is used in OOPs?\n",
        "\"\"\"\n",
        "1) self refers to the current instance of the class.\n",
        "2) It is used to access variable and methods inside the class.\n",
        "3) Refers to the current object, help to differentiate between local variable and instance variable\n",
        "4) Allows access to attribute and methods, without self we can't retrive object data\n",
        "5) Must be first paramter inside a class\n",
        "\"\"\""
      ],
      "metadata": {
        "colab": {
          "base_uri": "https://localhost:8080/",
          "height": 55
        },
        "id": "0vHXUAw0I6m9",
        "outputId": "eb86eb4a-502d-4a46-96de-81aaa9de9d8e"
      },
      "execution_count": 7,
      "outputs": [
        {
          "output_type": "execute_result",
          "data": {
            "text/plain": [
              "\"\\n1) self refers to the current instance of the class.\\n2) It is used to access variable and methods inside the class.\\n3) Refers to the current object, help to differentiate between local variable and instance variable\\n4) Allows access to attribute and methods, without self we can't retrive object data\\n5) Must be first paramter inside a class\\n\""
            ],
            "application/vnd.google.colaboratory.intrinsic+json": {
              "type": "string"
            }
          },
          "metadata": {},
          "execution_count": 7
        }
      ]
    },
    {
      "cell_type": "code",
      "source": [
        "# Q5. What is inheritance? Give an example for each type of inheritance.\n",
        "\"\"\"\n",
        "Inheritance allows a class (called a child or derived class)\n",
        "to inherit attributes and methods from another class (called a parent or base class).\n",
        "This promotes code reuse, modularity, and a hierarchical class structure.\n",
        "\n",
        "Types of Python Inheritance\n",
        "1) Single Inheritance: A child class inherits from one parent class.\n",
        "2) Multiple Inheritance: A child class inherits from more than one parent class.\n",
        "3) Multilevel Inheritance: A class is derived from a class which is also derived from another class.\n",
        "4) Hierarchical Inheritance: Multiple classes inherit from a single parent class.\n",
        "5) Hybrid Inheritance: A combination of more than one type of inheritance.\n"
      ],
      "metadata": {
        "id": "Yk4SAgLfLpoD"
      },
      "execution_count": null,
      "outputs": []
    }
  ]
}